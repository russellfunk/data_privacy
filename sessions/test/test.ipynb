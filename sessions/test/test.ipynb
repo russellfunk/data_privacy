{
 "cells": [
  {
   "cell_type": "markdown",
   "metadata": {},
   "source": [
    "# Test\n",
    "\n",
    "In this notebook, we'll test some technology that we'll use for some future sessions.\n",
    "\n",
    "# Preliminaries\n",
    "\n",
    "Let's start by loading some packages. "
   ]
  },
  {
   "cell_type": "code",
   "execution_count": 1,
   "metadata": {},
   "outputs": [],
   "source": [
    "# load some built in packages\n",
    "import itertools\n",
    "import json\n",
    "\n",
    "# load some third party packages\n",
    "import numpy as np\n",
    "import pandas as pd\n",
    "import gensim\n",
    "import gensim.downloader as api\n",
    "import spacy\n",
    "import textacy\n",
    "import umap\n",
    "import umap.plot\n",
    "import matplotlib.pyplot as plt\n",
    "from bokeh.plotting import show, output_notebook\n",
    "import tqdm"
   ]
  },
  {
   "cell_type": "code",
   "execution_count": 2,
   "metadata": {},
   "outputs": [],
   "source": [
    "# initialize tqdm\n",
    "tqdm.tqdm.pandas()"
   ]
  },
  {
   "cell_type": "code",
   "execution_count": 3,
   "metadata": {},
   "outputs": [],
   "source": [
    "# for umap warnings\n",
    "from matplotlib.axes._axes import _log as matplotlib_axes_logger\n",
    "matplotlib_axes_logger.setLevel(\"ERROR\")"
   ]
  },
  {
   "cell_type": "code",
   "execution_count": 4,
   "metadata": {},
   "outputs": [],
   "source": [
    "# load spacy nlp model\n",
    "nlp = spacy.load(\"en_core_web_lg\", disable=[\"parser\"])\n",
    "nlp.max_length = 2000000"
   ]
  },
  {
   "cell_type": "code",
   "execution_count": 5,
   "metadata": {},
   "outputs": [],
   "source": [
    "# download and load some gensim models\n",
    "embeddings = gensim.downloader.load(\"glove-wiki-gigaword-50\")"
   ]
  },
  {
   "cell_type": "markdown",
   "metadata": {},
   "source": [
    "You can get more information on our model like this."
   ]
  },
  {
   "cell_type": "markdown",
   "metadata": {},
   "source": [
    "Download a few other models to test things out.\n",
    "  * `glove-wiki-gigaword-50`\n",
    "  * `glove-wiki-gigaword-100`\n",
    "  * `glove-wiki-gigaword-200`\n",
    "  * `glove-wiki-gigaword-300`\n",
    "  * `glove-twitter-25`\n",
    "  * `glove-twitter-50`\n",
    "  * `glove-twitter-100`\n",
    "  * `glove-twitter-200`"
   ]
  }
 ],
 "metadata": {
  "kernelspec": {
   "display_name": "Python 3",
   "language": "python",
   "name": "python3"
  },
  "language_info": {
   "codemirror_mode": {
    "name": "ipython",
    "version": 3
   },
   "file_extension": ".py",
   "mimetype": "text/x-python",
   "name": "python",
   "nbconvert_exporter": "python",
   "pygments_lexer": "ipython3",
   "version": "3.9.7"
  }
 },
 "nbformat": 4,
 "nbformat_minor": 4
}
