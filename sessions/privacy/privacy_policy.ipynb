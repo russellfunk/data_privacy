{
 "cells": [
  {
   "cell_type": "markdown",
   "metadata": {},
   "source": [
    "# Evaluate a privacy policy\n",
    "\n",
    "Today, virtually every organization with which you interact will collect or use some about you. Most typically, the collection and use of these data will be disclosed according to an organization's privacy policy. We encounter these privacy polices all the time, when we create an account on a website, open a new credit card, or even sign up for grocery store loyalty program. Yet despite (or perhaps because of) their ubiquity, most people have never read a privacy policy from start to finish. Moreover, even if we took the time to read privacy policies, many of us would struggle to fully understand them due to their frequent use of complex, legalistic, and opaque language. These considerations raise many potential ethical questions regarding whether organizations are sufficiently transparent about the increasingly vast sums of data they collect about their users, customers, employees, and other stakeholders.\n",
    "\n",
    "The purpose of this notebook is to help you gain a better understanding of the landscape of contemporary privacy policies, using a data-driven approach. We'll leverage a [new dataset](https://github.com/ansgarw/privacy) that provides the full text of privacy policies for hundreds of publicly-traded companies, which we'll analyze using some techniques from natural language processing. By the time you make your way through this notebook, you should have a better understanding of the diverse form and content of modern privacy policies, their linguistic characteristics, and a few neat tricks for analyzing large textual data with Python. Without further ado, let's get started!"
   ]
  },
  {
   "cell_type": "markdown",
   "metadata": {},
   "source": [
    "# Roadmap\n",
    "  * Preliminaries (packages + data wrangling)\n",
    "  * Topic models\n",
    "  * Keywords in context\n",
    "  * Named entities\n",
    "  * Readability\n",
    "  * Embeddings\n",
    "  * Exercises"
   ]
  },
  {
   "cell_type": "markdown",
   "metadata": {},
   "source": [
    "# Preliminaries"
   ]
  },
  {
   "cell_type": "markdown",
   "metadata": {},
   "source": [
    "Let's start out by loading some packages. We'll be using pandas to help with data wrangling and holding the data in an easy to work with data frame format. The json package is part of the Python Standard Library and will help us with reading the raw data. Matplotlib is for plotting; umap is for clustering policies and is not completely necessary. Finally, we'll use several natural language processing packages, spacy, textacy, and gensim, for the actual text analysis. "
   ]
  },
  {
   "cell_type": "code",
   "execution_count": 1,
   "metadata": {},
   "outputs": [
    {
     "data": {
      "text/plain": [
       "'\\npip install pandas\\npip install spacy\\npython -m spacy download en_core_web_lg\\npip install textacy\\npip install gensim\\npip install umap\\npip install matplotlib\\n'"
      ]
     },
     "execution_count": 1,
     "metadata": {},
     "output_type": "execute_result"
    }
   ],
   "source": [
    "# run the following commands to install the needed packages\n",
    "\"\"\"\n",
    "pip install pandas\n",
    "pip install spacy\n",
    "python -m spacy download en_core_web_lg\n",
    "pip install textacy\n",
    "pip install gensim\n",
    "pip install umap\n",
    "pip install matplotlib\n",
    "\"\"\""
   ]
  },
  {
   "cell_type": "code",
   "execution_count": 2,
   "metadata": {},
   "outputs": [],
   "source": [
    "# load some packages\n",
    "import pandas as pd\n",
    "import json\n",
    "import spacy\n",
    "import textacy\n",
    "import textacy.text_stats\n",
    "import gensim\n",
    "import matplotlib.pyplot as plt\n",
    "import umap\n",
    "import umap.plot\n",
    "from umap import umap_\n",
    "from bokeh.plotting import show, output_notebook\n",
    "import tqdm\n",
    "tqdm.tqdm.pandas()\n",
    "\n",
    "# for umap warnings\n",
    "from matplotlib.axes._axes import _log as matplotlib_axes_logger\n",
    "matplotlib_axes_logger.setLevel(\"ERROR\")\n",
    "\n",
    "# load spacy nlp model\n",
    "nlp = spacy.load(\"en_core_web_lg\", disable=[\"parser\"])\n",
    "nlp.max_length = 2000000"
   ]
  },
  {
   "cell_type": "markdown",
   "metadata": {},
   "source": [
    "Now, let's go ahead and load the data. "
   ]
  },
  {
   "cell_type": "code",
   "execution_count": 3,
   "metadata": {},
   "outputs": [],
   "source": [
    "# load the data\n",
    "with open(\"data/policies.json\") as f:\n",
    "  policies_df = pd.DataFrame({k:\" \".join(v) for k,v in json.load(f).items()}.items(), \n",
    "                             columns=[\"url\",\"policy_text\"])"
   ]
  },
  {
   "cell_type": "code",
   "execution_count": 4,
   "metadata": {},
   "outputs": [
    {
     "data": {
      "text/html": [
       "<div>\n",
       "<style scoped>\n",
       "    .dataframe tbody tr th:only-of-type {\n",
       "        vertical-align: middle;\n",
       "    }\n",
       "\n",
       "    .dataframe tbody tr th {\n",
       "        vertical-align: top;\n",
       "    }\n",
       "\n",
       "    .dataframe thead th {\n",
       "        text-align: right;\n",
       "    }\n",
       "</style>\n",
       "<table border=\"1\" class=\"dataframe\">\n",
       "  <thead>\n",
       "    <tr style=\"text-align: right;\">\n",
       "      <th></th>\n",
       "      <th>url</th>\n",
       "      <th>policy_text</th>\n",
       "    </tr>\n",
       "  </thead>\n",
       "  <tbody>\n",
       "    <tr>\n",
       "      <th>0</th>\n",
       "      <td>www.dsny.com</td>\n",
       "      <td>Investors Investors Home Stock Quote and Chart...</td>\n",
       "    </tr>\n",
       "    <tr>\n",
       "      <th>1</th>\n",
       "      <td>www.brf-global.com</td>\n",
       "      <td>BRF’s investor relations website includes forw...</td>\n",
       "    </tr>\n",
       "    <tr>\n",
       "      <th>2</th>\n",
       "      <td>www.belmond.com</td>\n",
       "      <td>Between fig trees and vibrant floodplains, be ...</td>\n",
       "    </tr>\n",
       "    <tr>\n",
       "      <th>3</th>\n",
       "      <td>www.pieris.com</td>\n",
       "      <td>Use of cookies on this website: This website u...</td>\n",
       "    </tr>\n",
       "    <tr>\n",
       "      <th>4</th>\n",
       "      <td>www.isoray.com</td>\n",
       "      <td>We respect your privacy and take Internet priv...</td>\n",
       "    </tr>\n",
       "  </tbody>\n",
       "</table>\n",
       "</div>"
      ],
      "text/plain": [
       "                  url                                        policy_text\n",
       "0        www.dsny.com  Investors Investors Home Stock Quote and Chart...\n",
       "1  www.brf-global.com  BRF’s investor relations website includes forw...\n",
       "2     www.belmond.com  Between fig trees and vibrant floodplains, be ...\n",
       "3      www.pieris.com  Use of cookies on this website: This website u...\n",
       "4      www.isoray.com  We respect your privacy and take Internet priv..."
      ]
     },
     "execution_count": 4,
     "metadata": {},
     "output_type": "execute_result"
    }
   ],
   "source": [
    "# check out the results\n",
    "policies_df.head()"
   ]
  },
  {
   "cell_type": "markdown",
   "metadata": {},
   "source": [
    "Looks pretty reasonable. We have one column for the URL and one for the full text of the privacy policy. Note that the orignal data come in a json format, and there, each URL is associated with a set of paragraphs that constitute each privacy policy. In the code above, when we load the data, we concatenate these paragraphs to a single text string, which will be easier for us to work with in what follows. "
   ]
  },
  {
   "cell_type": "markdown",
   "metadata": {},
   "source": [
    "Our next step will be to process the documents with spacy. We'll add a column to our data frame with the processed documents (that way we still have the raw text handy). This might take a minute. If it takes too long on your machine, you can just look at a random sample of policies. Just uncomment out the code below."
   ]
  },
  {
   "cell_type": "code",
   "execution_count": 5,
   "metadata": {},
   "outputs": [],
   "source": [
    "policies_df = policies_df.sample(frac=0.05) # set frac to some fraction that will run in a reasonable time on your machine"
   ]
  },
  {
   "cell_type": "code",
   "execution_count": 6,
   "metadata": {},
   "outputs": [
    {
     "name": "stderr",
     "output_type": "stream",
     "text": [
      "100%|██████████| 203/203 [02:21<00:00,  1.44it/s]\n"
     ]
    }
   ],
   "source": [
    "policies_df[\"policy_text_processed\"] = policies_df.policy_text.progress_apply(nlp)"
   ]
  },
  {
   "cell_type": "markdown",
   "metadata": {},
   "source": [
    "With that simple line of code, spacy has done a bunch of hard work for us, including things like tokenization, part-of-speech tagging, entity parsing, and other stuff that go well beyond our needs today. Let's take a quick look."
   ]
  },
  {
   "cell_type": "code",
   "execution_count": 7,
   "metadata": {},
   "outputs": [
    {
     "data": {
      "text/html": [
       "<div>\n",
       "<style scoped>\n",
       "    .dataframe tbody tr th:only-of-type {\n",
       "        vertical-align: middle;\n",
       "    }\n",
       "\n",
       "    .dataframe tbody tr th {\n",
       "        vertical-align: top;\n",
       "    }\n",
       "\n",
       "    .dataframe thead th {\n",
       "        text-align: right;\n",
       "    }\n",
       "</style>\n",
       "<table border=\"1\" class=\"dataframe\">\n",
       "  <thead>\n",
       "    <tr style=\"text-align: right;\">\n",
       "      <th></th>\n",
       "      <th>url</th>\n",
       "      <th>policy_text</th>\n",
       "      <th>policy_text_processed</th>\n",
       "    </tr>\n",
       "  </thead>\n",
       "  <tbody>\n",
       "    <tr>\n",
       "      <th>1886</th>\n",
       "      <td>investors.boxlight.com</td>\n",
       "      <td>By using or accessing this website, you signif...</td>\n",
       "      <td>(By, using, or, accessing, this, website, ,, y...</td>\n",
       "    </tr>\n",
       "    <tr>\n",
       "      <th>1602</th>\n",
       "      <td>www.westernunion.com</td>\n",
       "      <td>You are currently browsing in private mode. To...</td>\n",
       "      <td>(You, are, currently, browsing, in, private, m...</td>\n",
       "    </tr>\n",
       "    <tr>\n",
       "      <th>850</th>\n",
       "      <td>www.scana.com</td>\n",
       "      <td>SCANA Corporation (“SCANA Corporation and its ...</td>\n",
       "      <td>(SCANA, Corporation, (, “, SCANA, Corporation,...</td>\n",
       "    </tr>\n",
       "    <tr>\n",
       "      <th>3581</th>\n",
       "      <td>www.unfi.com</td>\n",
       "      <td>At UNFI, your right to privacy and data securi...</td>\n",
       "      <td>(At, UNFI, ,, your, right, to, privacy, and, d...</td>\n",
       "    </tr>\n",
       "    <tr>\n",
       "      <th>1783</th>\n",
       "      <td>www.spathinc.com</td>\n",
       "      <td>Straight Path Communications Inc. (“Straight P...</td>\n",
       "      <td>(Straight, Path, Communications, Inc., (, “, S...</td>\n",
       "    </tr>\n",
       "  </tbody>\n",
       "</table>\n",
       "</div>"
      ],
      "text/plain": [
       "                         url  \\\n",
       "1886  investors.boxlight.com   \n",
       "1602    www.westernunion.com   \n",
       "850            www.scana.com   \n",
       "3581            www.unfi.com   \n",
       "1783        www.spathinc.com   \n",
       "\n",
       "                                            policy_text  \\\n",
       "1886  By using or accessing this website, you signif...   \n",
       "1602  You are currently browsing in private mode. To...   \n",
       "850   SCANA Corporation (“SCANA Corporation and its ...   \n",
       "3581  At UNFI, your right to privacy and data securi...   \n",
       "1783  Straight Path Communications Inc. (“Straight P...   \n",
       "\n",
       "                                  policy_text_processed  \n",
       "1886  (By, using, or, accessing, this, website, ,, y...  \n",
       "1602  (You, are, currently, browsing, in, private, m...  \n",
       "850   (SCANA, Corporation, (, “, SCANA, Corporation,...  \n",
       "3581  (At, UNFI, ,, your, right, to, privacy, and, d...  \n",
       "1783  (Straight, Path, Communications, Inc., (, “, S...  "
      ]
     },
     "execution_count": 7,
     "metadata": {},
     "output_type": "execute_result"
    }
   ],
   "source": [
    "policies_df.head()"
   ]
  },
  {
   "cell_type": "markdown",
   "metadata": {},
   "source": [
    "Okay, at this point, we've loaded all the packages we need, and we've done some of the basic wrangling necessary to get the data into shape. We'll need to do a little more data wrangling to prepare for a few of the analyses in store below, but we've already done enough to let us get started. So without further ado, let's take our first peek at the data. "
   ]
  },
  {
   "cell_type": "markdown",
   "metadata": {},
   "source": [
    "# Topic models\n",
    "\n",
    "We'll start out by trying to get a better sense for __what__ is discussed in corporate privacy policies. To do so, we'll make use of an approach in natural language processing known as topic models. Given our focus, we're not going to go into any of the methodological details of how these models work, but in essence, what they're going to do is search for a set of latent topics in our corpus of documents (here, privacy policies). You can think of topics as clusters of related words on a particular subject (e.g., if we saw the words \"homework\", \"teacher\", \"student\", \"lesson\" we might infer that the topic was school); documents can contain discussions of multiple topics.\n",
    "\n",
    "To start out, we'll do some more processing on the privacy policies to make them more useable for our topic modeling library (called gensim)."
   ]
  },
  {
   "cell_type": "code",
   "execution_count": 8,
   "metadata": {},
   "outputs": [],
   "source": [
    "# define a processing function\n",
    "process_gensim = lambda tokens: [token.lemma_.lower() for token in tokens if not(token.is_punct or token.is_stop or token.is_space or token.is_digit)]\n",
    "\n",
    "# apply the function\n",
    "policies_df[\"policy_text_gensim\"] = policies_df.policy_text_processed.apply(process_gensim)"
   ]
  },
  {
   "cell_type": "code",
   "execution_count": 9,
   "metadata": {},
   "outputs": [],
   "source": [
    "# create a gensim dictionary\n",
    "gensim_dict = gensim.corpora.dictionary.Dictionary(policies_df[\"policy_text_gensim\"])"
   ]
  },
  {
   "cell_type": "code",
   "execution_count": 10,
   "metadata": {},
   "outputs": [],
   "source": [
    "# create a gensim corpus\n",
    "gensim_corpus = [gensim_dict.doc2bow(policy_text) for policy_text in policies_df[\"policy_text_gensim\"]]"
   ]
  },
  {
   "cell_type": "code",
   "execution_count": 11,
   "metadata": {},
   "outputs": [],
   "source": [
    "# fit the topic model\n",
    "lda_model = gensim.models.LdaModel(gensim_corpus,\n",
    "                                   id2word=gensim_dict,\n",
    "                                   num_topics=10)"
   ]
  },
  {
   "cell_type": "code",
   "execution_count": 12,
   "metadata": {},
   "outputs": [
    {
     "data": {
      "text/plain": [
       "[(0,\n",
       "  '0.052*\"information\" + 0.019*\"personal\" + 0.019*\"use\" + 0.016*\"site\" + 0.014*\"provide\" + 0.013*\"website\" + 0.011*\"privacy\" + 0.011*\"service\"'),\n",
       " (1,\n",
       "  '0.042*\"information\" + 0.016*\"personal\" + 0.015*\"service\" + 0.014*\"use\" + 0.013*\"website\" + 0.012*\"provide\" + 0.009*\"site\" + 0.008*\"privacy\"'),\n",
       " (2,\n",
       "  '0.033*\"information\" + 0.014*\"use\" + 0.014*\"personal\" + 0.012*\"service\" + 0.010*\"w\" + 0.010*\"website\" + 0.010*\"t\" + 0.009*\"provide\"'),\n",
       " (3,\n",
       "  '0.036*\"information\" + 0.019*\"use\" + 0.012*\"site\" + 0.012*\"party\" + 0.009*\"privacy\" + 0.009*\"datum\" + 0.009*\"service\" + 0.009*\"provide\"'),\n",
       " (4,\n",
       "  '0.016*\"information\" + 0.009*\"provide\" + 0.008*\"service\" + 0.008*\"w\" + 0.008*\"t\" + 0.008*\"website\" + 0.008*\"use\" + 0.007*\"personal\"'),\n",
       " (5,\n",
       "  '0.026*\"information\" + 0.022*\"personal\" + 0.019*\"use\" + 0.016*\"site\" + 0.012*\"website\" + 0.011*\"privacy\" + 0.011*\"service\" + 0.010*\"policy\"'),\n",
       " (6,\n",
       "  '0.030*\"information\" + 0.013*\"provide\" + 0.011*\"personal\" + 0.010*\"website\" + 0.010*\"use\" + 0.010*\"party\" + 0.009*\"service\" + 0.008*\"policy\"'),\n",
       " (7,\n",
       "  '0.041*\"information\" + 0.016*\"use\" + 0.015*\"service\" + 0.013*\"policy\" + 0.012*\"personal\" + 0.012*\"website\" + 0.012*\"privacy\" + 0.011*\"provide\"'),\n",
       " (8,\n",
       "  '0.032*\"information\" + 0.015*\"site\" + 0.013*\"personal\" + 0.012*\"datum\" + 0.011*\"use\" + 0.009*\"provide\" + 0.009*\"party\" + 0.009*\"privacy\"'),\n",
       " (9,\n",
       "  '0.023*\"information\" + 0.013*\"use\" + 0.009*\"service\" + 0.009*\"provide\" + 0.008*\"personal\" + 0.007*\"site\" + 0.006*\"privacy\" + 0.006*\"website\"')]"
      ]
     },
     "execution_count": 12,
     "metadata": {},
     "output_type": "execute_result"
    }
   ],
   "source": [
    "# show the results\n",
    "lda_model.show_topics(num_topics=-1, num_words=8)"
   ]
  },
  {
   "cell_type": "markdown",
   "metadata": {},
   "source": [
    "As a bonus, we can also check the coherence, essentially a model fit (generally, these measures look at similarity among high scoring words in topics). If you're so inclined, you can re-run the topic model above with different hyperparameters to see if you can get a better fit; I didn't spend a whole lot of time tuning. "
   ]
  },
  {
   "cell_type": "code",
   "execution_count": 13,
   "metadata": {},
   "outputs": [
    {
     "data": {
      "text/plain": [
       "0.39987803675107597"
      ]
     },
     "execution_count": 13,
     "metadata": {},
     "output_type": "execute_result"
    }
   ],
   "source": [
    "# get coherence\n",
    "coherence_model_lda = gensim.models.CoherenceModel(model=lda_model, texts=policies_df[\"policy_text_gensim\"], dictionary=gensim_dict, coherence=\"c_v\")\n",
    "coherence_model_lda.get_coherence()"
   ]
  },
  {
   "cell_type": "markdown",
   "metadata": {},
   "source": [
    "Take a look at the topics identified by the models above. Can you assign human-interpretable labels to them? What can you learn about the different topics of discussion in privacy policies?"
   ]
  },
  {
   "cell_type": "markdown",
   "metadata": {},
   "source": [
    "# Key words in context\n",
    "\n",
    "Topic models are nice, but they're a bit abstract. They give us an overview about interesting clusters of words, but they don't tell us much about how particular words or used or the details of the topics. For that, we can actually learn a lot just by picking out particular words of interest and pulling out their context from the document, known as a \"keyword in context\" approach. \n",
    "\n",
    "As an illustration, the code below pulls out uses of the word \"third party\" in the policies of 20 random firms. There's no random seed set, so if you run the code again you'll get a different set of result. In the comment on the first line, I've given you a few additional words you may want to check."
   ]
  },
  {
   "cell_type": "code",
   "execution_count": 14,
   "metadata": {},
   "outputs": [
    {
     "data": {
      "text/html": [
       "<div>\n",
       "<style scoped>\n",
       "    .dataframe tbody tr th:only-of-type {\n",
       "        vertical-align: middle;\n",
       "    }\n",
       "\n",
       "    .dataframe tbody tr th {\n",
       "        vertical-align: top;\n",
       "    }\n",
       "\n",
       "    .dataframe thead th {\n",
       "        text-align: right;\n",
       "    }\n",
       "</style>\n",
       "<table border=\"1\" class=\"dataframe\">\n",
       "  <thead>\n",
       "    <tr style=\"text-align: right;\">\n",
       "      <th></th>\n",
       "      <th>0</th>\n",
       "    </tr>\n",
       "  </thead>\n",
       "  <tbody>\n",
       "    <tr>\n",
       "      <th>1710</th>\n",
       "      <td>(rest to you. You can exercise your , right,  to prevent such contact by setting)</td>\n",
       "    </tr>\n",
       "    <tr>\n",
       "      <th>1710</th>\n",
       "      <td>(ecessary to protect and defend the , right, s or property of Illumina, Inc., it)</td>\n",
       "    </tr>\n",
       "    <tr>\n",
       "      <th>1710</th>\n",
       "      <td>(to comply with law, to enforce any , right, s in connection with the Site, our )</td>\n",
       "    </tr>\n",
       "    <tr>\n",
       "      <th>1710</th>\n",
       "      <td>(rsist indefinitely. We reserve the , right,  to change this Privacy Policy at a)</td>\n",
       "    </tr>\n",
       "    <tr>\n",
       "      <th>4028</th>\n",
       "      <td>(o that you are aware of your legal , right, s and obligations with respect to C)</td>\n",
       "    </tr>\n",
       "    <tr>\n",
       "      <th>4028</th>\n",
       "      <td>(third party. Intellectual Property , Right, s. We own the copyright in this Sit)</td>\n",
       "    </tr>\n",
       "    <tr>\n",
       "      <th>4028</th>\n",
       "      <td>(al Property Rights. We own the copy, right,  in this Site and its content, incl)</td>\n",
       "    </tr>\n",
       "    <tr>\n",
       "      <th>4028</th>\n",
       "      <td>( of this Site are protected by copy, right,  and/or other intellectual property)</td>\n",
       "    </tr>\n",
       "    <tr>\n",
       "      <th>4028</th>\n",
       "      <td>(and/or other intellectual property , right, s, and Compugen owns and retains al)</td>\n",
       "    </tr>\n",
       "    <tr>\n",
       "      <th>4028</th>\n",
       "      <td>(mpugen owns and retains all of its , right, s in the content and the Site. No c)</td>\n",
       "    </tr>\n",
       "    <tr>\n",
       "      <th>4028</th>\n",
       "      <td>(n the content and the Site. No copy, right,  notices, other intellectual proper)</td>\n",
       "    </tr>\n",
       "    <tr>\n",
       "      <th>4028</th>\n",
       "      <td>(personal data on the Site and your , right, s in relation to Use of the Site. A)</td>\n",
       "    </tr>\n",
       "    <tr>\n",
       "      <th>4028</th>\n",
       "      <td>(how, or Disclosure. We reserve the , right,  to access, read, preserve, and dis)</td>\n",
       "    </tr>\n",
       "    <tr>\n",
       "      <th>4028</th>\n",
       "      <td>(ept General. Compugen reserves the , right,  to discontinue or modify any aspec)</td>\n",
       "    </tr>\n",
       "    <tr>\n",
       "      <th>4028</th>\n",
       "      <td>(and a partys failure to assert any , right,  or provision under these Terms By )</td>\n",
       "    </tr>\n",
       "    <tr>\n",
       "      <th>2806</th>\n",
       "      <td>(acilities. We respect your privacy , right, s and provide you with reasonable a)</td>\n",
       "    </tr>\n",
       "    <tr>\n",
       "      <th>3545</th>\n",
       "      <td>( please contact us. We reserve the , right,  to withdraw or amend this Website,)</td>\n",
       "    </tr>\n",
       "    <tr>\n",
       "      <th>3545</th>\n",
       "      <td>( personal information. We have the , right,  to disable any user name, password)</td>\n",
       "    </tr>\n",
       "    <tr>\n",
       "      <th>3545</th>\n",
       "      <td>(nited States and international copy, right, , trademark, patent, trade secret a)</td>\n",
       "    </tr>\n",
       "    <tr>\n",
       "      <th>3545</th>\n",
       "      <td>(tellectual property or proprietary , right, s laws. Subject to your compliance )</td>\n",
       "    </tr>\n",
       "  </tbody>\n",
       "</table>\n",
       "</div>"
      ],
      "text/plain": [
       "                                                                                      0\n",
       "1710  (rest to you. You can exercise your , right,  to prevent such contact by setting)\n",
       "1710  (ecessary to protect and defend the , right, s or property of Illumina, Inc., it)\n",
       "1710  (to comply with law, to enforce any , right, s in connection with the Site, our )\n",
       "1710  (rsist indefinitely. We reserve the , right,  to change this Privacy Policy at a)\n",
       "4028  (o that you are aware of your legal , right, s and obligations with respect to C)\n",
       "4028  (third party. Intellectual Property , Right, s. We own the copyright in this Sit)\n",
       "4028  (al Property Rights. We own the copy, right,  in this Site and its content, incl)\n",
       "4028  ( of this Site are protected by copy, right,  and/or other intellectual property)\n",
       "4028  (and/or other intellectual property , right, s, and Compugen owns and retains al)\n",
       "4028  (mpugen owns and retains all of its , right, s in the content and the Site. No c)\n",
       "4028  (n the content and the Site. No copy, right,  notices, other intellectual proper)\n",
       "4028  (personal data on the Site and your , right, s in relation to Use of the Site. A)\n",
       "4028  (how, or Disclosure. We reserve the , right,  to access, read, preserve, and dis)\n",
       "4028  (ept General. Compugen reserves the , right,  to discontinue or modify any aspec)\n",
       "4028  (and a partys failure to assert any , right,  or provision under these Terms By )\n",
       "2806  (acilities. We respect your privacy , right, s and provide you with reasonable a)\n",
       "3545  ( please contact us. We reserve the , right,  to withdraw or amend this Website,)\n",
       "3545  ( personal information. We have the , right,  to disable any user name, password)\n",
       "3545  (nited States and international copy, right, , trademark, patent, trade secret a)\n",
       "3545  (tellectual property or proprietary , right, s laws. Subject to your compliance )"
      ]
     },
     "metadata": {},
     "output_type": "display_data"
    }
   ],
   "source": [
    "KEYWORD = \"right\" # \"third party\" # privacy, right, duty, selling, disclose, trust, inform\n",
    "NUM_FIRMS = 20\n",
    "with pd.option_context(\"display.max_colwidth\", 100, \"display.min_rows\", NUM_FIRMS, \"display.max_rows\", NUM_FIRMS):\n",
    "  display(\n",
    "           pd.DataFrame(policies_df.sample(n=NUM_FIRMS).apply(lambda row: list(textacy.extract.kwic.keyword_in_context(row[\"policy_text\"], \n",
    "                                                                               keyword=KEYWORD, \n",
    "                                                                               window_width=35)), axis=1).explode()).head(NUM_FIRMS)\n",
    ")"
   ]
  },
  {
   "cell_type": "markdown",
   "metadata": {},
   "source": [
    "Run the code for some different words, not just the ones in my list, but also those that interest you. Can you learn anything about corporate mindsets on privacy? What kind of rights are discussed?"
   ]
  },
  {
   "cell_type": "markdown",
   "metadata": {},
   "source": [
    "# Named entities\n",
    "\n",
    "Another way we can gain some insight into the content of privacy policies is by seeing who exactly they discuss. Once again, spacy gives us an easy (if sometimes rough) way to do this. Specifically, when we process a document using spacy, it will automatically extract several different categories of named entities (e.g., person, organization, place, you can find the full list [here](https://spacy.io/api/annotation)). In the code, we'll pull out all the organization and person entities. "
   ]
  },
  {
   "cell_type": "code",
   "execution_count": 15,
   "metadata": {},
   "outputs": [],
   "source": [
    "# extract named entities from the privacy policies\n",
    "pull_entities = lambda policy_text: list(set([entity.text.lower() for entity in policy_text.ents if entity.label_ in (\"ORG\", \"PERSON\")]))\n",
    "policies_df[\"named_entities\"] = policies_df.policy_text_processed.apply(pull_entities)"
   ]
  },
  {
   "cell_type": "markdown",
   "metadata": {},
   "source": [
    "Let's take a quick peek at our data frame and see what the results look like."
   ]
  },
  {
   "cell_type": "code",
   "execution_count": 16,
   "metadata": {},
   "outputs": [
    {
     "data": {
      "text/html": [
       "<div>\n",
       "<style scoped>\n",
       "    .dataframe tbody tr th:only-of-type {\n",
       "        vertical-align: middle;\n",
       "    }\n",
       "\n",
       "    .dataframe tbody tr th {\n",
       "        vertical-align: top;\n",
       "    }\n",
       "\n",
       "    .dataframe thead th {\n",
       "        text-align: right;\n",
       "    }\n",
       "</style>\n",
       "<table border=\"1\" class=\"dataframe\">\n",
       "  <thead>\n",
       "    <tr style=\"text-align: right;\">\n",
       "      <th></th>\n",
       "      <th>url</th>\n",
       "      <th>named_entities</th>\n",
       "    </tr>\n",
       "  </thead>\n",
       "  <tbody>\n",
       "    <tr>\n",
       "      <th>1886</th>\n",
       "      <td>investors.boxlight.com</td>\n",
       "      <td>[the eu data privacy directive, boxlight]</td>\n",
       "    </tr>\n",
       "    <tr>\n",
       "      <th>1602</th>\n",
       "      <td>www.westernunion.com</td>\n",
       "      <td>[joint marketing, western union, western union financial services, inc., vigo, social security, ...</td>\n",
       "    </tr>\n",
       "    <tr>\n",
       "      <th>850</th>\n",
       "      <td>www.scana.com</td>\n",
       "      <td>[scana services, inc., the georgia public service commission, facebook, the north carolina utili...</td>\n",
       "    </tr>\n",
       "    <tr>\n",
       "      <th>3581</th>\n",
       "      <td>www.unfi.com</td>\n",
       "      <td>[the company’s information protection, eu, customer service, the safe harbor privacy principles,...</td>\n",
       "    </tr>\n",
       "    <tr>\n",
       "      <th>1783</th>\n",
       "      <td>www.spathinc.com</td>\n",
       "      <td>[ip, straight path communications inc.]</td>\n",
       "    </tr>\n",
       "    <tr>\n",
       "      <th>3186</th>\n",
       "      <td>www.deepwater.com</td>\n",
       "      <td>[securities and exchange commission, transocean, isp]</td>\n",
       "    </tr>\n",
       "    <tr>\n",
       "      <th>3809</th>\n",
       "      <td>www.neenah.com</td>\n",
       "      <td>[general data protection regulation, neenah, inc., eu, eea visitors, european commission, standa...</td>\n",
       "    </tr>\n",
       "    <tr>\n",
       "      <th>4027</th>\n",
       "      <td>www.digitalrealty.com</td>\n",
       "      <td>[the personal data, health &amp; safety management, processor, relevant personal data, cookies, cont...</td>\n",
       "    </tr>\n",
       "    <tr>\n",
       "      <th>2888</th>\n",
       "      <td>www.agnc.com</td>\n",
       "      <td>[agnc investment corp., american capital agency corp.]</td>\n",
       "    </tr>\n",
       "    <tr>\n",
       "      <th>53</th>\n",
       "      <td>www.promisneurosciences.com</td>\n",
       "      <td>[data]</td>\n",
       "    </tr>\n",
       "    <tr>\n",
       "      <th>3370</th>\n",
       "      <td>www.enablence.com</td>\n",
       "      <td>[enablence technologies, site, enablence, ip, enablences site]</td>\n",
       "    </tr>\n",
       "    <tr>\n",
       "      <th>2933</th>\n",
       "      <td>www.twilio.com</td>\n",
       "      <td>[twilio, ctia]</td>\n",
       "    </tr>\n",
       "    <tr>\n",
       "      <th>2972</th>\n",
       "      <td>www.magbank.com</td>\n",
       "      <td>[magyar bank, the “electronic funds transfer privacy act, the children’s online privacy protecti...</td>\n",
       "    </tr>\n",
       "    <tr>\n",
       "      <th>2126</th>\n",
       "      <td>www.streamlinehealth.net</td>\n",
       "      <td>[streamline health, inc., streamline health, ip]</td>\n",
       "    </tr>\n",
       "    <tr>\n",
       "      <th>3180</th>\n",
       "      <td>www.infi.com</td>\n",
       "      <td>[infinity, infinity pharmaceuticals, inc.]</td>\n",
       "    </tr>\n",
       "    <tr>\n",
       "      <th>3527</th>\n",
       "      <td>www.st.com</td>\n",
       "      <td>[st group company, the personal data, the eea data export contractual clauses, personal data, th...</td>\n",
       "    </tr>\n",
       "    <tr>\n",
       "      <th>3316</th>\n",
       "      <td>www.validusholdings.com</td>\n",
       "      <td>[asset management, talbot underwriting, doloremque cum, the london market core uses information ...</td>\n",
       "    </tr>\n",
       "    <tr>\n",
       "      <th>2723</th>\n",
       "      <td>www.texcomresources.com</td>\n",
       "      <td>[texcom, ip]</td>\n",
       "    </tr>\n",
       "    <tr>\n",
       "      <th>2096</th>\n",
       "      <td>www.suburbanpropane.com</td>\n",
       "      <td>[myaccount customer portal, the myaccount customer portal, unsubscribe, suburbanpropane.com, pro...</td>\n",
       "    </tr>\n",
       "    <tr>\n",
       "      <th>3872</th>\n",
       "      <td>www.emcorgroup.com</td>\n",
       "      <td>[the digital advertising alliance, skipjack, cookies, ip, european interactive digital advertisi...</td>\n",
       "    </tr>\n",
       "    <tr>\n",
       "      <th>1419</th>\n",
       "      <td>www.mistrasgroup.com</td>\n",
       "      <td>[mistras, the general data protection regulation, gdpr   |   terms, feedback engineering, mistra...</td>\n",
       "    </tr>\n",
       "    <tr>\n",
       "      <th>732</th>\n",
       "      <td>www.valmont.com</td>\n",
       "      <td>[superstruct, mvi, carc, robert b. daugherty, valmont, valmont industries, emi, corrocote, conse...</td>\n",
       "    </tr>\n",
       "    <tr>\n",
       "      <th>1726</th>\n",
       "      <td>www.stepan.com</td>\n",
       "      <td>[www.stepan.com, stepan company, material safety data sheets and formulations, webmaster, produc...</td>\n",
       "    </tr>\n",
       "    <tr>\n",
       "      <th>1276</th>\n",
       "      <td>www.wajax.com</td>\n",
       "      <td>[wajax, wajax’s, general counsel, wajax , the wajax human resources department, wajax corporatio...</td>\n",
       "    </tr>\n",
       "    <tr>\n",
       "      <th>3824</th>\n",
       "      <td>www.discover.com</td>\n",
       "      <td>[po box 30948, pulse network llc, office of the nevada, diners club international ltd., discover...</td>\n",
       "    </tr>\n",
       "    <tr>\n",
       "      <th>1941</th>\n",
       "      <td>www.k12.com</td>\n",
       "      <td>[the children's online privacy protection act, k12 school programs, the student online personal ...</td>\n",
       "    </tr>\n",
       "    <tr>\n",
       "      <th>1710</th>\n",
       "      <td>www.illumina.com</td>\n",
       "      <td>[security, the site, products, eu, us careers news center investors contact us events video hub ...</td>\n",
       "    </tr>\n",
       "    <tr>\n",
       "      <th>3127</th>\n",
       "      <td>www.callawaygolf.com</td>\n",
       "      <td>[callaway, bhd, wi-fi, callaway golf europe ltd., s.a. de c.v., callaway golf malaysia sdn, call...</td>\n",
       "    </tr>\n",
       "    <tr>\n",
       "      <th>363</th>\n",
       "      <td>www.horizonbank.com</td>\n",
       "      <td>[netscape, horizon bank, atm cards, u.s. mail, microsoft, horizon bank online, horizon bank thro...</td>\n",
       "    </tr>\n",
       "    <tr>\n",
       "      <th>3506</th>\n",
       "      <td>www.superiorenergy.com</td>\n",
       "      <td>[nasdaq, superior, the superior investors relations, superior energy, superior energy services, ...</td>\n",
       "    </tr>\n",
       "    <tr>\n",
       "      <th>1579</th>\n",
       "      <td>www.inovalon.com</td>\n",
       "      <td>[general data protection regulation, data, inovalon or inovalon’s, inovalon, the european union]</td>\n",
       "    </tr>\n",
       "    <tr>\n",
       "      <th>2721</th>\n",
       "      <td>www.brandywinerealty.com</td>\n",
       "      <td>[the securities and exchange commission, the private securities litigation reform act, brandywin...</td>\n",
       "    </tr>\n",
       "    <tr>\n",
       "      <th>1884</th>\n",
       "      <td>www.lucaradiamond.com</td>\n",
       "      <td>[https://www.adnetinc.com/contact/, facebook, cnw, matomo      , lucara      diamond corp. matom...</td>\n",
       "    </tr>\n",
       "    <tr>\n",
       "      <th>3324</th>\n",
       "      <td>www.basco.com</td>\n",
       "      <td>[billy goat, simplicity, the australian privacy principles, allmand, branco, ip, dsl, the europe...</td>\n",
       "    </tr>\n",
       "    <tr>\n",
       "      <th>3369</th>\n",
       "      <td>www.acuitybrands.com</td>\n",
       "      <td>[robert jones, acuity brands, inc., gps, acuity brands’, dnt, acuity brands, jones, acuity brand...</td>\n",
       "    </tr>\n",
       "    <tr>\n",
       "      <th>3994</th>\n",
       "      <td>www.nxstage.com</td>\n",
       "      <td>[esrd, the privacy shield framework, nxstage.co.uk, dialysis clinics, fingershield, nxsteps, nxs...</td>\n",
       "    </tr>\n",
       "    <tr>\n",
       "      <th>1683</th>\n",
       "      <td>www.nielsen.com</td>\n",
       "      <td>[mac, site, nlsn, macintosh, media access control, nielsen, nyse, google analytics]</td>\n",
       "    </tr>\n",
       "    <tr>\n",
       "      <th>86</th>\n",
       "      <td>www.foundationmedicine.com</td>\n",
       "      <td>[human resources (hr, youtube, pi, web beacons, this notice of privacy practices, health oversig...</td>\n",
       "    </tr>\n",
       "    <tr>\n",
       "      <th>89</th>\n",
       "      <td>www.elpolloloco.com</td>\n",
       "      <td>[the online services, the epl privacy policy, marks, legal department, epl, content, el pollo lo...</td>\n",
       "    </tr>\n",
       "    <tr>\n",
       "      <th>2814</th>\n",
       "      <td>www.emerson.com</td>\n",
       "      <td>[emerson electric co., the children's online privacy protection act, the personal data, emerson,...</td>\n",
       "    </tr>\n",
       "    <tr>\n",
       "      <th>2836</th>\n",
       "      <td>www.gnty.com</td>\n",
       "      <td>[the department of treasury, federal reserve bank, the compliance department, the guaranty bank ...</td>\n",
       "    </tr>\n",
       "    <tr>\n",
       "      <th>2476</th>\n",
       "      <td>www.express-scripts.com</td>\n",
       "      <td>[doubleclick, tracking mechanism(s, federal and state, non-personal information, twitter®, healt...</td>\n",
       "    </tr>\n",
       "    <tr>\n",
       "      <th>1129</th>\n",
       "      <td>www.saia.com</td>\n",
       "      <td>[the website and services, saia      you, ga, the xtreme performance, saia, the digital millenni...</td>\n",
       "    </tr>\n",
       "    <tr>\n",
       "      <th>3570</th>\n",
       "      <td>www.atha.com</td>\n",
       "      <td>[athabasca oil corporation, aoc]</td>\n",
       "    </tr>\n",
       "    <tr>\n",
       "      <th>1924</th>\n",
       "      <td>www.acelrx.com</td>\n",
       "      <td>[site, ids, ip, privacy]</td>\n",
       "    </tr>\n",
       "    <tr>\n",
       "      <th>2791</th>\n",
       "      <td>www.royalgold.com</td>\n",
       "      <td>[royal gold, inc., karli anderson, compay]</td>\n",
       "    </tr>\n",
       "    <tr>\n",
       "      <th>2813</th>\n",
       "      <td>investor.lantheus.com</td>\n",
       "      <td>[lantheus medical imaging]</td>\n",
       "    </tr>\n",
       "    <tr>\n",
       "      <th>1498</th>\n",
       "      <td>www.cesenergysolutions.com</td>\n",
       "      <td>[the board's terms of reference, edgehill corporation, simons, parallel energy trust, hs&amp;e commi...</td>\n",
       "    </tr>\n",
       "    <tr>\n",
       "      <th>1837</th>\n",
       "      <td>www.regenxbio.com</td>\n",
       "      <td>[traffic data, collecting traffic data, services, regenxbio inc., 9600 blackwell road, site, reg...</td>\n",
       "    </tr>\n",
       "    <tr>\n",
       "      <th>2788</th>\n",
       "      <td>www.westpharma.com</td>\n",
       "      <td>[west pharmaceutical services, inc., eu, the “contact us” section below, leachables analysis pac...</td>\n",
       "    </tr>\n",
       "  </tbody>\n",
       "</table>\n",
       "</div>"
      ],
      "text/plain": [
       "                              url  \\\n",
       "1886       investors.boxlight.com   \n",
       "1602         www.westernunion.com   \n",
       "850                 www.scana.com   \n",
       "3581                 www.unfi.com   \n",
       "1783             www.spathinc.com   \n",
       "3186            www.deepwater.com   \n",
       "3809               www.neenah.com   \n",
       "4027        www.digitalrealty.com   \n",
       "2888                 www.agnc.com   \n",
       "53    www.promisneurosciences.com   \n",
       "3370            www.enablence.com   \n",
       "2933               www.twilio.com   \n",
       "2972              www.magbank.com   \n",
       "2126     www.streamlinehealth.net   \n",
       "3180                 www.infi.com   \n",
       "3527                   www.st.com   \n",
       "3316      www.validusholdings.com   \n",
       "2723      www.texcomresources.com   \n",
       "2096      www.suburbanpropane.com   \n",
       "3872           www.emcorgroup.com   \n",
       "1419         www.mistrasgroup.com   \n",
       "732               www.valmont.com   \n",
       "1726               www.stepan.com   \n",
       "1276                www.wajax.com   \n",
       "3824             www.discover.com   \n",
       "1941                  www.k12.com   \n",
       "1710             www.illumina.com   \n",
       "3127         www.callawaygolf.com   \n",
       "363           www.horizonbank.com   \n",
       "3506       www.superiorenergy.com   \n",
       "1579             www.inovalon.com   \n",
       "2721     www.brandywinerealty.com   \n",
       "1884        www.lucaradiamond.com   \n",
       "3324                www.basco.com   \n",
       "3369         www.acuitybrands.com   \n",
       "3994              www.nxstage.com   \n",
       "1683              www.nielsen.com   \n",
       "86     www.foundationmedicine.com   \n",
       "89            www.elpolloloco.com   \n",
       "2814              www.emerson.com   \n",
       "2836                 www.gnty.com   \n",
       "2476      www.express-scripts.com   \n",
       "1129                 www.saia.com   \n",
       "3570                 www.atha.com   \n",
       "1924               www.acelrx.com   \n",
       "2791            www.royalgold.com   \n",
       "2813        investor.lantheus.com   \n",
       "1498   www.cesenergysolutions.com   \n",
       "1837            www.regenxbio.com   \n",
       "2788           www.westpharma.com   \n",
       "\n",
       "                                                                                           named_entities  \n",
       "1886                                                            [the eu data privacy directive, boxlight]  \n",
       "1602  [joint marketing, western union, western union financial services, inc., vigo, social security, ...  \n",
       "850   [scana services, inc., the georgia public service commission, facebook, the north carolina utili...  \n",
       "3581  [the company’s information protection, eu, customer service, the safe harbor privacy principles,...  \n",
       "1783                                                              [ip, straight path communications inc.]  \n",
       "3186                                                [securities and exchange commission, transocean, isp]  \n",
       "3809  [general data protection regulation, neenah, inc., eu, eea visitors, european commission, standa...  \n",
       "4027  [the personal data, health & safety management, processor, relevant personal data, cookies, cont...  \n",
       "2888                                               [agnc investment corp., american capital agency corp.]  \n",
       "53                                                                                                 [data]  \n",
       "3370                                       [enablence technologies, site, enablence, ip, enablences site]  \n",
       "2933                                                                                       [twilio, ctia]  \n",
       "2972  [magyar bank, the “electronic funds transfer privacy act, the children’s online privacy protecti...  \n",
       "2126                                                     [streamline health, inc., streamline health, ip]  \n",
       "3180                                                           [infinity, infinity pharmaceuticals, inc.]  \n",
       "3527  [st group company, the personal data, the eea data export contractual clauses, personal data, th...  \n",
       "3316  [asset management, talbot underwriting, doloremque cum, the london market core uses information ...  \n",
       "2723                                                                                         [texcom, ip]  \n",
       "2096  [myaccount customer portal, the myaccount customer portal, unsubscribe, suburbanpropane.com, pro...  \n",
       "3872  [the digital advertising alliance, skipjack, cookies, ip, european interactive digital advertisi...  \n",
       "1419  [mistras, the general data protection regulation, gdpr   |   terms, feedback engineering, mistra...  \n",
       "732   [superstruct, mvi, carc, robert b. daugherty, valmont, valmont industries, emi, corrocote, conse...  \n",
       "1726  [www.stepan.com, stepan company, material safety data sheets and formulations, webmaster, produc...  \n",
       "1276  [wajax, wajax’s, general counsel, wajax , the wajax human resources department, wajax corporatio...  \n",
       "3824  [po box 30948, pulse network llc, office of the nevada, diners club international ltd., discover...  \n",
       "1941  [the children's online privacy protection act, k12 school programs, the student online personal ...  \n",
       "1710  [security, the site, products, eu, us careers news center investors contact us events video hub ...  \n",
       "3127  [callaway, bhd, wi-fi, callaway golf europe ltd., s.a. de c.v., callaway golf malaysia sdn, call...  \n",
       "363   [netscape, horizon bank, atm cards, u.s. mail, microsoft, horizon bank online, horizon bank thro...  \n",
       "3506  [nasdaq, superior, the superior investors relations, superior energy, superior energy services, ...  \n",
       "1579     [general data protection regulation, data, inovalon or inovalon’s, inovalon, the european union]  \n",
       "2721  [the securities and exchange commission, the private securities litigation reform act, brandywin...  \n",
       "1884  [https://www.adnetinc.com/contact/, facebook, cnw, matomo      , lucara      diamond corp. matom...  \n",
       "3324  [billy goat, simplicity, the australian privacy principles, allmand, branco, ip, dsl, the europe...  \n",
       "3369  [robert jones, acuity brands, inc., gps, acuity brands’, dnt, acuity brands, jones, acuity brand...  \n",
       "3994  [esrd, the privacy shield framework, nxstage.co.uk, dialysis clinics, fingershield, nxsteps, nxs...  \n",
       "1683                  [mac, site, nlsn, macintosh, media access control, nielsen, nyse, google analytics]  \n",
       "86    [human resources (hr, youtube, pi, web beacons, this notice of privacy practices, health oversig...  \n",
       "89    [the online services, the epl privacy policy, marks, legal department, epl, content, el pollo lo...  \n",
       "2814  [emerson electric co., the children's online privacy protection act, the personal data, emerson,...  \n",
       "2836  [the department of treasury, federal reserve bank, the compliance department, the guaranty bank ...  \n",
       "2476  [doubleclick, tracking mechanism(s, federal and state, non-personal information, twitter®, healt...  \n",
       "1129  [the website and services, saia      you, ga, the xtreme performance, saia, the digital millenni...  \n",
       "3570                                                                     [athabasca oil corporation, aoc]  \n",
       "1924                                                                             [site, ids, ip, privacy]  \n",
       "2791                                                           [royal gold, inc., karli anderson, compay]  \n",
       "2813                                                                           [lantheus medical imaging]  \n",
       "1498  [the board's terms of reference, edgehill corporation, simons, parallel energy trust, hs&e commi...  \n",
       "1837  [traffic data, collecting traffic data, services, regenxbio inc., 9600 blackwell road, site, reg...  \n",
       "2788  [west pharmaceutical services, inc., eu, the “contact us” section below, leachables analysis pac...  "
      ]
     },
     "metadata": {},
     "output_type": "display_data"
    }
   ],
   "source": [
    "# look at the entities\n",
    "with pd.option_context(\"display.max_colwidth\", 100, \"display.min_rows\", 50, \"display.max_rows\", 50):\n",
    "  display(policies_df[[\"url\",\"named_entities\"]].head(50))"
   ]
  },
  {
   "cell_type": "markdown",
   "metadata": {},
   "source": [
    "Now let's add a bit more structure. We'll run a little code to help us identify the most frequently discussed organizations and people in the corporate privacy policies. "
   ]
  },
  {
   "cell_type": "code",
   "execution_count": 17,
   "metadata": {},
   "outputs": [
    {
     "data": {
      "text/plain": [
       "named_entities\n",
       "ip                                              65\n",
       "site                                            47\n",
       "eu                                              35\n",
       "the european union                              29\n",
       "google analytics                                27\n",
       "the european economic area                      22\n",
       "eea                                             22\n",
       "google                                          20\n",
       "facebook                                        19\n",
       "twitter                                         18\n",
       "company                                         16\n",
       "cookies                                         13\n",
       "website                                         13\n",
       "flash                                           12\n",
       "european union                                  11\n",
       "the european commission                         11\n",
       "personal data                                   11\n",
       "the digital advertising alliance                10\n",
       "the u.s. department of commerce                  9\n",
       "the network advertising initiative               9\n",
       "ftc                                              9\n",
       "social security                                  7\n",
       "personal information                             7\n",
       "affiliates                                       7\n",
       "gps                                              7\n",
       "the securities and exchange commission           7\n",
       "the personal data                                7\n",
       "privacy shield                                   6\n",
       "llc                                              6\n",
       "the children's online privacy protection act     6\n",
       "ids                                              6\n",
       "isp                                              6\n",
       "the “contact us                                  6\n",
       "web beacons                                      6\n",
       "pii                                              6\n",
       "bank                                             6\n",
       "microsoft                                        5\n",
       "wi-fi                                            5\n",
       "data                                             5\n",
       "the “services                                    5\n",
       "daa                                              5\n",
       "youtube                                          5\n",
       "the department of commerce                       5\n",
       "gdpr                                             5\n",
       "the children’s online privacy protection act     5\n",
       "privacy policy                                   5\n",
       "services                                         5\n",
       "linkedin                                         5\n",
       "human resources                                  5\n",
       "the u.s. federal trade commission                4\n",
       "Name: named_entities, dtype: int64"
      ]
     },
     "metadata": {},
     "output_type": "display_data"
    }
   ],
   "source": [
    "# pull the most frequent entities\n",
    "entities = policies_df[\"named_entities\"].explode(\"named_entities\")\n",
    "NUM_WANTED = 50\n",
    "with pd.option_context(\"display.min_rows\", 50, \"display.max_rows\", 50):\n",
    "  display(entities.groupby(entities).size().sort_values(ascending=False).head(50))"
   ]
  },
  {
   "cell_type": "markdown",
   "metadata": {},
   "source": [
    "What do you make of the most frequent entities? Are you surprised? Do they fit with what you expected? Can we make any inferences about the kind of data sharing companies might be enaging in by looking at these entities?"
   ]
  },
  {
   "cell_type": "markdown",
   "metadata": {},
   "source": [
    "# Readability\n",
    "\n",
    "Next, we'll evaluate the privacy policies according to their readability. There are many different measures of readability, but the basic idea is to evaluate a text according to various metrics (e.g., words per sentence, number of syllables per word) that correlate with, well, how easy it is to read. The textacy package makes it easy to quickly evaluate a bunch of different metrics of readability. Let's compute them and then do some exploration. For now, I'll pull out the Flesch-Kincaid grade level and the Gunning-Fog index (both are grade-level measures). "
   ]
  },
  {
   "cell_type": "code",
   "execution_count": 18,
   "metadata": {},
   "outputs": [],
   "source": [
    "# compute flesch_kincaid_grade_level\n",
    "policies_df[\"flesch_kincaid_grade_level\"] = policies_df.policy_text_processed.apply(textacy.text_stats.readability.flesch_kincaid_grade_level)"
   ]
  },
  {
   "cell_type": "code",
   "execution_count": 19,
   "metadata": {},
   "outputs": [],
   "source": [
    "# compute gunning_fog_index\n",
    "policies_df[\"gunning_fog_index\"] = policies_df.policy_text_processed.apply(textacy.text_stats.readability.gunning_fog_index)"
   ]
  },
  {
   "cell_type": "markdown",
   "metadata": {},
   "source": [
    "You can now access the various statistics for individual documents as follows (e.g., for the document at index 0)."
   ]
  },
  {
   "cell_type": "code",
   "execution_count": 20,
   "metadata": {},
   "outputs": [
    {
     "data": {
      "text/plain": [
       "11.936183169375536"
      ]
     },
     "execution_count": 20,
     "metadata": {},
     "output_type": "execute_result"
    }
   ],
   "source": [
    "policies_df.iloc[0][\"flesch_kincaid_grade_level\"]"
   ]
  },
  {
   "cell_type": "markdown",
   "metadata": {},
   "source": [
    "This tells us the Flesch-Kinkaid grade level for the policy. We're probably not terribly interested in the readability of any given policy. We can do a little wrangling with pandas to extract various metrics for all policies and add them to the data frame. "
   ]
  },
  {
   "cell_type": "code",
   "execution_count": 21,
   "metadata": {},
   "outputs": [],
   "source": [
    "# let's clean up some extreme values\n",
    "policies_df.loc[(policies_df.flesch_kincaid_grade_level < 0) | (policies_df.flesch_kincaid_grade_level > 20), \"flesch_kincaid_grade_level\"] = None\n",
    "policies_df.loc[(policies_df.gunning_fog_index < 0) | (policies_df.gunning_fog_index > 20), \"gunning_fog_index\"] = None"
   ]
  },
  {
   "cell_type": "markdown",
   "metadata": {},
   "source": [
    "I would encourage you to adapt the code above to pull out some other readability-related features that seem interesting. You can find the full list available in our `TextStats` object [here](https://textacy.readthedocs.io/en/stable/api_reference/text_stats.html), in the textacy documentation. Let's plot the values we just extracted."
   ]
  },
  {
   "cell_type": "code",
   "execution_count": 22,
   "metadata": {},
   "outputs": [
    {
     "data": {
      "image/png": "[encoded data removed]",
      "text/plain": [
       "<Figure size 432x288 with 2 Axes>"
      ]
     },
     "metadata": {
      "needs_background": "light"
     },
     "output_type": "display_data"
    }
   ],
   "source": [
    "# plot with matplotlib\n",
    "fig, axes = plt.subplots(1, 2)\n",
    "policies_df[\"flesch_kincaid_grade_level\"].hist(ax=axes[0])\n",
    "policies_df[\"gunning_fog_index\"].hist(ax=axes[1])\n",
    "plt.tight_layout()"
   ]
  },
  {
   "cell_type": "markdown",
   "metadata": {},
   "source": [
    "These results are pretty striking, especially when you consider them alongside statistics on the literacy rate in the United States. According to [surveys](https://www.oecd.org/skills/piaac/Country%20note%20-%20United%20States.pdf) by the OECD, about half of adults in the United States can read at an 8th grade level or lower. "
   ]
  },
  {
   "cell_type": "markdown",
   "metadata": {},
   "source": [
    "# Embeddings\n",
    "Yet another way that we can gain some intuition on privacy policies is by seeing how similar or different particular policies are from one another. For example, we might not be all that surprised if we saw that Google's privacy policy was quite similar to Facebook's. We might raise an eyebrow if we saw that Nike and Facebook also had very similar privacy policies. What kind of data are they collecting on us when we buy our sneakers? One way we can compare the similarity among documents (here, privacy policies) is by embedding them in some high dimensional vector space, and the using linear algebra to find the distance between vectors. Classically, we would do this by representing documents as vectors of words, where entries represent word frequencies, and perhaps weighting those frequencies (e.g., using TF-IDF). Here, we'll use a slightly more sophisticated approach. When we process the privacy policies using spacy, we get a vector representation of each document, which is based on the word embeddings for its constituent terms. Again, given the focus of this class, we're not going to go into the methodological details of word embeddings, but you can think of them as a vectorization that aims to capture semantic relationships.\n",
    "\n",
    "Below, we'll pull the document embeddings from spacy. We'll then do some dimension reduction using a cool algorithm from topological data analysis known as [Uniform Manifold Approximation and Projection](https://arxiv.org/abs/1802.03426) (UMAP), and visualize the results using an interactive plot. "
   ]
  },
  {
   "cell_type": "code",
   "execution_count": 23,
   "metadata": {},
   "outputs": [],
   "source": [
    "# pull the document embeddings from spacy and format for clustering\n",
    "embeddings_df = policies_df[[\"url\", \"policy_text_processed\"]]\n",
    "embeddings_df = embeddings_df.set_index(\"url\")\n",
    "embeddings_df[\"policy_text_processed\"] = embeddings_df[\"policy_text_processed\"].apply(lambda text: text.vector)\n",
    "embeddings_df = embeddings_df.policy_text_processed.apply(pd.Series)"
   ]
  },
  {
   "cell_type": "code",
   "execution_count": 24,
   "metadata": {},
   "outputs": [
    {
     "data": {
      "text/plain": [
       "<AxesSubplot:>"
      ]
     },
     "execution_count": 24,
     "metadata": {},
     "output_type": "execute_result"
    },
    {
     "data": {
      "image/png": "[encoded data removed]",
      "text/plain": [
       "<Figure size 800x800 with 1 Axes>"
      ]
     },
     "metadata": {},
     "output_type": "display_data"
    }
   ],
   "source": [
    "# non-interactive plot\n",
    "# mapper = umap.UMAP().fit(embeddings_df.to_numpy())\n",
    "mapper = umap.umap_.UMAP().fit(embeddings_df.to_numpy())\n",
    "umap.plot.points(mapper)"
   ]
  },
  {
   "cell_type": "code",
   "execution_count": 25,
   "metadata": {},
   "outputs": [
    {
     "data": {
      "text/html": [
       "\n",
       "    <div class=\"bk-root\">\n",
       "        <a href=\"https://bokeh.org\" target=\"_blank\" class=\"bk-logo bk-logo-small bk-logo-notebook\"></a>\n",
       "        <span id=\"1002\">Loading BokehJS ...</span>\n",
       "    </div>"
      ]
     },
     "metadata": {},
     "output_type": "display_data"
    },
    {
     "data": {
      "application/javascript": [
       "\n",
       "(function(root) {\n",
       "  function now() {\n",
       "    return new Date();\n",
       "  }\n",
       "\n",
       "  const force = true;\n",
       "\n",
       "  if (typeof root._bokeh_onload_callbacks === \"undefined\" || force === true) {\n",
       "    root._bokeh_onload_callbacks = [];\n",
       "    root._bokeh_is_loading = undefined;\n",
       "  }\n",
       "\n",
       "  const JS_MIME_TYPE = 'application/javascript';\n",
       "  const HTML_MIME_TYPE = 'text/html';\n",
       "  const EXEC_MIME_TYPE = 'application/vnd.bokehjs_exec.v0+json';\n",
       "  const CLASS_NAME = 'output_bokeh rendered_html';\n",
       "\n",
       "  /**\n",
       "   * Render data to the DOM node\n",
       "   */\n",
       "  function render(props, node) {\n",
       "    const script = document.createElement(\"script\");\n",
       "    node.appendChild(script);\n",
       "  }\n",
       "\n",
       "  /**\n",
       "   * Handle when an output is cleared or removed\n",
       "   */\n",
       "  function handleClearOutput(event, handle) {\n",
       "    const cell = handle.cell;\n",
       "\n",
       "    const id = cell.output_area._bokeh_element_id;\n",
       "    const server_id = cell.output_area._bokeh_server_id;\n",
       "    // Clean up Bokeh references\n",
       "    if (id != null && id in Bokeh.index) {\n",
       "      Bokeh.index[id].model.document.clear();\n",
       "      delete Bokeh.index[id];\n",
       "    }\n",
       "\n",
       "    if (server_id !== undefined) {\n",
       "      // Clean up Bokeh references\n",
       "      const cmd_clean = \"from bokeh.io.state import curstate; print(curstate().uuid_to_server['\" + server_id + \"'].get_sessions()[0].document.roots[0]._id)\";\n",
       "      cell.notebook.kernel.execute(cmd_clean, {\n",
       "        iopub: {\n",
       "          output: function(msg) {\n",
       "            const id = msg.content.text.trim();\n",
       "            if (id in Bokeh.index) {\n",
       "              Bokeh.index[id].model.document.clear();\n",
       "              delete Bokeh.index[id];\n",
       "            }\n",
       "          }\n",
       "        }\n",
       "      });\n",
       "      // Destroy server and session\n",
       "      const cmd_destroy = \"import bokeh.io.notebook as ion; ion.destroy_server('\" + server_id + \"')\";\n",
       "      cell.notebook.kernel.execute(cmd_destroy);\n",
       "    }\n",
       "  }\n",
       "\n",
       "  /**\n",
       "   * Handle when a new output is added\n",
       "   */\n",
       "  function handleAddOutput(event, handle) {\n",
       "    const output_area = handle.output_area;\n",
       "    const output = handle.output;\n",
       "\n",
       "    // limit handleAddOutput to display_data with EXEC_MIME_TYPE content only\n",
       "    if ((output.output_type != \"display_data\") || (!Object.prototype.hasOwnProperty.call(output.data, EXEC_MIME_TYPE))) {\n",
       "      return\n",
       "    }\n",
       "\n",
       "    const toinsert = output_area.element.find(\".\" + CLASS_NAME.split(' ')[0]);\n",
       "\n",
       "    if (output.metadata[EXEC_MIME_TYPE][\"id\"] !== undefined) {\n",
       "      toinsert[toinsert.length - 1].firstChild.textContent = output.data[JS_MIME_TYPE];\n",
       "      // store reference to embed id on output_area\n",
       "      output_area._bokeh_element_id = output.metadata[EXEC_MIME_TYPE][\"id\"];\n",
       "    }\n",
       "    if (output.metadata[EXEC_MIME_TYPE][\"server_id\"] !== undefined) {\n",
       "      const bk_div = document.createElement(\"div\");\n",
       "      bk_div.innerHTML = output.data[HTML_MIME_TYPE];\n",
       "      const script_attrs = bk_div.children[0].attributes;\n",
       "      for (let i = 0; i < script_attrs.length; i++) {\n",
       "        toinsert[toinsert.length - 1].firstChild.setAttribute(script_attrs[i].name, script_attrs[i].value);\n",
       "        toinsert[toinsert.length - 1].firstChild.textContent = bk_div.children[0].textContent\n",
       "      }\n",
       "      // store reference to server id on output_area\n",
       "      output_area._bokeh_server_id = output.metadata[EXEC_MIME_TYPE][\"server_id\"];\n",
       "    }\n",
       "  }\n",
       "\n",
       "  function register_renderer(events, OutputArea) {\n",
       "\n",
       "    function append_mime(data, metadata, element) {\n",
       "      // create a DOM node to render to\n",
       "      const toinsert = this.create_output_subarea(\n",
       "        metadata,\n",
       "        CLASS_NAME,\n",
       "        EXEC_MIME_TYPE\n",
       "      );\n",
       "      this.keyboard_manager.register_events(toinsert);\n",
       "      // Render to node\n",
       "      const props = {data: data, metadata: metadata[EXEC_MIME_TYPE]};\n",
       "      render(props, toinsert[toinsert.length - 1]);\n",
       "      element.append(toinsert);\n",
       "      return toinsert\n",
       "    }\n",
       "\n",
       "    /* Handle when an output is cleared or removed */\n",
       "    events.on('clear_output.CodeCell', handleClearOutput);\n",
       "    events.on('delete.Cell', handleClearOutput);\n",
       "\n",
       "    /* Handle when a new output is added */\n",
       "    events.on('output_added.OutputArea', handleAddOutput);\n",
       "\n",
       "    /**\n",
       "     * Register the mime type and append_mime function with output_area\n",
       "     */\n",
       "    OutputArea.prototype.register_mime_type(EXEC_MIME_TYPE, append_mime, {\n",
       "      /* Is output safe? */\n",
       "      safe: true,\n",
       "      /* Index of renderer in `output_area.display_order` */\n",
       "      index: 0\n",
       "    });\n",
       "  }\n",
       "\n",
       "  // register the mime type if in Jupyter Notebook environment and previously unregistered\n",
       "  if (root.Jupyter !== undefined) {\n",
       "    const events = require('base/js/events');\n",
       "    const OutputArea = require('notebook/js/outputarea').OutputArea;\n",
       "\n",
       "    if (OutputArea.prototype.mime_types().indexOf(EXEC_MIME_TYPE) == -1) {\n",
       "      register_renderer(events, OutputArea);\n",
       "    }\n",
       "  }\n",
       "\n",
       "  \n",
       "  if (typeof (root._bokeh_timeout) === \"undefined\" || force === true) {\n",
       "    root._bokeh_timeout = Date.now() + 5000;\n",
       "    root._bokeh_failed_load = false;\n",
       "  }\n",
       "\n",
       "  const NB_LOAD_WARNING = {'data': {'text/html':\n",
       "     \"<div style='background-color: #fdd'>\\n\"+\n",
       "     \"<p>\\n\"+\n",
       "     \"BokehJS does not appear to have successfully loaded. If loading BokehJS from CDN, this \\n\"+\n",
       "     \"may be due to a slow or bad network connection. Possible fixes:\\n\"+\n",
       "     \"</p>\\n\"+\n",
       "     \"<ul>\\n\"+\n",
       "     \"<li>re-rerun `output_notebook()` to attempt to load from CDN again, or</li>\\n\"+\n",
       "     \"<li>use INLINE resources instead, as so:</li>\\n\"+\n",
       "     \"</ul>\\n\"+\n",
       "     \"<code>\\n\"+\n",
       "     \"from bokeh.resources import INLINE\\n\"+\n",
       "     \"output_notebook(resources=INLINE)\\n\"+\n",
       "     \"</code>\\n\"+\n",
       "     \"</div>\"}};\n",
       "\n",
       "  function display_loaded() {\n",
       "    const el = document.getElementById(\"1002\");\n",
       "    if (el != null) {\n",
       "      el.textContent = \"BokehJS is loading...\";\n",
       "    }\n",
       "    if (root.Bokeh !== undefined) {\n",
       "      if (el != null) {\n",
       "        el.textContent = \"BokehJS \" + root.Bokeh.version + \" successfully loaded.\";\n",
       "      }\n",
       "    } else if (Date.now() < root._bokeh_timeout) {\n",
       "      setTimeout(display_loaded, 100)\n",
       "    }\n",
       "  }\n",
       "\n",
       "\n",
       "  function run_callbacks() {\n",
       "    try {\n",
       "      root._bokeh_onload_callbacks.forEach(function(callback) {\n",
       "        if (callback != null)\n",
       "          callback();\n",
       "      });\n",
       "    } finally {\n",
       "      delete root._bokeh_onload_callbacks\n",
       "    }\n",
       "    console.debug(\"Bokeh: all callbacks have finished\");\n",
       "  }\n",
       "\n",
       "  function load_libs(css_urls, js_urls, callback) {\n",
       "    if (css_urls == null) css_urls = [];\n",
       "    if (js_urls == null) js_urls = [];\n",
       "\n",
       "    root._bokeh_onload_callbacks.push(callback);\n",
       "    if (root._bokeh_is_loading > 0) {\n",
       "      console.debug(\"Bokeh: BokehJS is being loaded, scheduling callback at\", now());\n",
       "      return null;\n",
       "    }\n",
       "    if (js_urls == null || js_urls.length === 0) {\n",
       "      run_callbacks();\n",
       "      return null;\n",
       "    }\n",
       "    console.debug(\"Bokeh: BokehJS not loaded, scheduling load and callback at\", now());\n",
       "    root._bokeh_is_loading = css_urls.length + js_urls.length;\n",
       "\n",
       "    function on_load() {\n",
       "      root._bokeh_is_loading--;\n",
       "      if (root._bokeh_is_loading === 0) {\n",
       "        console.debug(\"Bokeh: all BokehJS libraries/stylesheets loaded\");\n",
       "        run_callbacks()\n",
       "      }\n",
       "    }\n",
       "\n",
       "    function on_error(url) {\n",
       "      console.error(\"failed to load \" + url);\n",
       "    }\n",
       "\n",
       "    for (let i = 0; i < css_urls.length; i++) {\n",
       "      const url = css_urls[i];\n",
       "      const element = document.createElement(\"link\");\n",
       "      element.onload = on_load;\n",
       "      element.onerror = on_error.bind(null, url);\n",
       "      element.rel = \"stylesheet\";\n",
       "      element.type = \"text/css\";\n",
       "      element.href = url;\n",
       "      console.debug(\"Bokeh: injecting link tag for BokehJS stylesheet: \", url);\n",
       "      document.body.appendChild(element);\n",
       "    }\n",
       "\n",
       "    for (let i = 0; i < js_urls.length; i++) {\n",
       "      const url = js_urls[i];\n",
       "      const element = document.createElement('script');\n",
       "      element.onload = on_load;\n",
       "      element.onerror = on_error.bind(null, url);\n",
       "      element.async = false;\n",
       "      element.src = url;\n",
       "      console.debug(\"Bokeh: injecting script tag for BokehJS library: \", url);\n",
       "      document.head.appendChild(element);\n",
       "    }\n",
       "  };\n",
       "\n",
       "  function inject_raw_css(css) {\n",
       "    const element = document.createElement(\"style\");\n",
       "    element.appendChild(document.createTextNode(css));\n",
       "    document.body.appendChild(element);\n",
       "  }\n",
       "\n",
       "  \n",
       "  const js_urls = [\"https://cdn.bokeh.org/bokeh/release/bokeh-2.4.2.min.js\", \"https://cdn.bokeh.org/bokeh/release/bokeh-gl-2.4.2.min.js\", \"https://cdn.bokeh.org/bokeh/release/bokeh-widgets-2.4.2.min.js\", \"https://cdn.bokeh.org/bokeh/release/bokeh-tables-2.4.2.min.js\", \"https://cdn.bokeh.org/bokeh/release/bokeh-mathjax-2.4.2.min.js\", \"https://unpkg.com/@holoviz/panel@0.12.6/dist/panel.min.js\"];\n",
       "  const css_urls = [];\n",
       "  \n",
       "\n",
       "  const inline_js = [\n",
       "    function(Bokeh) {\n",
       "      Bokeh.set_log_level(\"info\");\n",
       "    },\n",
       "    function(Bokeh) {\n",
       "    \n",
       "    \n",
       "    }\n",
       "  ];\n",
       "\n",
       "  function run_inline_js() {\n",
       "    \n",
       "    if (root.Bokeh !== undefined || force === true) {\n",
       "      \n",
       "    for (let i = 0; i < inline_js.length; i++) {\n",
       "      inline_js[i].call(root, root.Bokeh);\n",
       "    }\n",
       "    if (force === true) {\n",
       "        display_loaded();\n",
       "      }} else if (Date.now() < root._bokeh_timeout) {\n",
       "      setTimeout(run_inline_js, 100);\n",
       "    } else if (!root._bokeh_failed_load) {\n",
       "      console.log(\"Bokeh: BokehJS failed to load within specified timeout.\");\n",
       "      root._bokeh_failed_load = true;\n",
       "    } else if (force !== true) {\n",
       "      const cell = $(document.getElementById(\"1002\")).parents('.cell').data().cell;\n",
       "      cell.output_area.append_execute_result(NB_LOAD_WARNING)\n",
       "    }\n",
       "\n",
       "  }\n",
       "\n",
       "  if (root._bokeh_is_loading === 0) {\n",
       "    console.debug(\"Bokeh: BokehJS loaded, going straight to plotting\");\n",
       "    run_inline_js();\n",
       "  } else {\n",
       "    load_libs(css_urls, js_urls, function() {\n",
       "      console.debug(\"Bokeh: BokehJS plotting callback run at\", now());\n",
       "      run_inline_js();\n",
       "    });\n",
       "  }\n",
       "}(window));"
      ],
      "application/vnd.bokehjs_load.v0+json": "\n(function(root) {\n  function now() {\n    return new Date();\n  }\n\n  const force = true;\n\n  if (typeof root._bokeh_onload_callbacks === \"undefined\" || force === true) {\n    root._bokeh_onload_callbacks = [];\n    root._bokeh_is_loading = undefined;\n  }\n\n  \n\n  \n  if (typeof (root._bokeh_timeout) === \"undefined\" || force === true) {\n    root._bokeh_timeout = Date.now() + 5000;\n    root._bokeh_failed_load = false;\n  }\n\n  const NB_LOAD_WARNING = {'data': {'text/html':\n     \"<div style='background-color: #fdd'>\\n\"+\n     \"<p>\\n\"+\n     \"BokehJS does not appear to have successfully loaded. If loading BokehJS from CDN, this \\n\"+\n     \"may be due to a slow or bad network connection. Possible fixes:\\n\"+\n     \"</p>\\n\"+\n     \"<ul>\\n\"+\n     \"<li>re-rerun `output_notebook()` to attempt to load from CDN again, or</li>\\n\"+\n     \"<li>use INLINE resources instead, as so:</li>\\n\"+\n     \"</ul>\\n\"+\n     \"<code>\\n\"+\n     \"from bokeh.resources import INLINE\\n\"+\n     \"output_notebook(resources=INLINE)\\n\"+\n     \"</code>\\n\"+\n     \"</div>\"}};\n\n  function display_loaded() {\n    const el = document.getElementById(\"1002\");\n    if (el != null) {\n      el.textContent = \"BokehJS is loading...\";\n    }\n    if (root.Bokeh !== undefined) {\n      if (el != null) {\n        el.textContent = \"BokehJS \" + root.Bokeh.version + \" successfully loaded.\";\n      }\n    } else if (Date.now() < root._bokeh_timeout) {\n      setTimeout(display_loaded, 100)\n    }\n  }\n\n\n  function run_callbacks() {\n    try {\n      root._bokeh_onload_callbacks.forEach(function(callback) {\n        if (callback != null)\n          callback();\n      });\n    } finally {\n      delete root._bokeh_onload_callbacks\n    }\n    console.debug(\"Bokeh: all callbacks have finished\");\n  }\n\n  function load_libs(css_urls, js_urls, callback) {\n    if (css_urls == null) css_urls = [];\n    if (js_urls == null) js_urls = [];\n\n    root._bokeh_onload_callbacks.push(callback);\n    if (root._bokeh_is_loading > 0) {\n      console.debug(\"Bokeh: BokehJS is being loaded, scheduling callback at\", now());\n      return null;\n    }\n    if (js_urls == null || js_urls.length === 0) {\n      run_callbacks();\n      return null;\n    }\n    console.debug(\"Bokeh: BokehJS not loaded, scheduling load and callback at\", now());\n    root._bokeh_is_loading = css_urls.length + js_urls.length;\n\n    function on_load() {\n      root._bokeh_is_loading--;\n      if (root._bokeh_is_loading === 0) {\n        console.debug(\"Bokeh: all BokehJS libraries/stylesheets loaded\");\n        run_callbacks()\n      }\n    }\n\n    function on_error(url) {\n      console.error(\"failed to load \" + url);\n    }\n\n    for (let i = 0; i < css_urls.length; i++) {\n      const url = css_urls[i];\n      const element = document.createElement(\"link\");\n      element.onload = on_load;\n      element.onerror = on_error.bind(null, url);\n      element.rel = \"stylesheet\";\n      element.type = \"text/css\";\n      element.href = url;\n      console.debug(\"Bokeh: injecting link tag for BokehJS stylesheet: \", url);\n      document.body.appendChild(element);\n    }\n\n    for (let i = 0; i < js_urls.length; i++) {\n      const url = js_urls[i];\n      const element = document.createElement('script');\n      element.onload = on_load;\n      element.onerror = on_error.bind(null, url);\n      element.async = false;\n      element.src = url;\n      console.debug(\"Bokeh: injecting script tag for BokehJS library: \", url);\n      document.head.appendChild(element);\n    }\n  };\n\n  function inject_raw_css(css) {\n    const element = document.createElement(\"style\");\n    element.appendChild(document.createTextNode(css));\n    document.body.appendChild(element);\n  }\n\n  \n  const js_urls = [\"https://cdn.bokeh.org/bokeh/release/bokeh-2.4.2.min.js\", \"https://cdn.bokeh.org/bokeh/release/bokeh-gl-2.4.2.min.js\", \"https://cdn.bokeh.org/bokeh/release/bokeh-widgets-2.4.2.min.js\", \"https://cdn.bokeh.org/bokeh/release/bokeh-tables-2.4.2.min.js\", \"https://cdn.bokeh.org/bokeh/release/bokeh-mathjax-2.4.2.min.js\", \"https://unpkg.com/@holoviz/panel@0.12.6/dist/panel.min.js\"];\n  const css_urls = [];\n  \n\n  const inline_js = [\n    function(Bokeh) {\n      Bokeh.set_log_level(\"info\");\n    },\n    function(Bokeh) {\n    \n    \n    }\n  ];\n\n  function run_inline_js() {\n    \n    if (root.Bokeh !== undefined || force === true) {\n      \n    for (let i = 0; i < inline_js.length; i++) {\n      inline_js[i].call(root, root.Bokeh);\n    }\n    if (force === true) {\n        display_loaded();\n      }} else if (Date.now() < root._bokeh_timeout) {\n      setTimeout(run_inline_js, 100);\n    } else if (!root._bokeh_failed_load) {\n      console.log(\"Bokeh: BokehJS failed to load within specified timeout.\");\n      root._bokeh_failed_load = true;\n    } else if (force !== true) {\n      const cell = $(document.getElementById(\"1002\")).parents('.cell').data().cell;\n      cell.output_area.append_execute_result(NB_LOAD_WARNING)\n    }\n\n  }\n\n  if (root._bokeh_is_loading === 0) {\n    console.debug(\"Bokeh: BokehJS loaded, going straight to plotting\");\n    run_inline_js();\n  } else {\n    load_libs(css_urls, js_urls, function() {\n      console.debug(\"Bokeh: BokehJS plotting callback run at\", now());\n      run_inline_js();\n    });\n  }\n}(window));"
     },
     "metadata": {},
     "output_type": "display_data"
    },
    {
     "data": {
      "text/html": [
       "\n",
       "\n",
       "\n",
       "\n",
       "\n",
       "\n",
       "  <div class=\"bk-root\" id=\"d677188e-4e6b-4c66-8714-c1e2f76078b8\" data-root-id=\"1004\"></div>\n"
      ]
     },
     "metadata": {},
     "output_type": "display_data"
    },
    {
     "data": {
      "application/javascript": [
       "(function(root) {\n",
       "  function embed_document(root) {\n",
       "    \n",
       "  const docs_json = {\"0527f958-ef1f-47cb-8568-9d02706f41d0\":{\"defs\":[{\"extends\":null,\"module\":null,\"name\":\"ReactiveHTML1\",\"overrides\":[],\"properties\":[]},{\"extends\":null,\"module\":null,\"name\":\"FlexBox1\",\"overrides\":[],\"properties\":[{\"default\":\"flex-start\",\"kind\":null,\"name\":\"align_content\"},{\"default\":\"flex-start\",\"kind\":null,\"name\":\"align_items\"},{\"default\":\"row\",\"kind\":null,\"name\":\"flex_direction\"},{\"default\":\"wrap\",\"kind\":null,\"name\":\"flex_wrap\"},{\"default\":\"flex-start\",\"kind\":null,\"name\":\"justify_content\"}]},{\"extends\":null,\"module\":null,\"name\":\"TemplateActions1\",\"overrides\":[],\"properties\":[{\"default\":0,\"kind\":null,\"name\":\"open_modal\"},{\"default\":0,\"kind\":null,\"name\":\"close_modal\"}]},{\"extends\":null,\"module\":null,\"name\":\"MaterialTemplateActions1\",\"overrides\":[],\"properties\":[{\"default\":0,\"kind\":null,\"name\":\"open_modal\"},{\"default\":0,\"kind\":null,\"name\":\"close_modal\"}]}],\"roots\":{\"references\":[{\"attributes\":{\"background_fill_color\":\"white\",\"below\":[{\"id\":\"1013\"}],\"center\":[{\"id\":\"1016\"},{\"id\":\"1020\"}],\"height\":800,\"left\":[{\"id\":\"1017\"}],\"renderers\":[{\"id\":\"1041\"}],\"title\":{\"id\":\"1043\"},\"toolbar\":{\"id\":\"1029\"},\"width\":800,\"x_range\":{\"id\":\"1005\"},\"x_scale\":{\"id\":\"1009\"},\"y_range\":{\"id\":\"1007\"},\"y_scale\":{\"id\":\"1011\"}},\"id\":\"1004\",\"subtype\":\"Figure\",\"type\":\"Plot\"},{\"attributes\":{\"fill_alpha\":{\"value\":0.2},\"fill_color\":{\"field\":\"color\"},\"hatch_alpha\":{\"value\":0.2},\"hatch_color\":{\"field\":\"color\"},\"line_alpha\":{\"value\":0.2},\"line_color\":{\"field\":\"color\"},\"size\":{\"value\":2},\"x\":{\"field\":\"x\"},\"y\":{\"field\":\"y\"}},\"id\":\"1040\",\"type\":\"Circle\"},{\"attributes\":{},\"id\":\"1005\",\"type\":\"DataRange1d\"},{\"attributes\":{},\"id\":\"1050\",\"type\":\"AllLabels\"},{\"attributes\":{},\"id\":\"1021\",\"type\":\"PanTool\"},{\"attributes\":{},\"id\":\"1046\",\"type\":\"BasicTickFormatter\"},{\"attributes\":{\"coordinates\":null,\"group\":null},\"id\":\"1043\",\"type\":\"Title\"},{\"attributes\":{},\"id\":\"1024\",\"type\":\"SaveTool\"},{\"attributes\":{\"data\":{\"alpha\":[1,1,1,1,1,1,1,1,1,1,1,1,1,1,1,1,1,1,1,1,1,1,1,1,1,1,1,1,1,1,1,1,1,1,1,1,1,1,1,1,1,1,1,1,1,1,1,1,1,1,1,1,1,1,1,1,1,1,1,1,1,1,1,1,1,1,1,1,1,1,1,1,1,1,1,1,1,1,1,1,1,1,1,1,1,1,1,1,1,1,1,1,1,1,1,1,1,1,1,1,1,1,1,1,1,1,1,1,1,1,1,1,1,1,1,1,1,1,1,1,1,1,1,1,1,1,1,1,1,1,1,1,1,1,1,1,1,1,1,1,1,1,1,1,1,1,1,1,1,1,1,1,1,1,1,1,1,1,1,1,1,1,1,1,1,1,1,1,1,1,1,1,1,1,1,1,1,1,1,1,1,1,1,1,1,1,1,1,1,1,1,1,1,1,1,1,1,1,1,1,1,1,1],\"color\":[\"#9e0142\",\"#a00343\",\"#a20643\",\"#a40844\",\"#a90d45\",\"#ab0f45\",\"#ad1246\",\"#af1446\",\"#b41947\",\"#b61b48\",\"#b81e48\",\"#ba2049\",\"#be254a\",\"#c1274a\",\"#c32a4b\",\"#c72e4c\",\"#c9314c\",\"#cb334d\",\"#cd364d\",\"#d23a4e\",\"#d43d4f\",\"#d63f4f\",\"#d7414e\",\"#d9444d\",\"#da464d\",\"#dc484c\",\"#dd4a4c\",\"#df4e4b\",\"#e1504b\",\"#e2514a\",\"#e45549\",\"#e55749\",\"#e75948\",\"#e85b48\",\"#ea5e47\",\"#eb6046\",\"#ed6246\",\"#ee6445\",\"#f06744\",\"#f26944\",\"#f36b43\",\"#f46d43\",\"#f57245\",\"#f57547\",\"#f57748\",\"#f67c4a\",\"#f67f4b\",\"#f7814c\",\"#f7844e\",\"#f88950\",\"#f88c51\",\"#f98e52\",\"#f99153\",\"#fa9656\",\"#fa9857\",\"#fa9b58\",\"#fb9d59\",\"#fba35c\",\"#fca55d\",\"#fca85e\",\"#fdad60\",\"#fdaf62\",\"#fdb163\",\"#fdb365\",\"#fdb768\",\"#fdb96a\",\"#fdbb6c\",\"#fdbd6d\",\"#fdc171\",\"#fdc372\",\"#fdc574\",\"#fdc776\",\"#feca79\",\"#fecc7b\",\"#fece7c\",\"#fed27f\",\"#fed481\",\"#fed683\",\"#fed884\",\"#fedc88\",\"#fede89\",\"#fee08b\",\"#fee18d\",\"#fee491\",\"#fee593\",\"#fee695\",\"#fee797\",\"#feea9b\",\"#feeb9d\",\"#feec9f\",\"#feefa3\",\"#fff0a6\",\"#fff1a8\",\"#fff2aa\",\"#fff5ae\",\"#fff6b0\",\"#fff7b2\",\"#fff8b4\",\"#fffbb8\",\"#fffcba\",\"#fffdbc\",\"#ffffbe\",\"#fefebd\",\"#fdfebb\",\"#fcfeba\",\"#fafdb7\",\"#f9fcb5\",\"#f8fcb4\",\"#f7fcb2\",\"#f5fbaf\",\"#f4faad\",\"#f3faac\",\"#f2faaa\",\"#f0f9a7\",\"#eff9a6\",\"#eef8a4\",\"#ecf7a1\",\"#ebf7a0\",\"#eaf79e\",\"#e9f69d\",\"#e7f59a\",\"#e6f598\",\"#e4f498\",\"#e1f399\",\"#ddf19a\",\"#daf09a\",\"#d8ef9b\",\"#d6ee9b\",\"#d1ed9c\",\"#cfec9d\",\"#cdeb9d\",\"#c8e99e\",\"#c6e89f\",\"#c3e79f\",\"#c1e6a0\",\"#bce4a0\",\"#bae3a1\",\"#b8e2a1\",\"#b5e1a2\",\"#b1dfa3\",\"#aedea3\",\"#acdda4\",\"#aadca4\",\"#a4daa4\",\"#a2d9a4\",\"#9fd8a4\",\"#99d6a4\",\"#97d5a4\",\"#94d4a4\",\"#91d3a4\",\"#8cd1a4\",\"#89d0a4\",\"#86cfa5\",\"#84cea5\",\"#7ecca5\",\"#7ccaa5\",\"#79c9a5\",\"#76c8a5\",\"#71c6a5\",\"#6ec5a5\",\"#6bc4a5\",\"#66c2a5\",\"#64c0a6\",\"#62bda7\",\"#60bba8\",\"#5cb7aa\",\"#5ab4ab\",\"#58b2ac\",\"#56b0ad\",\"#52abae\",\"#50a9af\",\"#4ea7b0\",\"#4ba4b1\",\"#47a0b3\",\"#459eb4\",\"#439bb5\",\"#3f97b7\",\"#3d95b8\",\"#3b92b9\",\"#3990ba\",\"#358bbc\",\"#3389bd\",\"#3387bc\",\"#3585bb\",\"#3880b9\",\"#3a7eb8\",\"#3b7cb7\",\"#3d79b6\",\"#4175b4\",\"#4273b3\",\"#4471b2\",\"#486cb0\",\"#496aaf\",\"#4b68ae\",\"#4d65ad\",\"#5061aa\",\"#525fa9\",\"#545ca8\",\"#555aa7\",\"#5956a5\",\"#5b53a4\",\"#5c51a3\",\"#5e4fa2\"],\"index\":[0,1,2,3,4,5,6,7,8,9,10,11,12,13,14,15,16,17,18,19,20,21,22,23,24,25,26,27,28,29,30,31,32,33,34,35,36,37,38,39,40,41,42,43,44,45,46,47,48,49,50,51,52,53,54,55,56,57,58,59,60,61,62,63,64,65,66,67,68,69,70,71,72,73,74,75,76,77,78,79,80,81,82,83,84,85,86,87,88,89,90,91,92,93,94,95,96,97,98,99,100,101,102,103,104,105,106,107,108,109,110,111,112,113,114,115,116,117,118,119,120,121,122,123,124,125,126,127,128,129,130,131,132,133,134,135,136,137,138,139,140,141,142,143,144,145,146,147,148,149,150,151,152,153,154,155,156,157,158,159,160,161,162,163,164,165,166,167,168,169,170,171,172,173,174,175,176,177,178,179,180,181,182,183,184,185,186,187,188,189,190,191,192,193,194,195,196,197,198,199,200,201,202],\"label\":[0,1,2,3,4,5,6,7,8,9,10,11,12,13,14,15,16,17,18,19,20,21,22,23,24,25,26,27,28,29,30,31,32,33,34,35,36,37,38,39,40,41,42,43,44,45,46,47,48,49,50,51,52,53,54,55,56,57,58,59,60,61,62,63,64,65,66,67,68,69,70,71,72,73,74,75,76,77,78,79,80,81,82,83,84,85,86,87,88,89,90,91,92,93,94,95,96,97,98,99,100,101,102,103,104,105,106,107,108,109,110,111,112,113,114,115,116,117,118,119,120,121,122,123,124,125,126,127,128,129,130,131,132,133,134,135,136,137,138,139,140,141,142,143,144,145,146,147,148,149,150,151,152,153,154,155,156,157,158,159,160,161,162,163,164,165,166,167,168,169,170,171,172,173,174,175,176,177,178,179,180,181,182,183,184,185,186,187,188,189,190,191,192,193,194,195,196,197,198,199,200,201,202],\"level_0\":[0,1,2,3,4,5,6,7,8,9,10,11,12,13,14,15,16,17,18,19,20,21,22,23,24,25,26,27,28,29,30,31,32,33,34,35,36,37,38,39,40,41,42,43,44,45,46,47,48,49,50,51,52,53,54,55,56,57,58,59,60,61,62,63,64,65,66,67,68,69,70,71,72,73,74,75,76,77,78,79,80,81,82,83,84,85,86,87,88,89,90,91,92,93,94,95,96,97,98,99,100,101,102,103,104,105,106,107,108,109,110,111,112,113,114,115,116,117,118,119,120,121,122,123,124,125,126,127,128,129,130,131,132,133,134,135,136,137,138,139,140,141,142,143,144,145,146,147,148,149,150,151,152,153,154,155,156,157,158,159,160,161,162,163,164,165,166,167,168,169,170,171,172,173,174,175,176,177,178,179,180,181,182,183,184,185,186,187,188,189,190,191,192,193,194,195,196,197,198,199,200,201,202],\"url\":[\"investors.boxlight.com\",\"www.westernunion.com\",\"www.scana.com\",\"www.unfi.com\",\"www.spathinc.com\",\"www.deepwater.com\",\"www.neenah.com\",\"www.digitalrealty.com\",\"www.agnc.com\",\"www.promisneurosciences.com\",\"www.enablence.com\",\"www.twilio.com\",\"www.magbank.com\",\"www.streamlinehealth.net\",\"www.infi.com\",\"www.st.com\",\"www.validusholdings.com\",\"www.texcomresources.com\",\"www.suburbanpropane.com\",\"www.emcorgroup.com\",\"www.mistrasgroup.com\",\"www.valmont.com\",\"www.stepan.com\",\"www.wajax.com\",\"www.discover.com\",\"www.k12.com\",\"www.illumina.com\",\"www.callawaygolf.com\",\"www.horizonbank.com\",\"www.superiorenergy.com\",\"www.inovalon.com\",\"www.brandywinerealty.com\",\"www.lucaradiamond.com\",\"www.basco.com\",\"www.acuitybrands.com\",\"www.nxstage.com\",\"www.nielsen.com\",\"www.foundationmedicine.com\",\"www.elpolloloco.com\",\"www.emerson.com\",\"www.gnty.com\",\"www.express-scripts.com\",\"www.saia.com\",\"www.atha.com\",\"www.acelrx.com\",\"www.royalgold.com\",\"investor.lantheus.com\",\"www.cesenergysolutions.com\",\"www.regenxbio.com\",\"www.westpharma.com\",\"www.intercloudsys.com\",\"www.big5sportinggoods.com\",\"www.xpresspagroup.com\",\"www.eyegatepharma.com\",\"www.trecora.com\",\"www.hudsongroup.com\",\"www.franklin-electric.com\",\"www.wexinc.com\",\"www.delta.com\",\"www.titanlogix.com\",\"www.bankofamerica.com\",\"www.sbgi.net\",\"www.unifi.com\",\"www.nektar.com\",\"www.teligent.com\",\"www.eaglebankcorp.com\",\"www.plexus.com\",\"www.southside.com\",\"www.lowes.com\",\"www.intersections.com\",\"www.dsssecure.com\",\"www.sbasite.com\",\"www.seadrillpartners.com\",\"www.idt.net\",\"www.roireit.net\",\"www.alarisroyalty.com\",\"www.bakerboyer.com\",\"www.plugpower.com\",\"www.smartbank.com\",\"www.dxienergy.com\",\"www.smb-t.com\",\"www.posera.com\",\"www.freedomleaf.com\",\"biostage.com\",\"www.aksteel.com\",\"www.perrigo.com\",\"www.cgen.com\",\"www.cspi.com\",\"www.accordfinancial.com\",\"www.ahtreit.com\",\"www.power.com\",\"www.harleysvillebank.com\",\"www.bnccorp.com\",\"www.ally.com\",\"www.b2gold.com\",\"www.expeditions.com\",\"www.cgi.com\",\"www.cars.com\",\"www.pivotal.io\",\"www.gpigaming.com\",\"www.cvshealth.com\",\"agreerealty.com\",\"www.welltower.com\",\"www.wvsbank.com\",\"radiantdelivers.com\",\"www.spinmaster.com\",\"www.cartesian.com\",\"www.everbridge.com\",\"www.intricon.com\",\"www.conatuspharma.com\",\"group.bnpparibas\",\"www.hibbett.com\",\"www.central.com\",\"www.dicerna.com\",\"www.brf-global.com\",\"www.efi.com\",\"www.rudolphtech.com\",\"www.magellanlp.com\",\"www.pgecorp.com\",\"www.lcnb.com\",\"www.lxp.com\",\"www.salisburybank.com\",\"www.monotype.com\",\"www.gcgaming.com\",\"www.archcapgroup.com\",\"www.stewart.com\",\"tfcc.ca\",\"www.mbia.com\",\"www.inseego.com\",\"www.boralex.com\",\"www.cincinnatibell.com\",\"www.xerox.com\",\"www.tiffany.com\",\"www.fcagroup.com\",\"www.somersettrust.com\",\"www.enterprisebank.com\",\"www.curaegis.com\",\"www.newflyer.com\",\"bluerockresidential.com\",\"www.5nplus.com\",\"www.cathedralenergyservices.com\",\"www.omnicell.com\",\"www.immomo.com\",\"www.StateAuto.com\",\"www.rockwellcollins.com\",\"www.partycity.com\",\"www.mgmgrowthproperties.com\",\"www.teaminc.com\",\"www.pfgc.com\",\"www.woodward.com\",\"www.thedimebank.com\",\"www.engagementlabs.com\",\"www.spok.com\",\"www.eon.com\",\"www.servicesource.com\",\"www.onemainfinancial.com\",\"www.northwest.com\",\"www.nautilusinc.com\",\"www.destinationxl.com\",\"www.drpeppersnapplegroup.com\",\"www.clearwater.ca\",\"www.tricanwellservice.com\",\"www.aarons.com\",\"www.progress.com\",\"www.iradimed.com\",\"www.thehackettgroup.com\",\"www.ggp.com\",\"www.archcoal.com\",\"www.westwoodgroup.com\",\"www.mullen-group.com\",\"www.cocrystalpharma.com\",\"www.logistec.com\",\"www.enelamericas.com\",\"www.coremt.com\",\"www.commscope.com\",\"www.cousins.com\",\"www.gruposupervielle.com\",\"www.conduent.com\",\"www.interrentreit.com\",\"www.whitestonereit.com\",\"www.scynexis.com\",\"www.gcpat.com\",\"www.armaninofoods.com\",\"www.rowan.com\",\"www.ramcoproperties.com\",\"www.footlocker-inc.com\",\"corporate.exxonmobil.com\",\"www.ascentcapitalgroupinc.com\",\"www.firstmid.com\",\"www.itron.com\",\"www.salemmedia.com\",\"www.trezcapital.com\",\"www.gsk.com\",\"www.atlanticpower.com\",\"www.cnrl.com\",\"www.luminexcorp.com\",\"www.oritani.com\",\"www.sangamo.com\",\"www.laurentianbank.com\",\"www.nexj.com\",\"www.asiaotcmarkets.com\",\"www.truetthurstinc.com\",\"www.usatech.com\"],\"x\":{\"__ndarray__\":\"njscQWndv0CvAx1B+CPIQCDNDkHJIuZA6B3dQO410kA6Cb1AS37MQEXOLUGwBNJAM0+WQOq3HEFDZTBBBr/UQANU4kBwYg1B++osQeM1I0E4v7BANq0kQXRBCkH/hb1AfamgQAuJAUHT8dZAEIgwQWRO+UBGjRxBzhbxQJ1ng0AiBAxBx2UNQTzfJUHePQ1BUwcPQcLiy0CeIn1AvXfeQBHD5EANHw9B7xeDQASV+kDC/QJBNT72QNngHEGfpp5ADlEHQaRq7EBOcDBBLPwPQbzEGUHV8e5A8mUsQUXtJEHuWNxA0Nr/QPrmBEEmY4FAmCULQRLYIkHZZ5xAAK3gQL7GxUCc0udAsN7MQDWeoUAzDc1AB/8eQQalEUHIIhZBHoGjQAlO/EB0xzJB6GHyQNKaH0EdA3NA0QiYQCfOhkDUzwRBr0okQQkMKkErpP5AIXIWQQavHEHSwoZAVeceQYpiekBxCxJBe+ILQWhxlUBXX5dArM7AQDwR+kAeDxhBoyERQTaFBUE1A+VAo4AyQYKvHEHjoYNAZEsSQVANFkEisS1BcOwxQVHOCEFCtwNBxO4YQSzYE0HfQ9pAwFUVQfmEGEGgsfFAdZ2aQDx4/EANveFAvvCCQAYRDEHrQQRBPR2KQDZ1lkCk6s1A9nTNQNI91UCtVyVBFScFQQkBAUEBqBFBZBWjQFeeEkGmYtpAn2APQVdlyEA+XpJAqH2TQBpuAkHTFipBEQMQQXXfsEB7Y/VAbdLmQE2q+UAiZBtB9PwbQeprFUG+l81AP7kWQVXVBkHkfaRA6OCjQCbJBkHBOP5AkXAIQdIUJEF9BxBBBbXBQM1HDkH2niFBQKwTQaaWFUFOuflAaEjLQNrb3EDCxAhBv5vlQEjvh0AkOAVB2c7lQHg85EAtRShBtGiNQIzvi0A2cAlBuWfiQNtGHUHL93tAboEAQbl1nkA6TOxA3agHQXNBC0EioitBaHujQMWnBkFDf6xAM2IgQb+AEEGTv/xALHzRQIckEkGxidpAca8kQWK1IEFL78tAQKLeQLln+0CTgC5BGkOUQFdSB0GUxdFAVLkwQYUbHkE=\",\"dtype\":\"float32\",\"order\":\"little\",\"shape\":[203]},\"y\":{\"__ndarray__\":\"5CwAQY5F2UDO0bdAjIsLQWVC00D2RttAbNr/QL3OBEGaFeFAl00CQQtK4kDNwQtBVH3PQGkFy0CCwdtAuznzQJs3DEG93s5AOn3nQNwYyECicPdA9eDtQAxq2UAq0wZBbajYQCcH4kA4F+JAbNXMQHgYCkFSEvVAxqntQDApDkHetMVAJaT0QIkN7EB2h/RAeMu6QNQQEEE/TwRBLxz+QExwEUGhzrNApcUFQeuh40AuxtBAmbnJQOpU/0DptQpBlmS/QNbm/0Bw/9FADrUAQTzqukCTbN5A0eDKQIjTwkAYnuRA0ur7QPZ7AEF2jAZBoicMQQbWv0DtEQZBN9nUQK2mAEFqPchALdIDQY0r3UBSlc1ALJy/QNFYq0Cq0upAx40NQZcQx0Bo2NRAMl4PQTe06kCB9AlByavQQKUoDUEFsQtBJLDOQH/qzUCbRt1AHmz2QBaIvUCAewtBeITiQNS+CEGCXcdA8oPmQEi1zkD9pdBAJ97WQDxVDUFgxs9AQ33LQEtct0B+xPBAIUDUQOy7ukBnvQtBAhXjQNUwBkE7FONAGM7NQEdBzUA+MPhADpjpQPfS1EDfhABB97+0QMBk1kDc/wRB6j8LQUJkzECpK9RAM1AHQa6PBUEyTgtBV5INQaZUz0DhAtpA5skPQcNxB0F+XdZALyMHQei90UBRDgJBwwcNQYMP9kClCPNAzmwFQQHKA0FpostAG+/MQNoj+ECjG9lADi3bQJl/+ECpGeNA1i7wQKGN/UCb68NAZn3iQOy/BEFulddAuIreQJuY1ED5WwBBLYTXQFW74kAcyeFAyffDQHYt5EBQNrdAcGjnQIUG/kAc391Aw+a0QHxN0UAtIeZAfhLVQOFt60B67K9AtgMFQed8BEE5nNpAlKQNQWqmCUHaw8RAYigFQcGUCEGf99JAbh/0QMwLzkAJzglBAlfkQAeICkH08s1AllcBQeho4EDzP9JAW40AQYri7UCOFPtAAwjDQKt56ECmeQZB3oHhQMTo90CZghBBnb/pQHbzAEGWng5B9C0DQcxP9kAUbtNAq9wGQQUD60CKhxBBBxXXQIxuAEE=\",\"dtype\":\"float32\",\"order\":\"little\",\"shape\":[203]}},\"selected\":{\"id\":\"1052\"},\"selection_policy\":{\"id\":\"1051\"}},\"id\":\"1003\",\"type\":\"ColumnDataSource\"},{\"attributes\":{\"callback\":null,\"tooltips\":[[\"index\",\"@{index}\"],[\"url\",\"@{url}\"]]},\"id\":\"1028\",\"type\":\"HoverTool\"},{\"attributes\":{\"axis\":{\"id\":\"1013\"},\"coordinates\":null,\"group\":null,\"ticker\":null,\"visible\":false},\"id\":\"1016\",\"type\":\"Grid\"},{\"attributes\":{\"coordinates\":null,\"formatter\":{\"id\":\"1046\"},\"group\":null,\"major_label_policy\":{\"id\":\"1047\"},\"ticker\":{\"id\":\"1018\"},\"visible\":false},\"id\":\"1017\",\"type\":\"LinearAxis\"},{\"attributes\":{\"fill_alpha\":{\"field\":\"alpha\"},\"fill_color\":{\"field\":\"color\"},\"hatch_alpha\":{\"field\":\"alpha\"},\"hatch_color\":{\"field\":\"color\"},\"line_alpha\":{\"field\":\"alpha\"},\"line_color\":{\"field\":\"color\"},\"size\":{\"value\":2},\"x\":{\"field\":\"x\"},\"y\":{\"field\":\"y\"}},\"id\":\"1038\",\"type\":\"Circle\"},{\"attributes\":{\"tools\":[{\"id\":\"1021\"},{\"id\":\"1022\"},{\"id\":\"1023\"},{\"id\":\"1024\"},{\"id\":\"1025\"},{\"id\":\"1026\"},{\"id\":\"1028\"}]},\"id\":\"1029\",\"type\":\"Toolbar\"},{\"attributes\":{},\"id\":\"1022\",\"type\":\"WheelZoomTool\"},{\"attributes\":{},\"id\":\"1026\",\"type\":\"HelpTool\"},{\"attributes\":{\"axis\":{\"id\":\"1017\"},\"coordinates\":null,\"dimension\":1,\"group\":null,\"ticker\":null,\"visible\":false},\"id\":\"1020\",\"type\":\"Grid\"},{\"attributes\":{},\"id\":\"1025\",\"type\":\"ResetTool\"},{\"attributes\":{\"coordinates\":null,\"data_source\":{\"id\":\"1003\"},\"glyph\":{\"id\":\"1038\"},\"group\":null,\"hover_glyph\":null,\"muted_glyph\":{\"id\":\"1040\"},\"nonselection_glyph\":{\"id\":\"1039\"},\"view\":{\"id\":\"1042\"}},\"id\":\"1041\",\"type\":\"GlyphRenderer\"},{\"attributes\":{\"source\":{\"id\":\"1003\"}},\"id\":\"1042\",\"type\":\"CDSView\"},{\"attributes\":{},\"id\":\"1011\",\"type\":\"LinearScale\"},{\"attributes\":{},\"id\":\"1009\",\"type\":\"LinearScale\"},{\"attributes\":{\"coordinates\":null,\"formatter\":{\"id\":\"1049\"},\"group\":null,\"major_label_policy\":{\"id\":\"1050\"},\"ticker\":{\"id\":\"1014\"},\"visible\":false},\"id\":\"1013\",\"type\":\"LinearAxis\"},{\"attributes\":{\"overlay\":{\"id\":\"1027\"}},\"id\":\"1023\",\"type\":\"BoxZoomTool\"},{\"attributes\":{},\"id\":\"1014\",\"type\":\"BasicTicker\"},{\"attributes\":{},\"id\":\"1052\",\"type\":\"Selection\"},{\"attributes\":{},\"id\":\"1049\",\"type\":\"BasicTickFormatter\"},{\"attributes\":{},\"id\":\"1007\",\"type\":\"DataRange1d\"},{\"attributes\":{},\"id\":\"1018\",\"type\":\"BasicTicker\"},{\"attributes\":{},\"id\":\"1047\",\"type\":\"AllLabels\"},{\"attributes\":{\"fill_alpha\":{\"value\":0.1},\"fill_color\":{\"field\":\"color\"},\"hatch_alpha\":{\"value\":0.1},\"hatch_color\":{\"field\":\"color\"},\"line_alpha\":{\"value\":0.1},\"line_color\":{\"field\":\"color\"},\"size\":{\"value\":2},\"x\":{\"field\":\"x\"},\"y\":{\"field\":\"y\"}},\"id\":\"1039\",\"type\":\"Circle\"},{\"attributes\":{\"bottom_units\":\"screen\",\"coordinates\":null,\"fill_alpha\":0.5,\"fill_color\":\"lightgrey\",\"group\":null,\"left_units\":\"screen\",\"level\":\"overlay\",\"line_alpha\":1.0,\"line_color\":\"black\",\"line_dash\":[4,4],\"line_width\":2,\"right_units\":\"screen\",\"syncable\":false,\"top_units\":\"screen\"},\"id\":\"1027\",\"type\":\"BoxAnnotation\"},{\"attributes\":{},\"id\":\"1051\",\"type\":\"UnionRenderers\"}],\"root_ids\":[\"1004\"]},\"title\":\"Bokeh Application\",\"version\":\"2.4.2\"}};\n",
       "  const render_items = [{\"docid\":\"0527f958-ef1f-47cb-8568-9d02706f41d0\",\"root_ids\":[\"1004\"],\"roots\":{\"1004\":\"d677188e-4e6b-4c66-8714-c1e2f76078b8\"}}];\n",
       "  root.Bokeh.embed.embed_items_notebook(docs_json, render_items);\n",
       "\n",
       "  }\n",
       "  if (root.Bokeh !== undefined) {\n",
       "    embed_document(root);\n",
       "  } else {\n",
       "    let attempts = 0;\n",
       "    const timer = setInterval(function(root) {\n",
       "      if (root.Bokeh !== undefined) {\n",
       "        clearInterval(timer);\n",
       "        embed_document(root);\n",
       "      } else {\n",
       "        attempts++;\n",
       "        if (attempts > 100) {\n",
       "          clearInterval(timer);\n",
       "          console.log(\"Bokeh: ERROR: Unable to run BokehJS code because BokehJS library is missing\");\n",
       "        }\n",
       "      }\n",
       "    }, 10, root)\n",
       "  }\n",
       "})(window);"
      ],
      "application/vnd.bokehjs_exec.v0+json": ""
     },
     "metadata": {
      "application/vnd.bokehjs_exec.v0+json": {
       "id": "1004"
      }
     },
     "output_type": "display_data"
    }
   ],
   "source": [
    "# interactive plot\n",
    "output_notebook()\n",
    "hover_df = embeddings_df.reset_index()\n",
    "hover_df[\"index\"] = hover_df.index\n",
    "p = umap.plot.interactive(mapper, labels=hover_df[\"index\"], hover_data=hover_df[[\"index\",\"url\"]], point_size=2)\n",
    "umap.plot.show(p)"
   ]
  },
  {
   "cell_type": "markdown",
   "metadata": {},
   "source": [
    "Explore the plots a bit. Can you observe any patterns in the results? Did you expect more or less variation? What do you make of the different clusters?"
   ]
  },
  {
   "cell_type": "markdown",
   "metadata": {},
   "source": [
    "# Exercises\n",
    "  * Going back to the keyword-in-context exercise, consider several additional keywords that may give you insight into how different companies are thinking about privacy. How often, for instance, do you see the word \"rights\" used? How often in conjunction with the word privacy? Do you find evidence of considerations for fairness? \n",
    "  * We've seen that the reading level for most privacy policies is quite high, but it's often a little difficult to interpret what, for example, a document written at a grade 14 reading level looks like. To gain some intuition, compute readability scores for some of your own writing (e.g., a prior course paper) and/or for some page on Wikipedia (you can use python, or do a quick Google search for an online readability calculator). How does the writing level of those compare to the privacy policies? \n",
    "  * There is a general presumption that many companies use fairly standardized (or boilerplate) privacy policies that are aimed primarily at avoiding legal liability, and that do not describe their particular data practices in detail. Do we see support for these views in the data? Do the privacy policies seem more or less variable than you expected? What are the implications for customers and other stakeholders?\n",
    "  * Spend some time exploring the data using any of the techniques above, or your own favorite analytical approach or tools. What additional insights can we learn about privacy policies?"
   ]
  }
 ],
 "metadata": {
  "kernelspec": {
   "display_name": "Python 3",
   "language": "python",
   "name": "python3"
  },
  "language_info": {
   "codemirror_mode": {
    "name": "ipython",
    "version": 3
   },
   "file_extension": ".py",
   "mimetype": "text/x-python",
   "name": "python",
   "nbconvert_exporter": "python",
   "pygments_lexer": "ipython3",
   "version": "3.9.10"
  }
 },
 "nbformat": 4,
 "nbformat_minor": 4
}
