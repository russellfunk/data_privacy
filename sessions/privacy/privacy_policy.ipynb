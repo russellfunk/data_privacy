{
 "cells": [
  {
   "cell_type": "markdown",
   "metadata": {},
   "source": [
    "# Evaluate a privacy policy\n",
    "\n",
    "Today, virtually every organization with which you interact will collect or use some about you. Most typically, the collection and use of these data will be disclosed according to an organization's privacy policy. We encounter these privacy polices all the time, when we create an account on a website, open a new credit card, or even sign up for grocery store loyalty program. Yet despite (or perhaps because of) their ubiquity, most people have never read a privacy policy from start to finish. Moreover, even if we took the time to read privacy policies, many of us would struggle to fully understand them due to their frequent use of complex, legalistic, and opaque language. These considerations raise many potential ethical questions regarding whether organizations are sufficiently transparent about the increasingly vast sums of data they collect about their users, customers, employees, and other stakeholders.\n",
    "\n",
    "The purpose of this notebook is to help you gain a better understanding of the landscape of contemporary privacy policies, using a data-driven approach. We'll leverage a [new dataset](https://github.com/ansgarw/privacy) that provides the full text of privacy policies for hundreds of publicly-traded companies, which we'll analyze using some techniques from natural language processing. By the time you make your way through this notebook, you should have a better understanding of the diverse form and content of modern privacy policies, their linguistic characteristics, and a few neat tricks for analyzing large textual data with Python. Without further ado, let's get started!"
   ]
  },
  {
   "cell_type": "markdown",
   "metadata": {},
   "source": [
    "# Roadmap\n",
    "  * Preliminaries (packages + data wrangling)\n",
    "  * Topic models\n",
    "  * Keywords in context\n",
    "  * Named entities\n",
    "  * Readability\n",
    "  * Embeddings\n",
    "  * Exercises"
   ]
  },
  {
   "cell_type": "markdown",
   "metadata": {},
   "source": [
    "# Preliminaries"
   ]
  },
  {
   "cell_type": "markdown",
   "metadata": {},
   "source": [
    "Let's start out by loading some packages. We'll be using pandas to help with data wrangling and holding the data in an easy to work with data frame format. The json package is part of the Python Standard Library and will help us with reading the raw data. Matplotlib is for plotting; umap is for clustering policies and is not completely necessary. Finally, we'll use several natural language processing packages, spacy, textacy, and gensim, for the actual text analysis. "
   ]
  },
  {
   "cell_type": "code",
   "execution_count": 1,
   "metadata": {},
   "outputs": [
    {
     "data": {
      "text/plain": [
       "'\\npip install pandas\\npip install spacy\\npython -m spacy download en_core_web_lg\\npip install textacy\\npip install gensim\\npip install umap\\npip install matplotlib\\n'"
      ]
     },
     "execution_count": 1,
     "metadata": {},
     "output_type": "execute_result"
    }
   ],
   "source": [
    "# run the following commands to install the needed packages\n",
    "\"\"\"\n",
    "pip install pandas\n",
    "pip install spacy\n",
    "python -m spacy download en_core_web_lg\n",
    "pip install textacy\n",
    "pip install gensim\n",
    "pip install umap\n",
    "pip install matplotlib\n",
    "\"\"\""
   ]
  },
  {
   "cell_type": "code",
   "execution_count": 2,
   "metadata": {},
   "outputs": [],
   "source": [
    "# load some packages\n",
    "import pandas as pd\n",
    "import json\n",
    "import spacy\n",
    "import textacy\n",
    "import textacy.text_stats\n",
    "import gensim\n",
    "import matplotlib.pyplot as plt\n",
    "import umap\n",
    "import umap.plot\n",
    "from bokeh.plotting import show, output_notebook\n",
    "import tqdm\n",
    "tqdm.tqdm.pandas()\n",
    "\n",
    "# for umap warnings\n",
    "from matplotlib.axes._axes import _log as matplotlib_axes_logger\n",
    "matplotlib_axes_logger.setLevel(\"ERROR\")\n",
    "\n",
    "# load spacy nlp model\n",
    "nlp = spacy.load(\"en_core_web_lg\", disable=[\"parser\"])\n",
    "nlp.max_length = 2000000"
   ]
  },
  {
   "cell_type": "markdown",
   "metadata": {},
   "source": [
    "Now, let's go ahead and load the data. "
   ]
  },
  {
   "cell_type": "code",
   "execution_count": 3,
   "metadata": {},
   "outputs": [],
   "source": [
    "# load the data\n",
    "with open(\"data/policies.json\") as f:\n",
    "  policies_df = pd.DataFrame({k:\" \".join(v) for k,v in json.load(f).items()}.items(), \n",
    "                             columns=[\"url\",\"policy_text\"])"
   ]
  },
  {
   "cell_type": "code",
   "execution_count": 4,
   "metadata": {},
   "outputs": [
    {
     "data": {
      "text/html": [
       "<div>\n",
       "<style scoped>\n",
       "    .dataframe tbody tr th:only-of-type {\n",
       "        vertical-align: middle;\n",
       "    }\n",
       "\n",
       "    .dataframe tbody tr th {\n",
       "        vertical-align: top;\n",
       "    }\n",
       "\n",
       "    .dataframe thead th {\n",
       "        text-align: right;\n",
       "    }\n",
       "</style>\n",
       "<table border=\"1\" class=\"dataframe\">\n",
       "  <thead>\n",
       "    <tr style=\"text-align: right;\">\n",
       "      <th></th>\n",
       "      <th>url</th>\n",
       "      <th>policy_text</th>\n",
       "    </tr>\n",
       "  </thead>\n",
       "  <tbody>\n",
       "    <tr>\n",
       "      <th>0</th>\n",
       "      <td>www.dsny.com</td>\n",
       "      <td>Investors Investors Home Stock Quote and Chart...</td>\n",
       "    </tr>\n",
       "    <tr>\n",
       "      <th>1</th>\n",
       "      <td>www.brf-global.com</td>\n",
       "      <td>BRF’s investor relations website includes forw...</td>\n",
       "    </tr>\n",
       "    <tr>\n",
       "      <th>2</th>\n",
       "      <td>www.belmond.com</td>\n",
       "      <td>Between fig trees and vibrant floodplains, be ...</td>\n",
       "    </tr>\n",
       "    <tr>\n",
       "      <th>3</th>\n",
       "      <td>www.pieris.com</td>\n",
       "      <td>Use of cookies on this website: This website u...</td>\n",
       "    </tr>\n",
       "    <tr>\n",
       "      <th>4</th>\n",
       "      <td>www.isoray.com</td>\n",
       "      <td>We respect your privacy and take Internet priv...</td>\n",
       "    </tr>\n",
       "  </tbody>\n",
       "</table>\n",
       "</div>"
      ],
      "text/plain": [
       "                  url                                        policy_text\n",
       "0        www.dsny.com  Investors Investors Home Stock Quote and Chart...\n",
       "1  www.brf-global.com  BRF’s investor relations website includes forw...\n",
       "2     www.belmond.com  Between fig trees and vibrant floodplains, be ...\n",
       "3      www.pieris.com  Use of cookies on this website: This website u...\n",
       "4      www.isoray.com  We respect your privacy and take Internet priv..."
      ]
     },
     "execution_count": 4,
     "metadata": {},
     "output_type": "execute_result"
    }
   ],
   "source": [
    "# check out the results\n",
    "policies_df.head()"
   ]
  },
  {
   "cell_type": "markdown",
   "metadata": {},
   "source": [
    "Looks pretty reasonable. We have one column for the URL and one for the full text of the privacy policy. Note that the orignal data come in a json format, and there, each URL is associated with a set of paragraphs that constitute each privacy policy. In the code above, when we load the data, we concatenate these paragraphs to a single text string, which will be easier for us to work with in what follows. "
   ]
  },
  {
   "cell_type": "markdown",
   "metadata": {},
   "source": [
    "Our next step will be to process the documents with spacy. We'll add a column to our data frame with the processed documents (that way we still have the raw text handy). This might take a minute. If it takes too long on your machine, you can just look at a random sample of policies. Just uncomment out the code below."
   ]
  },
  {
   "cell_type": "code",
   "execution_count": 5,
   "metadata": {},
   "outputs": [],
   "source": [
    "policies_df = policies_df.sample(frac=0.20) # set frac to some fraction that will run in a reasonable time on your machine"
   ]
  },
  {
   "cell_type": "code",
   "execution_count": 6,
   "metadata": {},
   "outputs": [
    {
     "name": "stderr",
     "output_type": "stream",
     "text": [
      "100%|██████████| 812/812 [12:09<00:00,  1.11it/s]  \n"
     ]
    }
   ],
   "source": [
    "policies_df[\"policy_text_processed\"] = policies_df.policy_text.progress_apply(nlp)"
   ]
  },
  {
   "cell_type": "markdown",
   "metadata": {},
   "source": [
    "With that simple line of code, spacy has done a bunch of hard work for us, including things like tokenization, part-of-speech tagging, entity parsing, and other stuff that go well beyond our needs today. Let's take a quick look."
   ]
  },
  {
   "cell_type": "code",
   "execution_count": 7,
   "metadata": {},
   "outputs": [
    {
     "data": {
      "text/html": [
       "<div>\n",
       "<style scoped>\n",
       "    .dataframe tbody tr th:only-of-type {\n",
       "        vertical-align: middle;\n",
       "    }\n",
       "\n",
       "    .dataframe tbody tr th {\n",
       "        vertical-align: top;\n",
       "    }\n",
       "\n",
       "    .dataframe thead th {\n",
       "        text-align: right;\n",
       "    }\n",
       "</style>\n",
       "<table border=\"1\" class=\"dataframe\">\n",
       "  <thead>\n",
       "    <tr style=\"text-align: right;\">\n",
       "      <th></th>\n",
       "      <th>url</th>\n",
       "      <th>policy_text</th>\n",
       "      <th>policy_text_processed</th>\n",
       "    </tr>\n",
       "  </thead>\n",
       "  <tbody>\n",
       "    <tr>\n",
       "      <th>599</th>\n",
       "      <td>www.ppbi.com</td>\n",
       "      <td>Pacific Premier Bank (\"we\") respects your desi...</td>\n",
       "      <td>(Pacific, Premier, Bank, (, \", we, \", ), respe...</td>\n",
       "    </tr>\n",
       "    <tr>\n",
       "      <th>563</th>\n",
       "      <td>www.neostx.com</td>\n",
       "      <td>Thank you for visiting the website (“Website”)...</td>\n",
       "      <td>(Thank, you, for, visiting, the, website, (, “...</td>\n",
       "    </tr>\n",
       "    <tr>\n",
       "      <th>1988</th>\n",
       "      <td>www.solaredge.com</td>\n",
       "      <td>\"This privacy statement explains the privacy p...</td>\n",
       "      <td>(\", This, privacy, statement, explains, the, p...</td>\n",
       "    </tr>\n",
       "    <tr>\n",
       "      <th>3830</th>\n",
       "      <td>www.buenaventura.com</td>\n",
       "      <td>Buenaventura does not guarantee that the conte...</td>\n",
       "      <td>(Buenaventura, does, not, guarantee, that, the...</td>\n",
       "    </tr>\n",
       "    <tr>\n",
       "      <th>3353</th>\n",
       "      <td>www.brazil-minerals.com</td>\n",
       "      <td>Brazil Minerals Inc. is committed to protectin...</td>\n",
       "      <td>(Brazil, Minerals, Inc., is, committed, to, pr...</td>\n",
       "    </tr>\n",
       "  </tbody>\n",
       "</table>\n",
       "</div>"
      ],
      "text/plain": [
       "                          url  \\\n",
       "599              www.ppbi.com   \n",
       "563            www.neostx.com   \n",
       "1988        www.solaredge.com   \n",
       "3830     www.buenaventura.com   \n",
       "3353  www.brazil-minerals.com   \n",
       "\n",
       "                                            policy_text  \\\n",
       "599   Pacific Premier Bank (\"we\") respects your desi...   \n",
       "563   Thank you for visiting the website (“Website”)...   \n",
       "1988  \"This privacy statement explains the privacy p...   \n",
       "3830  Buenaventura does not guarantee that the conte...   \n",
       "3353  Brazil Minerals Inc. is committed to protectin...   \n",
       "\n",
       "                                  policy_text_processed  \n",
       "599   (Pacific, Premier, Bank, (, \", we, \", ), respe...  \n",
       "563   (Thank, you, for, visiting, the, website, (, “...  \n",
       "1988  (\", This, privacy, statement, explains, the, p...  \n",
       "3830  (Buenaventura, does, not, guarantee, that, the...  \n",
       "3353  (Brazil, Minerals, Inc., is, committed, to, pr...  "
      ]
     },
     "execution_count": 7,
     "metadata": {},
     "output_type": "execute_result"
    }
   ],
   "source": [
    "policies_df.head()"
   ]
  },
  {
   "cell_type": "markdown",
   "metadata": {},
   "source": [
    "Okay, at this point, we've loaded all the packages we need, and we've done some of the basic wrangling necessary to get the data into shape. We'll need to do a little more data wrangling to prepare for a few of the analyses in store below, but we've already done enough to let us get started. So without further ado, let's take our first peek at the data. "
   ]
  },
  {
   "cell_type": "markdown",
   "metadata": {},
   "source": [
    "# Topic models\n",
    "\n",
    "We'll start out by trying to get a better sense for __what__ is discussed in corporate privacy policies. To do so, we'll make use of an approach in natural language processing known as topic models. Given our focus, we're not going to go into any of the methodological details of how these models work, but in essence, what they're going to do is search for a set of latent topics in our corpus of documents (here, privacy policies). You can think of topics as clusters of related words on a particular subject (e.g., if we saw the words \"homework\", \"teacher\", \"student\", \"lesson\" we might infer that the topic was school); documents can contain discussions of multiple topics.\n",
    "\n",
    "To start out, we'll do some more processing on the privacy policies to make them more useable for our topic modeling library (called gensim)."
   ]
  },
  {
   "cell_type": "code",
   "execution_count": 8,
   "metadata": {},
   "outputs": [],
   "source": [
    "# define a processing function\n",
    "process_gensim = lambda tokens: [token.lemma_.lower() for token in tokens if not(token.is_punct or token.is_stop or token.is_space or token.is_digit)]\n",
    "\n",
    "# apply the function\n",
    "policies_df[\"policy_text_gensim\"] = policies_df.policy_text_processed.apply(process_gensim)"
   ]
  },
  {
   "cell_type": "code",
   "execution_count": 9,
   "metadata": {},
   "outputs": [],
   "source": [
    "# create a gensim dictionary\n",
    "gensim_dict = gensim.corpora.dictionary.Dictionary(policies_df[\"policy_text_gensim\"])"
   ]
  },
  {
   "cell_type": "code",
   "execution_count": 10,
   "metadata": {},
   "outputs": [],
   "source": [
    "# create a gensim corpus\n",
    "gensim_corpus = [gensim_dict.doc2bow(policy_text) for policy_text in policies_df[\"policy_text_gensim\"]]"
   ]
  },
  {
   "cell_type": "code",
   "execution_count": 11,
   "metadata": {},
   "outputs": [],
   "source": [
    "# fit the topic model\n",
    "lda_model = gensim.models.LdaModel(gensim_corpus,\n",
    "                                   id2word=gensim_dict,\n",
    "                                   num_topics=10)"
   ]
  },
  {
   "cell_type": "code",
   "execution_count": 12,
   "metadata": {},
   "outputs": [
    {
     "data": {
      "text/plain": [
       "[(0,\n",
       "  '0.014*\"information\" + 0.013*\"service\" + 0.011*\"use\" + 0.008*\"personal\" + 0.008*\"include\" + 0.007*\"de\" + 0.006*\"provide\" + 0.006*\"datum\"'),\n",
       " (1,\n",
       "  '0.037*\"information\" + 0.020*\"use\" + 0.013*\"personal\" + 0.011*\"service\" + 0.011*\"site\" + 0.010*\"privacy\" + 0.010*\"policy\" + 0.010*\"provide\"'),\n",
       " (2,\n",
       "  '0.016*\"de\" + 0.012*\"information\" + 0.010*\"website\" + 0.008*\"use\" + 0.007*\"service\" + 0.007*\"personal\" + 0.006*\"include\" + 0.006*\"provide\"'),\n",
       " (3,\n",
       "  '0.032*\"information\" + 0.013*\"use\" + 0.011*\"service\" + 0.011*\"personal\" + 0.010*\"provide\" + 0.009*\"datum\" + 0.009*\"site\" + 0.009*\"website\"'),\n",
       " (4,\n",
       "  '0.021*\"information\" + 0.017*\"personal\" + 0.011*\"provide\" + 0.010*\"use\" + 0.010*\"service\" + 0.010*\"website\" + 0.009*\"datum\" + 0.008*\"party\"'),\n",
       " (5,\n",
       "  '0.030*\"information\" + 0.017*\"use\" + 0.014*\"personal\" + 0.012*\"site\" + 0.011*\"provide\" + 0.011*\"website\" + 0.010*\"service\" + 0.009*\"include\"'),\n",
       " (6,\n",
       "  '0.015*\"information\" + 0.010*\"use\" + 0.009*\"service\" + 0.008*\"de\" + 0.007*\"provide\" + 0.007*\"site\" + 0.007*\"party\" + 0.006*\"personal\"'),\n",
       " (7,\n",
       "  '0.039*\"information\" + 0.018*\"site\" + 0.017*\"use\" + 0.013*\"privacy\" + 0.012*\"personal\" + 0.011*\"service\" + 0.010*\"provide\" + 0.009*\"collect\"'),\n",
       " (8,\n",
       "  '0.026*\"information\" + 0.014*\"personal\" + 0.011*\"use\" + 0.010*\"service\" + 0.008*\"site\" + 0.008*\"website\" + 0.007*\"provide\" + 0.007*\"party\"'),\n",
       " (9,\n",
       "  '0.043*\"information\" + 0.014*\"personal\" + 0.014*\"website\" + 0.012*\"use\" + 0.010*\"privacy\" + 0.009*\"provide\" + 0.009*\"site\" + 0.008*\"service\"')]"
      ]
     },
     "execution_count": 12,
     "metadata": {},
     "output_type": "execute_result"
    }
   ],
   "source": [
    "# show the results\n",
    "lda_model.show_topics(num_topics=-1, num_words=8)"
   ]
  },
  {
   "cell_type": "markdown",
   "metadata": {},
   "source": [
    "As a bonus, we can also check the coherence, essentially a model fit (generally, these measures look at similarity among high scoring words in topics). If you're so inclined, you can re-run the topic model above with different hyperparameters to see if you can get a better fit; I didn't spend a whole lot of time tuning. "
   ]
  },
  {
   "cell_type": "code",
   "execution_count": 13,
   "metadata": {},
   "outputs": [
    {
     "data": {
      "text/plain": [
       "0.5166800377040537"
      ]
     },
     "execution_count": 13,
     "metadata": {},
     "output_type": "execute_result"
    }
   ],
   "source": [
    "# get coherence\n",
    "coherence_model_lda = gensim.models.CoherenceModel(model=lda_model, texts=policies_df[\"policy_text_gensim\"], dictionary=gensim_dict, coherence=\"c_v\")\n",
    "coherence_model_lda.get_coherence()"
   ]
  },
  {
   "cell_type": "markdown",
   "metadata": {},
   "source": [
    "Take a look at the topics identified by the models above. Can you assign human-interpretable labels to them? What can you learn about the different topics of discussion in privacy policies?"
   ]
  },
  {
   "cell_type": "markdown",
   "metadata": {},
   "source": [
    "# Key words in context\n",
    "\n",
    "Topic models are nice, but they're a bit abstract. They give us an overview about interesting clusters of words, but they don't tell us much about how particular words or used or the details of the topics. For that, we can actually learn a lot just by picking out particular words of interest and pulling out their context from the document, known as a \"keyword in context\" approach. \n",
    "\n",
    "As an illustration, the code below pulls out uses of the word \"third party\" in the policies of 20 random firms. There's no random seed set, so if you run the code again you'll get a different set of result. In the comment on the first line, I've given you a few additional words you may want to check."
   ]
  },
  {
   "cell_type": "code",
   "execution_count": 14,
   "metadata": {},
   "outputs": [
    {
     "data": {
      "text/html": [
       "<div>\n",
       "<style scoped>\n",
       "    .dataframe tbody tr th:only-of-type {\n",
       "        vertical-align: middle;\n",
       "    }\n",
       "\n",
       "    .dataframe tbody tr th {\n",
       "        vertical-align: top;\n",
       "    }\n",
       "\n",
       "    .dataframe thead th {\n",
       "        text-align: right;\n",
       "    }\n",
       "</style>\n",
       "<table border=\"1\" class=\"dataframe\">\n",
       "  <thead>\n",
       "    <tr style=\"text-align: right;\">\n",
       "      <th></th>\n",
       "      <th>0</th>\n",
       "    </tr>\n",
       "  </thead>\n",
       "  <tbody>\n",
       "    <tr>\n",
       "      <th>3803</th>\n",
       "      <td>( to exercise or preserve our legal , right, s or take action regarding potentia)</td>\n",
       "    </tr>\n",
       "    <tr>\n",
       "      <th>3803</th>\n",
       "      <td>(nefit of creditors, we reserve the , right, , in any of these circumstances, to)</td>\n",
       "    </tr>\n",
       "    <tr>\n",
       "      <th>3803</th>\n",
       "      <td>(s do not override your fundamental , right, s and freedoms related to data priv)</td>\n",
       "    </tr>\n",
       "    <tr>\n",
       "      <th>3803</th>\n",
       "      <td>(appropriate safeguards. Individual , Right, s: If you are a resident of the EEA)</td>\n",
       "    </tr>\n",
       "    <tr>\n",
       "      <th>3803</th>\n",
       "      <td>(EA or Switzerland, we respect your , right, s according to Chapter 3 of the EU )</td>\n",
       "    </tr>\n",
       "    <tr>\n",
       "      <th>3803</th>\n",
       "      <td>(nagement practices. We reserve the , right,  to update changes to this privacy )</td>\n",
       "    </tr>\n",
       "    <tr>\n",
       "      <th>3753</th>\n",
       "      <td>(tion contained in this site is Copy, right,  © 2014 Arbutus. All Rights Reserve)</td>\n",
       "    </tr>\n",
       "    <tr>\n",
       "      <th>3753</th>\n",
       "      <td>(e is Copyright © 2014 Arbutus. All , Right, s Reserved. The material provided o)</td>\n",
       "    </tr>\n",
       "    <tr>\n",
       "      <th>3753</th>\n",
       "      <td>(cted by Canadian and worldwide copy, right,  laws and treaties. Except as speci)</td>\n",
       "    </tr>\n",
       "    <tr>\n",
       "      <th>3753</th>\n",
       "      <td>(vided that you keep intact all copy, right,  and other proprietary notices. No )</td>\n",
       "    </tr>\n",
       "    <tr>\n",
       "      <th>3753</th>\n",
       "      <td>(ou grant Arbutus the authority and , right,  to use that information subject to)</td>\n",
       "    </tr>\n",
       "    <tr>\n",
       "      <th>3753</th>\n",
       "      <td>(tus Privacy Policy. We reserve the , right, , at our discretion, to change, mod)</td>\n",
       "    </tr>\n",
       "    <tr>\n",
       "      <th>3753</th>\n",
       "      <td>(ot be construed as a waiver of any , right,  on its part. If any part of this l)</td>\n",
       "    </tr>\n",
       "    <tr>\n",
       "      <th>1930</th>\n",
       "      <td>(imate business interests and legal , right, s: Where required by law or where w)</td>\n",
       "    </tr>\n",
       "    <tr>\n",
       "      <th>1930</th>\n",
       "      <td>( is necessary to protect our legal , right, s, interests and the interests of o)</td>\n",
       "    </tr>\n",
       "    <tr>\n",
       "      <th>1930</th>\n",
       "      <td>( Services and to protect our legal , right, s and interests; If you have consen)</td>\n",
       "    </tr>\n",
       "    <tr>\n",
       "      <th>1930</th>\n",
       "      <td>(r a specific purpose, you have the , right,  to change your mind at any time, b)</td>\n",
       "    </tr>\n",
       "    <tr>\n",
       "      <th>1930</th>\n",
       "      <td>(te interest to do so, you have the , right,  to object to that use though, in s)</td>\n",
       "    </tr>\n",
       "    <tr>\n",
       "      <th>1930</th>\n",
       "      <td>(pplicable Laws; Enforcement of Our , Right, s: In exceptional circumstances, we)</td>\n",
       "    </tr>\n",
       "    <tr>\n",
       "      <th>1930</th>\n",
       "      <td>( and any limitations. You have the , right,  to request a copy of your informat)</td>\n",
       "    </tr>\n",
       "  </tbody>\n",
       "</table>\n",
       "</div>"
      ],
      "text/plain": [
       "                                                                                      0\n",
       "3803  ( to exercise or preserve our legal , right, s or take action regarding potentia)\n",
       "3803  (nefit of creditors, we reserve the , right, , in any of these circumstances, to)\n",
       "3803  (s do not override your fundamental , right, s and freedoms related to data priv)\n",
       "3803  (appropriate safeguards. Individual , Right, s: If you are a resident of the EEA)\n",
       "3803  (EA or Switzerland, we respect your , right, s according to Chapter 3 of the EU )\n",
       "3803  (nagement practices. We reserve the , right,  to update changes to this privacy )\n",
       "3753  (tion contained in this site is Copy, right,  © 2014 Arbutus. All Rights Reserve)\n",
       "3753  (e is Copyright © 2014 Arbutus. All , Right, s Reserved. The material provided o)\n",
       "3753  (cted by Canadian and worldwide copy, right,  laws and treaties. Except as speci)\n",
       "3753  (vided that you keep intact all copy, right,  and other proprietary notices. No )\n",
       "3753  (ou grant Arbutus the authority and , right,  to use that information subject to)\n",
       "3753  (tus Privacy Policy. We reserve the , right, , at our discretion, to change, mod)\n",
       "3753  (ot be construed as a waiver of any , right,  on its part. If any part of this l)\n",
       "1930  (imate business interests and legal , right, s: Where required by law or where w)\n",
       "1930  ( is necessary to protect our legal , right, s, interests and the interests of o)\n",
       "1930  ( Services and to protect our legal , right, s and interests; If you have consen)\n",
       "1930  (r a specific purpose, you have the , right,  to change your mind at any time, b)\n",
       "1930  (te interest to do so, you have the , right,  to object to that use though, in s)\n",
       "1930  (pplicable Laws; Enforcement of Our , Right, s: In exceptional circumstances, we)\n",
       "1930  ( and any limitations. You have the , right,  to request a copy of your informat)"
      ]
     },
     "metadata": {},
     "output_type": "display_data"
    }
   ],
   "source": [
    "KEYWORD = \"right\" # \"third party\" # privacy, right, duty, selling, disclose, trust, inform\n",
    "NUM_FIRMS = 20\n",
    "with pd.option_context(\"display.max_colwidth\", 100, \"display.min_rows\", NUM_FIRMS, \"display.max_rows\", NUM_FIRMS):\n",
    "  display(\n",
    "           pd.DataFrame(policies_df.sample(n=NUM_FIRMS).apply(lambda row: list(textacy.extract.kwic.keyword_in_context(row[\"policy_text\"], \n",
    "                                                                               keyword=KEYWORD, \n",
    "                                                                               window_width=35)), axis=1).explode()).head(NUM_FIRMS)\n",
    ")"
   ]
  },
  {
   "cell_type": "markdown",
   "metadata": {},
   "source": [
    "Run the code for some different words, not just the ones in my list, but also those that interest you. Can you learn anything about corporate mindsets on privacy? What kind of rights are discussed?"
   ]
  },
  {
   "cell_type": "markdown",
   "metadata": {},
   "source": [
    "# Named entities\n",
    "\n",
    "Another way we can gain some insight into the content of privacy policies is by seeing who exactly they discuss. Once again, spacy gives us an easy (if sometimes rough) way to do this. Specifically, when we process a document using spacy, it will automatically extract several different categories of named entities (e.g., person, organization, place, you can find the full list [here](https://spacy.io/api/annotation)). In the code, we'll pull out all the organization and person entities. "
   ]
  },
  {
   "cell_type": "code",
   "execution_count": 15,
   "metadata": {},
   "outputs": [],
   "source": [
    "# extract named entities from the privacy policies\n",
    "pull_entities = lambda policy_text: list(set([entity.text.lower() for entity in policy_text.ents if entity.label_ in (\"ORG\", \"PERSON\")]))\n",
    "policies_df[\"named_entities\"] = policies_df.policy_text_processed.apply(pull_entities)"
   ]
  },
  {
   "cell_type": "markdown",
   "metadata": {},
   "source": [
    "Let's take a quick peek at our data frame and see what the results look like."
   ]
  },
  {
   "cell_type": "code",
   "execution_count": 16,
   "metadata": {},
   "outputs": [
    {
     "data": {
      "text/html": [
       "<div>\n",
       "<style scoped>\n",
       "    .dataframe tbody tr th:only-of-type {\n",
       "        vertical-align: middle;\n",
       "    }\n",
       "\n",
       "    .dataframe tbody tr th {\n",
       "        vertical-align: top;\n",
       "    }\n",
       "\n",
       "    .dataframe thead th {\n",
       "        text-align: right;\n",
       "    }\n",
       "</style>\n",
       "<table border=\"1\" class=\"dataframe\">\n",
       "  <thead>\n",
       "    <tr style=\"text-align: right;\">\n",
       "      <th></th>\n",
       "      <th>url</th>\n",
       "      <th>named_entities</th>\n",
       "    </tr>\n",
       "  </thead>\n",
       "  <tbody>\n",
       "    <tr>\n",
       "      <th>599</th>\n",
       "      <td>www.ppbi.com</td>\n",
       "      <td>[pacific premier bank, consumer access - www.nmlsconsumeraccess.org, this consumer online privac...</td>\n",
       "    </tr>\n",
       "    <tr>\n",
       "      <th>563</th>\n",
       "      <td>www.neostx.com</td>\n",
       "      <td>[social security, neos therapeutics’ website, neos therapeutics, inc., neos therapeutics, neos t...</td>\n",
       "    </tr>\n",
       "    <tr>\n",
       "      <th>1988</th>\n",
       "      <td>www.solaredge.com</td>\n",
       "      <td>[personal information, the solaredge monitoring platform, solaredge, site]</td>\n",
       "    </tr>\n",
       "    <tr>\n",
       "      <th>3830</th>\n",
       "      <td>www.buenaventura.com</td>\n",
       "      <td>[the company’s risk factors]</td>\n",
       "    </tr>\n",
       "    <tr>\n",
       "      <th>3353</th>\n",
       "      <td>www.brazil-minerals.com</td>\n",
       "      <td>[the “brazil minerals inc., the courts of the province of british columbia, brazil minerals inc.]</td>\n",
       "    </tr>\n",
       "    <tr>\n",
       "      <th>2185</th>\n",
       "      <td>www.americanhomes4rent.com</td>\n",
       "      <td>[hud, the state of california, express, the american arbitration association, american homes 4 r...</td>\n",
       "    </tr>\n",
       "    <tr>\n",
       "      <th>131</th>\n",
       "      <td>www.accenture.com</td>\n",
       "      <td>[the british standards institution, accenture, bcr, the european union, cctv, cdp, data privacy ...</td>\n",
       "    </tr>\n",
       "    <tr>\n",
       "      <th>2456</th>\n",
       "      <td>www.ball.com</td>\n",
       "      <td>[the notice and choice principles, the u.s. federal trade commission, c. comply, personal data, ...</td>\n",
       "    </tr>\n",
       "    <tr>\n",
       "      <th>1268</th>\n",
       "      <td>www.theprovidentbank.com</td>\n",
       "      <td>[bank, the provident bank, the board of directors, regulation p]</td>\n",
       "    </tr>\n",
       "    <tr>\n",
       "      <th>3706</th>\n",
       "      <td>www.wipro.com</td>\n",
       "      <td>[wiproites, ap, wipro, national talent hunt - elite]</td>\n",
       "    </tr>\n",
       "    <tr>\n",
       "      <th>1279</th>\n",
       "      <td>www.lomanegra.com</td>\n",
       "      <td>[national board of personal data protection, site, data owners, users´needs, the national board ...</td>\n",
       "    </tr>\n",
       "    <tr>\n",
       "      <th>2264</th>\n",
       "      <td>www.firstcitizens.com</td>\n",
       "      <td>[opens, the first citizens bank, first citizens bank, first citizens rewards, first citizens]</td>\n",
       "    </tr>\n",
       "    <tr>\n",
       "      <th>2291</th>\n",
       "      <td>www.astrazeneca.com</td>\n",
       "      <td>[eu, astrazeneca, astrazeneca’s binding corporate rules, occupation, academy house, healthcare, ...</td>\n",
       "    </tr>\n",
       "    <tr>\n",
       "      <th>1751</th>\n",
       "      <td>www.intgla.com</td>\n",
       "      <td>[cme group index services llc, barchart.com services, cme group, dow jones indexes, survey data,...</td>\n",
       "    </tr>\n",
       "    <tr>\n",
       "      <th>3504</th>\n",
       "      <td>biostage.com</td>\n",
       "      <td>[european union, eu, the u.s. department of commerce, the safe harbor privacy principles, safe h...</td>\n",
       "    </tr>\n",
       "    <tr>\n",
       "      <th>1323</th>\n",
       "      <td>www.alliancedata.com</td>\n",
       "      <td>[site, alliance data, alliance datas, comenity, epsilon, loyaltyone, alliance data systems corpo...</td>\n",
       "    </tr>\n",
       "    <tr>\n",
       "      <th>1602</th>\n",
       "      <td>www.westernunion.com</td>\n",
       "      <td>[western union, social security, vigo, the new york state department of financial services, west...</td>\n",
       "    </tr>\n",
       "    <tr>\n",
       "      <th>1027</th>\n",
       "      <td>www.milacron.com</td>\n",
       "      <td>[milacron llc’s, milacron llc, milacron]</td>\n",
       "    </tr>\n",
       "    <tr>\n",
       "      <th>1577</th>\n",
       "      <td>www.cubic.com</td>\n",
       "      <td>[this website privacy policy, law department, cubic incorporated, cubic transportation systems, ...</td>\n",
       "    </tr>\n",
       "    <tr>\n",
       "      <th>751</th>\n",
       "      <td>www.tivo.com</td>\n",
       "      <td>[the order, entre les éléments, cubiware, excluded technology, rovi corporation, party, the adob...</td>\n",
       "    </tr>\n",
       "    <tr>\n",
       "      <th>3266</th>\n",
       "      <td>www.koss.com</td>\n",
       "      <td>[pci, gmr, koss, pii, wi 53212  •  united states of america, 4129 n. port, facebook, credit card...</td>\n",
       "    </tr>\n",
       "    <tr>\n",
       "      <th>1245</th>\n",
       "      <td>www.creditriskmonitor.com</td>\n",
       "      <td>[creditriskmonitor.com, inc., the u.s. federal trade commission, the department of commerce, per...</td>\n",
       "    </tr>\n",
       "    <tr>\n",
       "      <th>923</th>\n",
       "      <td>www.tevapharm.com</td>\n",
       "      <td>[www.allaboutcookies.org, site, teva pharmaceutical usa ltd.’s, the european union, privacy shie...</td>\n",
       "    </tr>\n",
       "    <tr>\n",
       "      <th>3276</th>\n",
       "      <td>www.bluespherecorporate.com</td>\n",
       "      <td>[blue sphere corporation, blue sphere, bluesphere corporation, forwardâ€“looking, blue sphere pr...</td>\n",
       "    </tr>\n",
       "    <tr>\n",
       "      <th>1661</th>\n",
       "      <td>www.1stsource.com</td>\n",
       "      <td>[express, 1st source, the federal deposit insurance corporation, 1st source websites, minimizer,...</td>\n",
       "    </tr>\n",
       "    <tr>\n",
       "      <th>2192</th>\n",
       "      <td>www.accessnationalbank.com</td>\n",
       "      <td>[digital identification certificates, access national bank, usa, bill pay and transfers pages, d...</td>\n",
       "    </tr>\n",
       "    <tr>\n",
       "      <th>1828</th>\n",
       "      <td>www.smartsand.com</td>\n",
       "      <td>[avangate, info@smart-fertilizer.com, paypal, digital, 2checkout]</td>\n",
       "    </tr>\n",
       "    <tr>\n",
       "      <th>568</th>\n",
       "      <td>www.shos.com</td>\n",
       "      <td>[the chief operating, sears hometown and outlet stores, inc., sho, shc, hotline, the sensitive i...</td>\n",
       "    </tr>\n",
       "    <tr>\n",
       "      <th>4047</th>\n",
       "      <td>www.firstnational.ca</td>\n",
       "      <td>[commercial market update, first national financial lp’s, personal information protection and el...</td>\n",
       "    </tr>\n",
       "    <tr>\n",
       "      <th>1502</th>\n",
       "      <td>www.opco.com</td>\n",
       "      <td>[sipc, eu, social security, oppenheimer, the european commission, the european union, the financ...</td>\n",
       "    </tr>\n",
       "    <tr>\n",
       "      <th>2869</th>\n",
       "      <td>www.7genergy.com</td>\n",
       "      <td>[generations energy ltd., market data copyright â©, market data, quotemedia]</td>\n",
       "    </tr>\n",
       "    <tr>\n",
       "      <th>1889</th>\n",
       "      <td>www.winmarkcorporation.com</td>\n",
       "      <td>[tamara l. harmon, google analytic, the conditions of use, google, site, google analytics, u.s.c...</td>\n",
       "    </tr>\n",
       "    <tr>\n",
       "      <th>3803</th>\n",
       "      <td>www.emeraldexpositions.com</td>\n",
       "      <td>[google, isp, facebook, general geographic, twitter, the european economic area, emerald exposit...</td>\n",
       "    </tr>\n",
       "    <tr>\n",
       "      <th>1920</th>\n",
       "      <td>www.oxy.com</td>\n",
       "      <td>[occidental, occidental petroleum corporation]</td>\n",
       "    </tr>\n",
       "    <tr>\n",
       "      <th>152</th>\n",
       "      <td>fibrocell.com</td>\n",
       "      <td>[fibrocell, site, fibrocell science, inc.]</td>\n",
       "    </tr>\n",
       "    <tr>\n",
       "      <th>2700</th>\n",
       "      <td>www.pgecorp.com</td>\n",
       "      <td>[corporations, pg&amp;e corporation, sec, corporation, the e-mail alert services]</td>\n",
       "    </tr>\n",
       "    <tr>\n",
       "      <th>2585</th>\n",
       "      <td>www.secondcup.com</td>\n",
       "      <td>[a free beverage reward, participating locations, account, the design of public spaces standards...</td>\n",
       "    </tr>\n",
       "    <tr>\n",
       "      <th>280</th>\n",
       "      <td>paratekpharma.com</td>\n",
       "      <td>[paratek, paratek’s, ma 02116, website inquiries office, paratek pharmaceuticals, inc., 4th floo...</td>\n",
       "    </tr>\n",
       "    <tr>\n",
       "      <th>2221</th>\n",
       "      <td>www.itron.com</td>\n",
       "      <td>[https://oag.ca.gov/privacy/privacy-laws, eu, itron idea labs, itron, the u.s. department of com...</td>\n",
       "    </tr>\n",
       "    <tr>\n",
       "      <th>2637</th>\n",
       "      <td>www.scor.com</td>\n",
       "      <td>[retrocessionaires, insured, financial calculations, cv, länsförsäkringar fondliv, personal data...</td>\n",
       "    </tr>\n",
       "    <tr>\n",
       "      <th>199</th>\n",
       "      <td>www.telefonica.com</td>\n",
       "      <td>[tiws, eu, ronda de la comunicación s/n, building west 1, the telefónica group, floor 2, mac, th...</td>\n",
       "    </tr>\n",
       "    <tr>\n",
       "      <th>1800</th>\n",
       "      <td>www.usautoparts.net</td>\n",
       "      <td>[apple, google, site, netscape, the google advertising opt, payment card industry data security ...</td>\n",
       "    </tr>\n",
       "    <tr>\n",
       "      <th>459</th>\n",
       "      <td>www.kimcorealty.com</td>\n",
       "      <td>[the service providers, gps, site, service providers, the kimco realty corporation, media access...</td>\n",
       "    </tr>\n",
       "    <tr>\n",
       "      <th>1930</th>\n",
       "      <td>www.atlassian.com</td>\n",
       "      <td>[confluence, atlassian developer community, the digital advertising alliance's, the u.s. federal...</td>\n",
       "    </tr>\n",
       "    <tr>\n",
       "      <th>3745</th>\n",
       "      <td>www.expediainc.com</td>\n",
       "      <td>[hotwire, hotels.com, expedia]</td>\n",
       "    </tr>\n",
       "    <tr>\n",
       "      <th>3640</th>\n",
       "      <td>www.realnetworks.com</td>\n",
       "      <td>[apple, the u.s. federal trade commission, google’s privacy &amp; terms for partners, limited, a soc...</td>\n",
       "    </tr>\n",
       "    <tr>\n",
       "      <th>560</th>\n",
       "      <td>www.sabesp.com.br</td>\n",
       "      <td>[clubinho sabesp, sabesp.com.br, sabesp]</td>\n",
       "    </tr>\n",
       "    <tr>\n",
       "      <th>337</th>\n",
       "      <td>www.atco.com</td>\n",
       "      <td>[the federal personal information protection and electronic documents act, personal information ...</td>\n",
       "    </tr>\n",
       "    <tr>\n",
       "      <th>2400</th>\n",
       "      <td>www.boingo.com</td>\n",
       "      <td>[boingo unlimited, boingo wi-finder, user id, the digital advertising alliance, referral, site, ...</td>\n",
       "    </tr>\n",
       "    <tr>\n",
       "      <th>511</th>\n",
       "      <td>www.pointer.com</td>\n",
       "      <td>[the application data, services, application, application data]</td>\n",
       "    </tr>\n",
       "  </tbody>\n",
       "</table>\n",
       "</div>"
      ],
      "text/plain": [
       "                              url  \\\n",
       "599                  www.ppbi.com   \n",
       "563                www.neostx.com   \n",
       "1988            www.solaredge.com   \n",
       "3830         www.buenaventura.com   \n",
       "3353      www.brazil-minerals.com   \n",
       "2185   www.americanhomes4rent.com   \n",
       "131             www.accenture.com   \n",
       "2456                 www.ball.com   \n",
       "1268     www.theprovidentbank.com   \n",
       "3706                www.wipro.com   \n",
       "1279            www.lomanegra.com   \n",
       "2264        www.firstcitizens.com   \n",
       "2291          www.astrazeneca.com   \n",
       "1751               www.intgla.com   \n",
       "3504                 biostage.com   \n",
       "1323         www.alliancedata.com   \n",
       "1602         www.westernunion.com   \n",
       "1027             www.milacron.com   \n",
       "1577                www.cubic.com   \n",
       "751                  www.tivo.com   \n",
       "3266                 www.koss.com   \n",
       "1245    www.creditriskmonitor.com   \n",
       "923             www.tevapharm.com   \n",
       "3276  www.bluespherecorporate.com   \n",
       "1661            www.1stsource.com   \n",
       "2192   www.accessnationalbank.com   \n",
       "1828            www.smartsand.com   \n",
       "568                  www.shos.com   \n",
       "4047         www.firstnational.ca   \n",
       "1502                 www.opco.com   \n",
       "2869             www.7genergy.com   \n",
       "1889   www.winmarkcorporation.com   \n",
       "3803   www.emeraldexpositions.com   \n",
       "1920                  www.oxy.com   \n",
       "152                 fibrocell.com   \n",
       "2700              www.pgecorp.com   \n",
       "2585            www.secondcup.com   \n",
       "280             paratekpharma.com   \n",
       "2221                www.itron.com   \n",
       "2637                 www.scor.com   \n",
       "199            www.telefonica.com   \n",
       "1800          www.usautoparts.net   \n",
       "459           www.kimcorealty.com   \n",
       "1930            www.atlassian.com   \n",
       "3745           www.expediainc.com   \n",
       "3640         www.realnetworks.com   \n",
       "560             www.sabesp.com.br   \n",
       "337                  www.atco.com   \n",
       "2400               www.boingo.com   \n",
       "511               www.pointer.com   \n",
       "\n",
       "                                                                                           named_entities  \n",
       "599   [pacific premier bank, consumer access - www.nmlsconsumeraccess.org, this consumer online privac...  \n",
       "563   [social security, neos therapeutics’ website, neos therapeutics, inc., neos therapeutics, neos t...  \n",
       "1988                           [personal information, the solaredge monitoring platform, solaredge, site]  \n",
       "3830                                                                         [the company’s risk factors]  \n",
       "3353    [the “brazil minerals inc., the courts of the province of british columbia, brazil minerals inc.]  \n",
       "2185  [hud, the state of california, express, the american arbitration association, american homes 4 r...  \n",
       "131   [the british standards institution, accenture, bcr, the european union, cctv, cdp, data privacy ...  \n",
       "2456  [the notice and choice principles, the u.s. federal trade commission, c. comply, personal data, ...  \n",
       "1268                                     [bank, the provident bank, the board of directors, regulation p]  \n",
       "3706                                                 [wiproites, ap, wipro, national talent hunt - elite]  \n",
       "1279  [national board of personal data protection, site, data owners, users´needs, the national board ...  \n",
       "2264        [opens, the first citizens bank, first citizens bank, first citizens rewards, first citizens]  \n",
       "2291  [eu, astrazeneca, astrazeneca’s binding corporate rules, occupation, academy house, healthcare, ...  \n",
       "1751  [cme group index services llc, barchart.com services, cme group, dow jones indexes, survey data,...  \n",
       "3504  [european union, eu, the u.s. department of commerce, the safe harbor privacy principles, safe h...  \n",
       "1323  [site, alliance data, alliance datas, comenity, epsilon, loyaltyone, alliance data systems corpo...  \n",
       "1602  [western union, social security, vigo, the new york state department of financial services, west...  \n",
       "1027                                                             [milacron llc’s, milacron llc, milacron]  \n",
       "1577  [this website privacy policy, law department, cubic incorporated, cubic transportation systems, ...  \n",
       "751   [the order, entre les éléments, cubiware, excluded technology, rovi corporation, party, the adob...  \n",
       "3266  [pci, gmr, koss, pii, wi 53212  •  united states of america, 4129 n. port, facebook, credit card...  \n",
       "1245  [creditriskmonitor.com, inc., the u.s. federal trade commission, the department of commerce, per...  \n",
       "923   [www.allaboutcookies.org, site, teva pharmaceutical usa ltd.’s, the european union, privacy shie...  \n",
       "3276  [blue sphere corporation, blue sphere, bluesphere corporation, forwardâ€“looking, blue sphere pr...  \n",
       "1661  [express, 1st source, the federal deposit insurance corporation, 1st source websites, minimizer,...  \n",
       "2192  [digital identification certificates, access national bank, usa, bill pay and transfers pages, d...  \n",
       "1828                                    [avangate, info@smart-fertilizer.com, paypal, digital, 2checkout]  \n",
       "568   [the chief operating, sears hometown and outlet stores, inc., sho, shc, hotline, the sensitive i...  \n",
       "4047  [commercial market update, first national financial lp’s, personal information protection and el...  \n",
       "1502  [sipc, eu, social security, oppenheimer, the european commission, the european union, the financ...  \n",
       "2869                         [generations energy ltd., market data copyright â©, market data, quotemedia]  \n",
       "1889  [tamara l. harmon, google analytic, the conditions of use, google, site, google analytics, u.s.c...  \n",
       "3803  [google, isp, facebook, general geographic, twitter, the european economic area, emerald exposit...  \n",
       "1920                                                       [occidental, occidental petroleum corporation]  \n",
       "152                                                            [fibrocell, site, fibrocell science, inc.]  \n",
       "2700                       [corporations, pg&e corporation, sec, corporation, the e-mail alert services]  \n",
       "2585  [a free beverage reward, participating locations, account, the design of public spaces standards...  \n",
       "280   [paratek, paratek’s, ma 02116, website inquiries office, paratek pharmaceuticals, inc., 4th floo...  \n",
       "2221  [https://oag.ca.gov/privacy/privacy-laws, eu, itron idea labs, itron, the u.s. department of com...  \n",
       "2637  [retrocessionaires, insured, financial calculations, cv, länsförsäkringar fondliv, personal data...  \n",
       "199   [tiws, eu, ronda de la comunicación s/n, building west 1, the telefónica group, floor 2, mac, th...  \n",
       "1800  [apple, google, site, netscape, the google advertising opt, payment card industry data security ...  \n",
       "459   [the service providers, gps, site, service providers, the kimco realty corporation, media access...  \n",
       "1930  [confluence, atlassian developer community, the digital advertising alliance's, the u.s. federal...  \n",
       "3745                                                                       [hotwire, hotels.com, expedia]  \n",
       "3640  [apple, the u.s. federal trade commission, google’s privacy & terms for partners, limited, a soc...  \n",
       "560                                                              [clubinho sabesp, sabesp.com.br, sabesp]  \n",
       "337   [the federal personal information protection and electronic documents act, personal information ...  \n",
       "2400  [boingo unlimited, boingo wi-finder, user id, the digital advertising alliance, referral, site, ...  \n",
       "511                                       [the application data, services, application, application data]  "
      ]
     },
     "metadata": {},
     "output_type": "display_data"
    }
   ],
   "source": [
    "# look at the entities\n",
    "with pd.option_context(\"display.max_colwidth\", 100, \"display.min_rows\", 50, \"display.max_rows\", 50):\n",
    "  display(policies_df[[\"url\",\"named_entities\"]].head(50))"
   ]
  },
  {
   "cell_type": "markdown",
   "metadata": {},
   "source": [
    "Now let's add a bit more structure. We'll run a little code to help us identify the most frequently discussed organizations and people in the corporate privacy policies. "
   ]
  },
  {
   "cell_type": "code",
   "execution_count": 17,
   "metadata": {},
   "outputs": [
    {
     "data": {
      "text/plain": [
       "named_entities\n",
       "ip                                        259\n",
       "site                                      159\n",
       "eu                                        132\n",
       "google analytics                          132\n",
       "the european union                        109\n",
       "google                                    105\n",
       "the european economic area                 96\n",
       "eea                                        91\n",
       "facebook                                   90\n",
       "website                                    67\n",
       "twitter                                    59\n",
       "the european commission                    56\n",
       "company                                    55\n",
       "personal data                              49\n",
       "llc                                        42\n",
       "cookies                                    40\n",
       "european union                             35\n",
       "the personal data                          33\n",
       "social security                            33\n",
       "sec                                        33\n",
       "express                                    32\n",
       "the securities and exchange commission     31\n",
       "the general data protection regulation     31\n",
       "the network advertising initiative         31\n",
       "gps                                        30\n",
       "the u.s. department of commerce            30\n",
       "flash                                      28\n",
       "the digital advertising alliance           28\n",
       "isp                                        26\n",
       "privacy shield                             24\n",
       "daa                                        23\n",
       "apple                                      23\n",
       "gdpr                                       23\n",
       "the federal trade commission               23\n",
       "services                                   23\n",
       "ftc                                        22\n",
       "affiliates                                 22\n",
       "data                                       22\n",
       "google, inc.                               21\n",
       "youtube                                    21\n",
       "adobe                                      21\n",
       "the “contact us                            21\n",
       "code                                       21\n",
       "service                                    21\n",
       "mac                                        20\n",
       "linkedin                                   20\n",
       "ids                                        19\n",
       "microsoft                                  18\n",
       "nai                                        18\n",
       "the board of directors                     18\n",
       "Name: named_entities, dtype: int64"
      ]
     },
     "metadata": {},
     "output_type": "display_data"
    }
   ],
   "source": [
    "# pull the most frequent entities\n",
    "entities = policies_df[\"named_entities\"].explode(\"named_entities\")\n",
    "NUM_WANTED = 50\n",
    "with pd.option_context(\"display.min_rows\", 50, \"display.max_rows\", 50):\n",
    "  display(entities.groupby(entities).size().sort_values(ascending=False).head(50))"
   ]
  },
  {
   "cell_type": "markdown",
   "metadata": {},
   "source": [
    "What do you make of the most frequent entities? Are you surprised? Do they fit with what you expected? Can we make any inferences about the kind of data sharing companies might be enaging in by looking at these entities?"
   ]
  },
  {
   "cell_type": "markdown",
   "metadata": {},
   "source": [
    "# Readability\n",
    "\n",
    "Next, we'll evaluate the privacy policies according to their readability. There are many different measures of readability, but the basic idea is to evaluate a text according to various metrics (e.g., words per sentence, number of syllables per word) that correlate with, well, how easy it is to read. The textacy package makes it easy to quickly evaluate a bunch of different metrics of readability. Let's compute them and then do some exploration. For now, I'll pull out the Flesch-Kincaid grade level and the Gunning-Fog index (both are grade-level measures). "
   ]
  },
  {
   "cell_type": "code",
   "execution_count": 18,
   "metadata": {},
   "outputs": [],
   "source": [
    "# compute flesch_kincaid_grade_level\n",
    "policies_df[\"flesch_kincaid_grade_level\"] = policies_df.policy_text_processed.apply(textacy.text_stats.readability.flesch_kincaid_grade_level)"
   ]
  },
  {
   "cell_type": "code",
   "execution_count": 19,
   "metadata": {},
   "outputs": [],
   "source": [
    "# compute gunning_fog_index\n",
    "policies_df[\"gunning_fog_index\"] = policies_df.policy_text_processed.apply(textacy.text_stats.readability.gunning_fog_index)"
   ]
  },
  {
   "cell_type": "markdown",
   "metadata": {},
   "source": [
    "You can now access the various statistics for individual documents as follows (e.g., for the document at index 0)."
   ]
  },
  {
   "cell_type": "code",
   "execution_count": 20,
   "metadata": {},
   "outputs": [
    {
     "data": {
      "text/plain": [
       "10.220753609280404"
      ]
     },
     "execution_count": 20,
     "metadata": {},
     "output_type": "execute_result"
    }
   ],
   "source": [
    "policies_df.iloc[0][\"flesch_kincaid_grade_level\"]"
   ]
  },
  {
   "cell_type": "markdown",
   "metadata": {},
   "source": [
    "This tells us the Flesch-Kinkaid grade level for the policy. We're probably not terribly interested in the readability of any given policy. We can do a little wrangling with pandas to extract various metrics for all policies and add them to the data frame. "
   ]
  },
  {
   "cell_type": "code",
   "execution_count": 21,
   "metadata": {},
   "outputs": [],
   "source": [
    "# let's clean up some extreme values\n",
    "policies_df.loc[(policies_df.flesch_kincaid_grade_level < 0) | (policies_df.flesch_kincaid_grade_level > 20), \"flesch_kincaid_grade_level\"] = None\n",
    "policies_df.loc[(policies_df.gunning_fog_index < 0) | (policies_df.gunning_fog_index > 20), \"gunning_fog_index\"] = None"
   ]
  },
  {
   "cell_type": "markdown",
   "metadata": {},
   "source": [
    "I would encourage you to adapt the code above to pull out some other readability-related features that seem interesting. You can find the full list available in our `TextStats` object [here](https://textacy.readthedocs.io/en/stable/api_reference/text_stats.html), in the textacy documentation. Let's plot the values we just extracted."
   ]
  },
  {
   "cell_type": "code",
   "execution_count": 22,
   "metadata": {},
   "outputs": [
    {
     "data": {
      "image/png": "[encoded data removed]",
      "text/plain": [
       "<Figure size 432x288 with 2 Axes>"
      ]
     },
     "metadata": {
      "needs_background": "light"
     },
     "output_type": "display_data"
    }
   ],
   "source": [
    "# plot with matplotlib\n",
    "fig, axes = plt.subplots(1, 2)\n",
    "policies_df[\"flesch_kincaid_grade_level\"].hist(ax=axes[0])\n",
    "policies_df[\"gunning_fog_index\"].hist(ax=axes[1])\n",
    "plt.tight_layout()"
   ]
  },
  {
   "cell_type": "markdown",
   "metadata": {},
   "source": [
    "These results are pretty striking, especially when you consider them alongside statistics on the literacy rate in the United States. According to [surveys](https://www.oecd.org/skills/piaac/Country%20note%20-%20United%20States.pdf) by the OECD, about half of adults in the United States can read at an 8th grade level or lower. "
   ]
  },
  {
   "cell_type": "markdown",
   "metadata": {},
   "source": [
    "# Embeddings\n",
    "Yet another way that we can gain some intuition on privacy policies is by seeing how similar or different particular policies are from one another. For example, we might not be all that surprised if we saw that Google's privacy policy was quite similar to Facebook's. We might raise an eyebrow if we saw that Nike and Facebook also had very similar privacy policies. What kind of data are they collecting on us when we buy our sneakers? One way we can compare the similarity among documents (here, privacy policies) is by embedding them in some high dimensional vector space, and the using linear algebra to find the distance between vectors. Classically, we would do this by representing documents as vectors of words, where entries represent word frequencies, and perhaps weighting those frequencies (e.g., using TF-IDF). Here, we'll use a slightly more sophisticated approach. When we process the privacy policies using spacy, we get a vector representation of each document, which is based on the word embeddings for its constituent terms. Again, given the focus of this class, we're not going to go into the methodological details of word embeddings, but you can think of them as a vectorization that aims to capture semantic relationships.\n",
    "\n",
    "Below, we'll pull the document embeddings from spacy. We'll then do some dimension reduction using a cool algorithm from topological data analysis known as [Uniform Manifold Approximation and Projection](https://arxiv.org/abs/1802.03426) (UMAP), and visualize the results using an interactive plot. "
   ]
  },
  {
   "cell_type": "code",
   "execution_count": 23,
   "metadata": {},
   "outputs": [],
   "source": [
    "# pull the document embeddings from spacy and format for clustering\n",
    "embeddings_df = policies_df[[\"url\", \"policy_text_processed\"]]\n",
    "embeddings_df = embeddings_df.set_index(\"url\")\n",
    "embeddings_df[\"policy_text_processed\"] = embeddings_df[\"policy_text_processed\"].apply(lambda text: text.vector)\n",
    "embeddings_df = embeddings_df.policy_text_processed.apply(pd.Series)"
   ]
  },
  {
   "cell_type": "code",
   "execution_count": 24,
   "metadata": {},
   "outputs": [
    {
     "data": {
      "text/plain": [
       "<AxesSubplot:>"
      ]
     },
     "execution_count": 24,
     "metadata": {},
     "output_type": "execute_result"
    },
    {
     "data": {
      "image/png": "[encoded data removed]",
      "text/plain": [
       "<Figure size 800x800 with 1 Axes>"
      ]
     },
     "metadata": {},
     "output_type": "display_data"
    }
   ],
   "source": [
    "# non-interactive plot\n",
    "mapper = umap.UMAP().fit(embeddings_df.to_numpy())\n",
    "umap.plot.points(mapper)"
   ]
  },
  {
   "cell_type": "code",
   "execution_count": 25,
   "metadata": {},
   "outputs": [
    {
     "data": {
      "text/html": [
       "\n",
       "    <div class=\"bk-root\">\n",
       "        <a href=\"https://bokeh.org\" target=\"_blank\" class=\"bk-logo bk-logo-small bk-logo-notebook\"></a>\n",
       "        <span id=\"1002\">Loading BokehJS ...</span>\n",
       "    </div>"
      ]
     },
     "metadata": {},
     "output_type": "display_data"
    },
    {
     "data": {
      "application/javascript": [
       "\n",
       "(function(root) {\n",
       "  function now() {\n",
       "    return new Date();\n",
       "  }\n",
       "\n",
       "  const force = true;\n",
       "\n",
       "  if (typeof root._bokeh_onload_callbacks === \"undefined\" || force === true) {\n",
       "    root._bokeh_onload_callbacks = [];\n",
       "    root._bokeh_is_loading = undefined;\n",
       "  }\n",
       "\n",
       "  const JS_MIME_TYPE = 'application/javascript';\n",
       "  const HTML_MIME_TYPE = 'text/html';\n",
       "  const EXEC_MIME_TYPE = 'application/vnd.bokehjs_exec.v0+json';\n",
       "  const CLASS_NAME = 'output_bokeh rendered_html';\n",
       "\n",
       "  /**\n",
       "   * Render data to the DOM node\n",
       "   */\n",
       "  function render(props, node) {\n",
       "    const script = document.createElement(\"script\");\n",
       "    node.appendChild(script);\n",
       "  }\n",
       "\n",
       "  /**\n",
       "   * Handle when an output is cleared or removed\n",
       "   */\n",
       "  function handleClearOutput(event, handle) {\n",
       "    const cell = handle.cell;\n",
       "\n",
       "    const id = cell.output_area._bokeh_element_id;\n",
       "    const server_id = cell.output_area._bokeh_server_id;\n",
       "    // Clean up Bokeh references\n",
       "    if (id != null && id in Bokeh.index) {\n",
       "      Bokeh.index[id].model.document.clear();\n",
       "      delete Bokeh.index[id];\n",
       "    }\n",
       "\n",
       "    if (server_id !== undefined) {\n",
       "      // Clean up Bokeh references\n",
       "      const cmd_clean = \"from bokeh.io.state import curstate; print(curstate().uuid_to_server['\" + server_id + \"'].get_sessions()[0].document.roots[0]._id)\";\n",
       "      cell.notebook.kernel.execute(cmd_clean, {\n",
       "        iopub: {\n",
       "          output: function(msg) {\n",
       "            const id = msg.content.text.trim();\n",
       "            if (id in Bokeh.index) {\n",
       "              Bokeh.index[id].model.document.clear();\n",
       "              delete Bokeh.index[id];\n",
       "            }\n",
       "          }\n",
       "        }\n",
       "      });\n",
       "      // Destroy server and session\n",
       "      const cmd_destroy = \"import bokeh.io.notebook as ion; ion.destroy_server('\" + server_id + \"')\";\n",
       "      cell.notebook.kernel.execute(cmd_destroy);\n",
       "    }\n",
       "  }\n",
       "\n",
       "  /**\n",
       "   * Handle when a new output is added\n",
       "   */\n",
       "  function handleAddOutput(event, handle) {\n",
       "    const output_area = handle.output_area;\n",
       "    const output = handle.output;\n",
       "\n",
       "    // limit handleAddOutput to display_data with EXEC_MIME_TYPE content only\n",
       "    if ((output.output_type != \"display_data\") || (!Object.prototype.hasOwnProperty.call(output.data, EXEC_MIME_TYPE))) {\n",
       "      return\n",
       "    }\n",
       "\n",
       "    const toinsert = output_area.element.find(\".\" + CLASS_NAME.split(' ')[0]);\n",
       "\n",
       "    if (output.metadata[EXEC_MIME_TYPE][\"id\"] !== undefined) {\n",
       "      toinsert[toinsert.length - 1].firstChild.textContent = output.data[JS_MIME_TYPE];\n",
       "      // store reference to embed id on output_area\n",
       "      output_area._bokeh_element_id = output.metadata[EXEC_MIME_TYPE][\"id\"];\n",
       "    }\n",
       "    if (output.metadata[EXEC_MIME_TYPE][\"server_id\"] !== undefined) {\n",
       "      const bk_div = document.createElement(\"div\");\n",
       "      bk_div.innerHTML = output.data[HTML_MIME_TYPE];\n",
       "      const script_attrs = bk_div.children[0].attributes;\n",
       "      for (let i = 0; i < script_attrs.length; i++) {\n",
       "        toinsert[toinsert.length - 1].firstChild.setAttribute(script_attrs[i].name, script_attrs[i].value);\n",
       "        toinsert[toinsert.length - 1].firstChild.textContent = bk_div.children[0].textContent\n",
       "      }\n",
       "      // store reference to server id on output_area\n",
       "      output_area._bokeh_server_id = output.metadata[EXEC_MIME_TYPE][\"server_id\"];\n",
       "    }\n",
       "  }\n",
       "\n",
       "  function register_renderer(events, OutputArea) {\n",
       "\n",
       "    function append_mime(data, metadata, element) {\n",
       "      // create a DOM node to render to\n",
       "      const toinsert = this.create_output_subarea(\n",
       "        metadata,\n",
       "        CLASS_NAME,\n",
       "        EXEC_MIME_TYPE\n",
       "      );\n",
       "      this.keyboard_manager.register_events(toinsert);\n",
       "      // Render to node\n",
       "      const props = {data: data, metadata: metadata[EXEC_MIME_TYPE]};\n",
       "      render(props, toinsert[toinsert.length - 1]);\n",
       "      element.append(toinsert);\n",
       "      return toinsert\n",
       "    }\n",
       "\n",
       "    /* Handle when an output is cleared or removed */\n",
       "    events.on('clear_output.CodeCell', handleClearOutput);\n",
       "    events.on('delete.Cell', handleClearOutput);\n",
       "\n",
       "    /* Handle when a new output is added */\n",
       "    events.on('output_added.OutputArea', handleAddOutput);\n",
       "\n",
       "    /**\n",
       "     * Register the mime type and append_mime function with output_area\n",
       "     */\n",
       "    OutputArea.prototype.register_mime_type(EXEC_MIME_TYPE, append_mime, {\n",
       "      /* Is output safe? */\n",
       "      safe: true,\n",
       "      /* Index of renderer in `output_area.display_order` */\n",
       "      index: 0\n",
       "    });\n",
       "  }\n",
       "\n",
       "  // register the mime type if in Jupyter Notebook environment and previously unregistered\n",
       "  if (root.Jupyter !== undefined) {\n",
       "    const events = require('base/js/events');\n",
       "    const OutputArea = require('notebook/js/outputarea').OutputArea;\n",
       "\n",
       "    if (OutputArea.prototype.mime_types().indexOf(EXEC_MIME_TYPE) == -1) {\n",
       "      register_renderer(events, OutputArea);\n",
       "    }\n",
       "  }\n",
       "\n",
       "  \n",
       "  if (typeof (root._bokeh_timeout) === \"undefined\" || force === true) {\n",
       "    root._bokeh_timeout = Date.now() + 5000;\n",
       "    root._bokeh_failed_load = false;\n",
       "  }\n",
       "\n",
       "  const NB_LOAD_WARNING = {'data': {'text/html':\n",
       "     \"<div style='background-color: #fdd'>\\n\"+\n",
       "     \"<p>\\n\"+\n",
       "     \"BokehJS does not appear to have successfully loaded. If loading BokehJS from CDN, this \\n\"+\n",
       "     \"may be due to a slow or bad network connection. Possible fixes:\\n\"+\n",
       "     \"</p>\\n\"+\n",
       "     \"<ul>\\n\"+\n",
       "     \"<li>re-rerun `output_notebook()` to attempt to load from CDN again, or</li>\\n\"+\n",
       "     \"<li>use INLINE resources instead, as so:</li>\\n\"+\n",
       "     \"</ul>\\n\"+\n",
       "     \"<code>\\n\"+\n",
       "     \"from bokeh.resources import INLINE\\n\"+\n",
       "     \"output_notebook(resources=INLINE)\\n\"+\n",
       "     \"</code>\\n\"+\n",
       "     \"</div>\"}};\n",
       "\n",
       "  function display_loaded() {\n",
       "    const el = document.getElementById(\"1002\");\n",
       "    if (el != null) {\n",
       "      el.textContent = \"BokehJS is loading...\";\n",
       "    }\n",
       "    if (root.Bokeh !== undefined) {\n",
       "      if (el != null) {\n",
       "        el.textContent = \"BokehJS \" + root.Bokeh.version + \" successfully loaded.\";\n",
       "      }\n",
       "    } else if (Date.now() < root._bokeh_timeout) {\n",
       "      setTimeout(display_loaded, 100)\n",
       "    }\n",
       "  }\n",
       "\n",
       "\n",
       "  function run_callbacks() {\n",
       "    try {\n",
       "      root._bokeh_onload_callbacks.forEach(function(callback) {\n",
       "        if (callback != null)\n",
       "          callback();\n",
       "      });\n",
       "    } finally {\n",
       "      delete root._bokeh_onload_callbacks\n",
       "    }\n",
       "    console.debug(\"Bokeh: all callbacks have finished\");\n",
       "  }\n",
       "\n",
       "  function load_libs(css_urls, js_urls, callback) {\n",
       "    if (css_urls == null) css_urls = [];\n",
       "    if (js_urls == null) js_urls = [];\n",
       "\n",
       "    root._bokeh_onload_callbacks.push(callback);\n",
       "    if (root._bokeh_is_loading > 0) {\n",
       "      console.debug(\"Bokeh: BokehJS is being loaded, scheduling callback at\", now());\n",
       "      return null;\n",
       "    }\n",
       "    if (js_urls == null || js_urls.length === 0) {\n",
       "      run_callbacks();\n",
       "      return null;\n",
       "    }\n",
       "    console.debug(\"Bokeh: BokehJS not loaded, scheduling load and callback at\", now());\n",
       "    root._bokeh_is_loading = css_urls.length + js_urls.length;\n",
       "\n",
       "    function on_load() {\n",
       "      root._bokeh_is_loading--;\n",
       "      if (root._bokeh_is_loading === 0) {\n",
       "        console.debug(\"Bokeh: all BokehJS libraries/stylesheets loaded\");\n",
       "        run_callbacks()\n",
       "      }\n",
       "    }\n",
       "\n",
       "    function on_error(url) {\n",
       "      console.error(\"failed to load \" + url);\n",
       "    }\n",
       "\n",
       "    for (let i = 0; i < css_urls.length; i++) {\n",
       "      const url = css_urls[i];\n",
       "      const element = document.createElement(\"link\");\n",
       "      element.onload = on_load;\n",
       "      element.onerror = on_error.bind(null, url);\n",
       "      element.rel = \"stylesheet\";\n",
       "      element.type = \"text/css\";\n",
       "      element.href = url;\n",
       "      console.debug(\"Bokeh: injecting link tag for BokehJS stylesheet: \", url);\n",
       "      document.body.appendChild(element);\n",
       "    }\n",
       "\n",
       "    for (let i = 0; i < js_urls.length; i++) {\n",
       "      const url = js_urls[i];\n",
       "      const element = document.createElement('script');\n",
       "      element.onload = on_load;\n",
       "      element.onerror = on_error.bind(null, url);\n",
       "      element.async = false;\n",
       "      element.src = url;\n",
       "      console.debug(\"Bokeh: injecting script tag for BokehJS library: \", url);\n",
       "      document.head.appendChild(element);\n",
       "    }\n",
       "  };\n",
       "\n",
       "  function inject_raw_css(css) {\n",
       "    const element = document.createElement(\"style\");\n",
       "    element.appendChild(document.createTextNode(css));\n",
       "    document.body.appendChild(element);\n",
       "  }\n",
       "\n",
       "  \n",
       "  const js_urls = [\"https://cdn.bokeh.org/bokeh/release/bokeh-2.4.2.min.js\", \"https://cdn.bokeh.org/bokeh/release/bokeh-gl-2.4.2.min.js\", \"https://cdn.bokeh.org/bokeh/release/bokeh-widgets-2.4.2.min.js\", \"https://cdn.bokeh.org/bokeh/release/bokeh-tables-2.4.2.min.js\", \"https://cdn.bokeh.org/bokeh/release/bokeh-mathjax-2.4.2.min.js\", \"https://unpkg.com/@holoviz/panel@0.12.6/dist/panel.min.js\"];\n",
       "  const css_urls = [];\n",
       "  \n",
       "\n",
       "  const inline_js = [\n",
       "    function(Bokeh) {\n",
       "      Bokeh.set_log_level(\"info\");\n",
       "    },\n",
       "    function(Bokeh) {\n",
       "    \n",
       "    \n",
       "    }\n",
       "  ];\n",
       "\n",
       "  function run_inline_js() {\n",
       "    \n",
       "    if (root.Bokeh !== undefined || force === true) {\n",
       "      \n",
       "    for (let i = 0; i < inline_js.length; i++) {\n",
       "      inline_js[i].call(root, root.Bokeh);\n",
       "    }\n",
       "    if (force === true) {\n",
       "        display_loaded();\n",
       "      }} else if (Date.now() < root._bokeh_timeout) {\n",
       "      setTimeout(run_inline_js, 100);\n",
       "    } else if (!root._bokeh_failed_load) {\n",
       "      console.log(\"Bokeh: BokehJS failed to load within specified timeout.\");\n",
       "      root._bokeh_failed_load = true;\n",
       "    } else if (force !== true) {\n",
       "      const cell = $(document.getElementById(\"1002\")).parents('.cell').data().cell;\n",
       "      cell.output_area.append_execute_result(NB_LOAD_WARNING)\n",
       "    }\n",
       "\n",
       "  }\n",
       "\n",
       "  if (root._bokeh_is_loading === 0) {\n",
       "    console.debug(\"Bokeh: BokehJS loaded, going straight to plotting\");\n",
       "    run_inline_js();\n",
       "  } else {\n",
       "    load_libs(css_urls, js_urls, function() {\n",
       "      console.debug(\"Bokeh: BokehJS plotting callback run at\", now());\n",
       "      run_inline_js();\n",
       "    });\n",
       "  }\n",
       "}(window));"
      ],
      "application/vnd.bokehjs_load.v0+json": "\n(function(root) {\n  function now() {\n    return new Date();\n  }\n\n  const force = true;\n\n  if (typeof root._bokeh_onload_callbacks === \"undefined\" || force === true) {\n    root._bokeh_onload_callbacks = [];\n    root._bokeh_is_loading = undefined;\n  }\n\n  \n\n  \n  if (typeof (root._bokeh_timeout) === \"undefined\" || force === true) {\n    root._bokeh_timeout = Date.now() + 5000;\n    root._bokeh_failed_load = false;\n  }\n\n  const NB_LOAD_WARNING = {'data': {'text/html':\n     \"<div style='background-color: #fdd'>\\n\"+\n     \"<p>\\n\"+\n     \"BokehJS does not appear to have successfully loaded. If loading BokehJS from CDN, this \\n\"+\n     \"may be due to a slow or bad network connection. Possible fixes:\\n\"+\n     \"</p>\\n\"+\n     \"<ul>\\n\"+\n     \"<li>re-rerun `output_notebook()` to attempt to load from CDN again, or</li>\\n\"+\n     \"<li>use INLINE resources instead, as so:</li>\\n\"+\n     \"</ul>\\n\"+\n     \"<code>\\n\"+\n     \"from bokeh.resources import INLINE\\n\"+\n     \"output_notebook(resources=INLINE)\\n\"+\n     \"</code>\\n\"+\n     \"</div>\"}};\n\n  function display_loaded() {\n    const el = document.getElementById(\"1002\");\n    if (el != null) {\n      el.textContent = \"BokehJS is loading...\";\n    }\n    if (root.Bokeh !== undefined) {\n      if (el != null) {\n        el.textContent = \"BokehJS \" + root.Bokeh.version + \" successfully loaded.\";\n      }\n    } else if (Date.now() < root._bokeh_timeout) {\n      setTimeout(display_loaded, 100)\n    }\n  }\n\n\n  function run_callbacks() {\n    try {\n      root._bokeh_onload_callbacks.forEach(function(callback) {\n        if (callback != null)\n          callback();\n      });\n    } finally {\n      delete root._bokeh_onload_callbacks\n    }\n    console.debug(\"Bokeh: all callbacks have finished\");\n  }\n\n  function load_libs(css_urls, js_urls, callback) {\n    if (css_urls == null) css_urls = [];\n    if (js_urls == null) js_urls = [];\n\n    root._bokeh_onload_callbacks.push(callback);\n    if (root._bokeh_is_loading > 0) {\n      console.debug(\"Bokeh: BokehJS is being loaded, scheduling callback at\", now());\n      return null;\n    }\n    if (js_urls == null || js_urls.length === 0) {\n      run_callbacks();\n      return null;\n    }\n    console.debug(\"Bokeh: BokehJS not loaded, scheduling load and callback at\", now());\n    root._bokeh_is_loading = css_urls.length + js_urls.length;\n\n    function on_load() {\n      root._bokeh_is_loading--;\n      if (root._bokeh_is_loading === 0) {\n        console.debug(\"Bokeh: all BokehJS libraries/stylesheets loaded\");\n        run_callbacks()\n      }\n    }\n\n    function on_error(url) {\n      console.error(\"failed to load \" + url);\n    }\n\n    for (let i = 0; i < css_urls.length; i++) {\n      const url = css_urls[i];\n      const element = document.createElement(\"link\");\n      element.onload = on_load;\n      element.onerror = on_error.bind(null, url);\n      element.rel = \"stylesheet\";\n      element.type = \"text/css\";\n      element.href = url;\n      console.debug(\"Bokeh: injecting link tag for BokehJS stylesheet: \", url);\n      document.body.appendChild(element);\n    }\n\n    for (let i = 0; i < js_urls.length; i++) {\n      const url = js_urls[i];\n      const element = document.createElement('script');\n      element.onload = on_load;\n      element.onerror = on_error.bind(null, url);\n      element.async = false;\n      element.src = url;\n      console.debug(\"Bokeh: injecting script tag for BokehJS library: \", url);\n      document.head.appendChild(element);\n    }\n  };\n\n  function inject_raw_css(css) {\n    const element = document.createElement(\"style\");\n    element.appendChild(document.createTextNode(css));\n    document.body.appendChild(element);\n  }\n\n  \n  const js_urls = [\"https://cdn.bokeh.org/bokeh/release/bokeh-2.4.2.min.js\", \"https://cdn.bokeh.org/bokeh/release/bokeh-gl-2.4.2.min.js\", \"https://cdn.bokeh.org/bokeh/release/bokeh-widgets-2.4.2.min.js\", \"https://cdn.bokeh.org/bokeh/release/bokeh-tables-2.4.2.min.js\", \"https://cdn.bokeh.org/bokeh/release/bokeh-mathjax-2.4.2.min.js\", \"https://unpkg.com/@holoviz/panel@0.12.6/dist/panel.min.js\"];\n  const css_urls = [];\n  \n\n  const inline_js = [\n    function(Bokeh) {\n      Bokeh.set_log_level(\"info\");\n    },\n    function(Bokeh) {\n    \n    \n    }\n  ];\n\n  function run_inline_js() {\n    \n    if (root.Bokeh !== undefined || force === true) {\n      \n    for (let i = 0; i < inline_js.length; i++) {\n      inline_js[i].call(root, root.Bokeh);\n    }\n    if (force === true) {\n        display_loaded();\n      }} else if (Date.now() < root._bokeh_timeout) {\n      setTimeout(run_inline_js, 100);\n    } else if (!root._bokeh_failed_load) {\n      console.log(\"Bokeh: BokehJS failed to load within specified timeout.\");\n      root._bokeh_failed_load = true;\n    } else if (force !== true) {\n      const cell = $(document.getElementById(\"1002\")).parents('.cell').data().cell;\n      cell.output_area.append_execute_result(NB_LOAD_WARNING)\n    }\n\n  }\n\n  if (root._bokeh_is_loading === 0) {\n    console.debug(\"Bokeh: BokehJS loaded, going straight to plotting\");\n    run_inline_js();\n  } else {\n    load_libs(css_urls, js_urls, function() {\n      console.debug(\"Bokeh: BokehJS plotting callback run at\", now());\n      run_inline_js();\n    });\n  }\n}(window));"
     },
     "metadata": {},
     "output_type": "display_data"
    },
    {
     "data": {
      "text/html": [
       "\n",
       "\n",
       "\n",
       "\n",
       "\n",
       "\n",
       "  <div class=\"bk-root\" id=\"8b1c6180-4840-4809-b32d-f5cfd157376a\" data-root-id=\"1004\"></div>\n"
      ]
     },
     "metadata": {},
     "output_type": "display_data"
    },
    {
     "data": {
      "application/javascript": [
       "(function(root) {\n",
       "  function embed_document(root) {\n",
       "    \n",
       "  const docs_json = {\"78c0640a-4a34-464e-8d35-874f9b867dfb\":{\"defs\":[{\"extends\":null,\"module\":null,\"name\":\"ReactiveHTML1\",\"overrides\":[],\"properties\":[]},{\"extends\":null,\"module\":null,\"name\":\"FlexBox1\",\"overrides\":[],\"properties\":[{\"default\":\"flex-start\",\"kind\":null,\"name\":\"align_content\"},{\"default\":\"flex-start\",\"kind\":null,\"name\":\"align_items\"},{\"default\":\"row\",\"kind\":null,\"name\":\"flex_direction\"},{\"default\":\"wrap\",\"kind\":null,\"name\":\"flex_wrap\"},{\"default\":\"flex-start\",\"kind\":null,\"name\":\"justify_content\"}]},{\"extends\":null,\"module\":null,\"name\":\"TemplateActions1\",\"overrides\":[],\"properties\":[{\"default\":0,\"kind\":null,\"name\":\"open_modal\"},{\"default\":0,\"kind\":null,\"name\":\"close_modal\"}]},{\"extends\":null,\"module\":null,\"name\":\"MaterialTemplateActions1\",\"overrides\":[],\"properties\":[{\"default\":0,\"kind\":null,\"name\":\"open_modal\"},{\"default\":0,\"kind\":null,\"name\":\"close_modal\"}]}],\"roots\":{\"references\":[{\"attributes\":{\"background_fill_color\":\"white\",\"below\":[{\"id\":\"1013\"}],\"center\":[{\"id\":\"1016\"},{\"id\":\"1020\"}],\"height\":800,\"left\":[{\"id\":\"1017\"}],\"renderers\":[{\"id\":\"1041\"}],\"title\":{\"id\":\"1043\"},\"toolbar\":{\"id\":\"1029\"},\"width\":800,\"x_range\":{\"id\":\"1005\"},\"x_scale\":{\"id\":\"1009\"},\"y_range\":{\"id\":\"1007\"},\"y_scale\":{\"id\":\"1011\"}},\"id\":\"1004\",\"subtype\":\"Figure\",\"type\":\"Plot\"},{\"attributes\":{\"callback\":null,\"tooltips\":[[\"index\",\"@{index}\"],[\"url\",\"@{url}\"]]},\"id\":\"1028\",\"type\":\"HoverTool\"},{\"attributes\":{\"bottom_units\":\"screen\",\"coordinates\":null,\"fill_alpha\":0.5,\"fill_color\":\"lightgrey\",\"group\":null,\"left_units\":\"screen\",\"level\":\"overlay\",\"line_alpha\":1.0,\"line_color\":\"black\",\"line_dash\":[4,4],\"line_width\":2,\"right_units\":\"screen\",\"syncable\":false,\"top_units\":\"screen\"},\"id\":\"1027\",\"type\":\"BoxAnnotation\"},{\"attributes\":{},\"id\":\"1018\",\"type\":\"BasicTicker\"},{\"attributes\":{\"coordinates\":null,\"formatter\":{\"id\":\"1046\"},\"group\":null,\"major_label_policy\":{\"id\":\"1047\"},\"ticker\":{\"id\":\"1018\"},\"visible\":false},\"id\":\"1017\",\"type\":\"LinearAxis\"},{\"attributes\":{\"overlay\":{\"id\":\"1027\"}},\"id\":\"1023\",\"type\":\"BoxZoomTool\"},{\"attributes\":{},\"id\":\"1049\",\"type\":\"BasicTickFormatter\"},{\"attributes\":{\"fill_alpha\":{\"value\":0.1},\"fill_color\":{\"field\":\"color\"},\"hatch_alpha\":{\"value\":0.1},\"hatch_color\":{\"field\":\"color\"},\"line_alpha\":{\"value\":0.1},\"line_color\":{\"field\":\"color\"},\"size\":{\"value\":2},\"x\":{\"field\":\"x\"},\"y\":{\"field\":\"y\"}},\"id\":\"1039\",\"type\":\"Circle\"},{\"attributes\":{},\"id\":\"1051\",\"type\":\"UnionRenderers\"},{\"attributes\":{\"axis\":{\"id\":\"1017\"},\"coordinates\":null,\"dimension\":1,\"group\":null,\"ticker\":null,\"visible\":false},\"id\":\"1020\",\"type\":\"Grid\"},{\"attributes\":{\"fill_alpha\":{\"field\":\"alpha\"},\"fill_color\":{\"field\":\"color\"},\"hatch_alpha\":{\"field\":\"alpha\"},\"hatch_color\":{\"field\":\"color\"},\"line_alpha\":{\"field\":\"alpha\"},\"line_color\":{\"field\":\"color\"},\"size\":{\"value\":2},\"x\":{\"field\":\"x\"},\"y\":{\"field\":\"y\"}},\"id\":\"1038\",\"type\":\"Circle\"},{\"attributes\":{},\"id\":\"1050\",\"type\":\"AllLabels\"},{\"attributes\":{\"coordinates\":null,\"formatter\":{\"id\":\"1049\"},\"group\":null,\"major_label_policy\":{\"id\":\"1050\"},\"ticker\":{\"id\":\"1014\"},\"visible\":false},\"id\":\"1013\",\"type\":\"LinearAxis\"},{\"attributes\":{},\"id\":\"1007\",\"type\":\"DataRange1d\"},{\"attributes\":{\"data\":{\"alpha\":[1,1,1,1,1,1,1,1,1,1,1,1,1,1,1,1,1,1,1,1,1,1,1,1,1,1,1,1,1,1,1,1,1,1,1,1,1,1,1,1,1,1,1,1,1,1,1,1,1,1,1,1,1,1,1,1,1,1,1,1,1,1,1,1,1,1,1,1,1,1,1,1,1,1,1,1,1,1,1,1,1,1,1,1,1,1,1,1,1,1,1,1,1,1,1,1,1,1,1,1,1,1,1,1,1,1,1,1,1,1,1,1,1,1,1,1,1,1,1,1,1,1,1,1,1,1,1,1,1,1,1,1,1,1,1,1,1,1,1,1,1,1,1,1,1,1,1,1,1,1,1,1,1,1,1,1,1,1,1,1,1,1,1,1,1,1,1,1,1,1,1,1,1,1,1,1,1,1,1,1,1,1,1,1,1,1,1,1,1,1,1,1,1,1,1,1,1,1,1,1,1,1,1,1,1,1,1,1,1,1,1,1,1,1,1,1,1,1,1,1,1,1,1,1,1,1,1,1,1,1,1,1,1,1,1,1,1,1,1,1,1,1,1,1,1,1,1,1,1,1,1,1,1,1,1,1,1,1,1,1,1,1,1,1,1,1,1,1,1,1,1,1,1,1,1,1,1,1,1,1,1,1,1,1,1,1,1,1,1,1,1,1,1,1,1,1,1,1,1,1,1,1,1,1,1,1,1,1,1,1,1,1,1,1,1,1,1,1,1,1,1,1,1,1,1,1,1,1,1,1,1,1,1,1,1,1,1,1,1,1,1,1,1,1,1,1,1,1,1,1,1,1,1,1,1,1,1,1,1,1,1,1,1,1,1,1,1,1,1,1,1,1,1,1,1,1,1,1,1,1,1,1,1,1,1,1,1,1,1,1,1,1,1,1,1,1,1,1,1,1,1,1,1,1,1,1,1,1,1,1,1,1,1,1,1,1,1,1,1,1,1,1,1,1,1,1,1,1,1,1,1,1,1,1,1,1,1,1,1,1,1,1,1,1,1,1,1,1,1,1,1,1,1,1,1,1,1,1,1,1,1,1,1,1,1,1,1,1,1,1,1,1,1,1,1,1,1,1,1,1,1,1,1,1,1,1,1,1,1,1,1,1,1,1,1,1,1,1,1,1,1,1,1,1,1,1,1,1,1,1,1,1,1,1,1,1,1,1,1,1,1,1,1,1,1,1,1,1,1,1,1,1,1,1,1,1,1,1,1,1,1,1,1,1,1,1,1,1,1,1,1,1,1,1,1,1,1,1,1,1,1,1,1,1,1,1,1,1,1,1,1,1,1,1,1,1,1,1,1,1,1,1,1,1,1,1,1,1,1,1,1,1,1,1,1,1,1,1,1,1,1,1,1,1,1,1,1,1,1,1,1,1,1,1,1,1,1,1,1,1,1,1,1,1,1,1,1,1,1,1,1,1,1,1,1,1,1,1,1,1,1,1,1,1,1,1,1,1,1,1,1,1,1,1,1,1,1,1,1,1,1,1,1,1,1,1,1,1,1,1,1,1,1,1,1,1,1,1,1,1,1,1,1,1,1,1,1,1,1,1,1,1,1,1,1,1,1,1,1,1,1,1,1,1,1,1,1,1,1,1,1,1,1,1,1,1,1,1,1,1,1,1,1,1,1,1,1,1,1,1,1,1,1,1,1,1,1,1,1,1,1,1,1,1,1,1,1,1,1,1,1,1,1,1,1,1,1,1,1,1,1,1,1,1,1,1,1,1,1,1,1,1,1,1,1,1,1,1,1,1,1,1,1,1,1,1,1,1,1,1,1,1,1,1,1,1,1,1,1,1,1,1,1,1,1,1,1,1,1,1,1,1],\"color\":[\"#9e0142\",\"#9e0142\",\"#9e0142\",\"#9e0142\",\"#a00343\",\"#a00343\",\"#a00343\",\"#a20643\",\"#a20643\",\"#a20643\",\"#a40844\",\"#a40844\",\"#a40844\",\"#a70b44\",\"#a70b44\",\"#a70b44\",\"#a90d45\",\"#a90d45\",\"#a90d45\",\"#a90d45\",\"#ab0f45\",\"#ab0f45\",\"#ab0f45\",\"#ad1246\",\"#ad1246\",\"#ad1246\",\"#af1446\",\"#af1446\",\"#af1446\",\"#b11747\",\"#b11747\",\"#b11747\",\"#b41947\",\"#b41947\",\"#b41947\",\"#b61b48\",\"#b61b48\",\"#b61b48\",\"#b61b48\",\"#b81e48\",\"#b81e48\",\"#b81e48\",\"#ba2049\",\"#ba2049\",\"#ba2049\",\"#bc2249\",\"#bc2249\",\"#bc2249\",\"#be254a\",\"#be254a\",\"#be254a\",\"#c1274a\",\"#c1274a\",\"#c1274a\",\"#c32a4b\",\"#c32a4b\",\"#c32a4b\",\"#c32a4b\",\"#c52c4b\",\"#c52c4b\",\"#c52c4b\",\"#c72e4c\",\"#c72e4c\",\"#c72e4c\",\"#c9314c\",\"#c9314c\",\"#c9314c\",\"#cb334d\",\"#cb334d\",\"#cb334d\",\"#cd364d\",\"#cd364d\",\"#cd364d\",\"#d0384e\",\"#d0384e\",\"#d0384e\",\"#d0384e\",\"#d23a4e\",\"#d23a4e\",\"#d23a4e\",\"#d43d4f\",\"#d43d4f\",\"#d43d4f\",\"#d63f4f\",\"#d63f4f\",\"#d63f4f\",\"#d7414e\",\"#d7414e\",\"#d7414e\",\"#d8434e\",\"#d8434e\",\"#d8434e\",\"#d9444d\",\"#d9444d\",\"#d9444d\",\"#d9444d\",\"#da464d\",\"#da464d\",\"#da464d\",\"#dc484c\",\"#dc484c\",\"#dc484c\",\"#dd4a4c\",\"#dd4a4c\",\"#dd4a4c\",\"#de4c4b\",\"#de4c4b\",\"#de4c4b\",\"#df4e4b\",\"#df4e4b\",\"#df4e4b\",\"#e1504b\",\"#e1504b\",\"#e1504b\",\"#e1504b\",\"#e2514a\",\"#e2514a\",\"#e2514a\",\"#e3534a\",\"#e3534a\",\"#e3534a\",\"#e45549\",\"#e45549\",\"#e45549\",\"#e55749\",\"#e55749\",\"#e55749\",\"#e75948\",\"#e75948\",\"#e75948\",\"#e85b48\",\"#e85b48\",\"#e85b48\",\"#e85b48\",\"#e95c47\",\"#e95c47\",\"#e95c47\",\"#ea5e47\",\"#ea5e47\",\"#ea5e47\",\"#eb6046\",\"#eb6046\",\"#eb6046\",\"#ed6246\",\"#ed6246\",\"#ed6246\",\"#ee6445\",\"#ee6445\",\"#ee6445\",\"#ef6645\",\"#ef6645\",\"#ef6645\",\"#ef6645\",\"#f06744\",\"#f06744\",\"#f06744\",\"#f26944\",\"#f26944\",\"#f26944\",\"#f36b43\",\"#f36b43\",\"#f36b43\",\"#f46d43\",\"#f46d43\",\"#f46d43\",\"#f47044\",\"#f47044\",\"#f47044\",\"#f57245\",\"#f57245\",\"#f57245\",\"#f57245\",\"#f57547\",\"#f57547\",\"#f57547\",\"#f57748\",\"#f57748\",\"#f57748\",\"#f67a49\",\"#f67a49\",\"#f67a49\",\"#f67c4a\",\"#f67c4a\",\"#f67c4a\",\"#f67f4b\",\"#f67f4b\",\"#f67f4b\",\"#f7814c\",\"#f7814c\",\"#f7814c\",\"#f7814c\",\"#f7844e\",\"#f7844e\",\"#f7844e\",\"#f8864f\",\"#f8864f\",\"#f8864f\",\"#f88950\",\"#f88950\",\"#f88950\",\"#f88c51\",\"#f88c51\",\"#f88c51\",\"#f98e52\",\"#f98e52\",\"#f98e52\",\"#f99153\",\"#f99153\",\"#f99153\",\"#f99153\",\"#f99355\",\"#f99355\",\"#f99355\",\"#fa9656\",\"#fa9656\",\"#fa9656\",\"#fa9857\",\"#fa9857\",\"#fa9857\",\"#fa9b58\",\"#fa9b58\",\"#fa9b58\",\"#fb9d59\",\"#fb9d59\",\"#fb9d59\",\"#fba05b\",\"#fba05b\",\"#fba05b\",\"#fba05b\",\"#fba35c\",\"#fba35c\",\"#fba35c\",\"#fca55d\",\"#fca55d\",\"#fca55d\",\"#fca85e\",\"#fca85e\",\"#fca85e\",\"#fcaa5f\",\"#fcaa5f\",\"#fcaa5f\",\"#fdad60\",\"#fdad60\",\"#fdad60\",\"#fdaf62\",\"#fdaf62\",\"#fdaf62\",\"#fdaf62\",\"#fdb163\",\"#fdb163\",\"#fdb163\",\"#fdb365\",\"#fdb365\",\"#fdb365\",\"#fdb567\",\"#fdb567\",\"#fdb567\",\"#fdb768\",\"#fdb768\",\"#fdb768\",\"#fdb96a\",\"#fdb96a\",\"#fdb96a\",\"#fdbb6c\",\"#fdbb6c\",\"#fdbb6c\",\"#fdbb6c\",\"#fdbd6d\",\"#fdbd6d\",\"#fdbd6d\",\"#fdbf6f\",\"#fdbf6f\",\"#fdbf6f\",\"#fdc171\",\"#fdc171\",\"#fdc171\",\"#fdc372\",\"#fdc372\",\"#fdc372\",\"#fdc574\",\"#fdc574\",\"#fdc574\",\"#fdc776\",\"#fdc776\",\"#fdc776\",\"#fdc776\",\"#fec877\",\"#fec877\",\"#fec877\",\"#feca79\",\"#feca79\",\"#feca79\",\"#fecc7b\",\"#fecc7b\",\"#fecc7b\",\"#fece7c\",\"#fece7c\",\"#fece7c\",\"#fed07e\",\"#fed07e\",\"#fed07e\",\"#fed27f\",\"#fed27f\",\"#fed27f\",\"#fed27f\",\"#fed481\",\"#fed481\",\"#fed481\",\"#fed683\",\"#fed683\",\"#fed683\",\"#fed884\",\"#fed884\",\"#fed884\",\"#feda86\",\"#feda86\",\"#feda86\",\"#fedc88\",\"#fedc88\",\"#fedc88\",\"#fede89\",\"#fede89\",\"#fede89\",\"#fede89\",\"#fee08b\",\"#fee08b\",\"#fee08b\",\"#fee18d\",\"#fee18d\",\"#fee18d\",\"#fee28f\",\"#fee28f\",\"#fee28f\",\"#fee491\",\"#fee491\",\"#fee491\",\"#fee593\",\"#fee593\",\"#fee593\",\"#fee695\",\"#fee695\",\"#fee695\",\"#fee695\",\"#fee797\",\"#fee797\",\"#fee797\",\"#fee999\",\"#fee999\",\"#fee999\",\"#feea9b\",\"#feea9b\",\"#feea9b\",\"#feeb9d\",\"#feeb9d\",\"#feeb9d\",\"#feec9f\",\"#feec9f\",\"#feec9f\",\"#feeda1\",\"#feeda1\",\"#feeda1\",\"#feeda1\",\"#feefa3\",\"#feefa3\",\"#feefa3\",\"#fff0a6\",\"#fff0a6\",\"#fff0a6\",\"#fff1a8\",\"#fff1a8\",\"#fff1a8\",\"#fff2aa\",\"#fff2aa\",\"#fff2aa\",\"#fff3ac\",\"#fff3ac\",\"#fff3ac\",\"#fff5ae\",\"#fff5ae\",\"#fff5ae\",\"#fff5ae\",\"#fff6b0\",\"#fff6b0\",\"#fff6b0\",\"#fff7b2\",\"#fff7b2\",\"#fff7b2\",\"#fff8b4\",\"#fff8b4\",\"#fff8b4\",\"#fffab6\",\"#fffab6\",\"#fffab6\",\"#fffbb8\",\"#fffbb8\",\"#fffbb8\",\"#fffcba\",\"#fffcba\",\"#fffcba\",\"#fffcba\",\"#fffdbc\",\"#fffdbc\",\"#fffdbc\",\"#fffebe\",\"#fffebe\",\"#fffebe\",\"#ffffbe\",\"#ffffbe\",\"#ffffbe\",\"#fefebd\",\"#fefebd\",\"#fefebd\",\"#fdfebb\",\"#fdfebb\",\"#fdfebb\",\"#fdfebb\",\"#fcfeba\",\"#fcfeba\",\"#fcfeba\",\"#fbfdb8\",\"#fbfdb8\",\"#fbfdb8\",\"#fafdb7\",\"#fafdb7\",\"#fafdb7\",\"#f9fcb5\",\"#f9fcb5\",\"#f9fcb5\",\"#f8fcb4\",\"#f8fcb4\",\"#f8fcb4\",\"#f7fcb2\",\"#f7fcb2\",\"#f7fcb2\",\"#f7fcb2\",\"#f6fbb0\",\"#f6fbb0\",\"#f6fbb0\",\"#f5fbaf\",\"#f5fbaf\",\"#f5fbaf\",\"#f4faad\",\"#f4faad\",\"#f4faad\",\"#f3faac\",\"#f3faac\",\"#f3faac\",\"#f2faaa\",\"#f2faaa\",\"#f2faaa\",\"#f1f9a9\",\"#f1f9a9\",\"#f1f9a9\",\"#f1f9a9\",\"#f0f9a7\",\"#f0f9a7\",\"#f0f9a7\",\"#eff9a6\",\"#eff9a6\",\"#eff9a6\",\"#eef8a4\",\"#eef8a4\",\"#eef8a4\",\"#edf8a3\",\"#edf8a3\",\"#edf8a3\",\"#ecf7a1\",\"#ecf7a1\",\"#ecf7a1\",\"#ebf7a0\",\"#ebf7a0\",\"#ebf7a0\",\"#ebf7a0\",\"#eaf79e\",\"#eaf79e\",\"#eaf79e\",\"#e9f69d\",\"#e9f69d\",\"#e9f69d\",\"#e8f69b\",\"#e8f69b\",\"#e8f69b\",\"#e7f59a\",\"#e7f59a\",\"#e7f59a\",\"#e6f598\",\"#e6f598\",\"#e6f598\",\"#e4f498\",\"#e4f498\",\"#e4f498\",\"#e4f498\",\"#e1f399\",\"#e1f399\",\"#e1f399\",\"#dff299\",\"#dff299\",\"#dff299\",\"#ddf19a\",\"#ddf19a\",\"#ddf19a\",\"#daf09a\",\"#daf09a\",\"#daf09a\",\"#d8ef9b\",\"#d8ef9b\",\"#d8ef9b\",\"#d6ee9b\",\"#d6ee9b\",\"#d6ee9b\",\"#d6ee9b\",\"#d3ed9c\",\"#d3ed9c\",\"#d3ed9c\",\"#d1ed9c\",\"#d1ed9c\",\"#d1ed9c\",\"#cfec9d\",\"#cfec9d\",\"#cfec9d\",\"#cdeb9d\",\"#cdeb9d\",\"#cdeb9d\",\"#caea9e\",\"#caea9e\",\"#caea9e\",\"#c8e99e\",\"#c8e99e\",\"#c8e99e\",\"#c8e99e\",\"#c6e89f\",\"#c6e89f\",\"#c6e89f\",\"#c3e79f\",\"#c3e79f\",\"#c3e79f\",\"#c1e6a0\",\"#c1e6a0\",\"#c1e6a0\",\"#bfe5a0\",\"#bfe5a0\",\"#bfe5a0\",\"#bce4a0\",\"#bce4a0\",\"#bce4a0\",\"#bae3a1\",\"#bae3a1\",\"#bae3a1\",\"#bae3a1\",\"#b8e2a1\",\"#b8e2a1\",\"#b8e2a1\",\"#b5e1a2\",\"#b5e1a2\",\"#b5e1a2\",\"#b3e0a2\",\"#b3e0a2\",\"#b3e0a2\",\"#b1dfa3\",\"#b1dfa3\",\"#b1dfa3\",\"#aedea3\",\"#aedea3\",\"#aedea3\",\"#acdda4\",\"#acdda4\",\"#acdda4\",\"#acdda4\",\"#aadca4\",\"#aadca4\",\"#aadca4\",\"#a7dba4\",\"#a7dba4\",\"#a7dba4\",\"#a4daa4\",\"#a4daa4\",\"#a4daa4\",\"#a2d9a4\",\"#a2d9a4\",\"#a2d9a4\",\"#9fd8a4\",\"#9fd8a4\",\"#9fd8a4\",\"#9cd7a4\",\"#9cd7a4\",\"#9cd7a4\",\"#9cd7a4\",\"#99d6a4\",\"#99d6a4\",\"#99d6a4\",\"#97d5a4\",\"#97d5a4\",\"#97d5a4\",\"#94d4a4\",\"#94d4a4\",\"#94d4a4\",\"#91d3a4\",\"#91d3a4\",\"#91d3a4\",\"#8fd2a4\",\"#8fd2a4\",\"#8fd2a4\",\"#8cd1a4\",\"#8cd1a4\",\"#8cd1a4\",\"#8cd1a4\",\"#89d0a4\",\"#89d0a4\",\"#89d0a4\",\"#86cfa5\",\"#86cfa5\",\"#86cfa5\",\"#84cea5\",\"#84cea5\",\"#84cea5\",\"#81cda5\",\"#81cda5\",\"#81cda5\",\"#7ecca5\",\"#7ecca5\",\"#7ecca5\",\"#7ccaa5\",\"#7ccaa5\",\"#7ccaa5\",\"#7ccaa5\",\"#79c9a5\",\"#79c9a5\",\"#79c9a5\",\"#76c8a5\",\"#76c8a5\",\"#76c8a5\",\"#74c7a5\",\"#74c7a5\",\"#74c7a5\",\"#71c6a5\",\"#71c6a5\",\"#71c6a5\",\"#6ec5a5\",\"#6ec5a5\",\"#6ec5a5\",\"#6bc4a5\",\"#6bc4a5\",\"#6bc4a5\",\"#6bc4a5\",\"#69c3a5\",\"#69c3a5\",\"#69c3a5\",\"#66c2a5\",\"#66c2a5\",\"#66c2a5\",\"#64c0a6\",\"#64c0a6\",\"#64c0a6\",\"#62bda7\",\"#62bda7\",\"#62bda7\",\"#60bba8\",\"#60bba8\",\"#60bba8\",\"#5eb9a9\",\"#5eb9a9\",\"#5eb9a9\",\"#5eb9a9\",\"#5cb7aa\",\"#5cb7aa\",\"#5cb7aa\",\"#5ab4ab\",\"#5ab4ab\",\"#5ab4ab\",\"#58b2ac\",\"#58b2ac\",\"#58b2ac\",\"#56b0ad\",\"#56b0ad\",\"#56b0ad\",\"#54aead\",\"#54aead\",\"#54aead\",\"#52abae\",\"#52abae\",\"#52abae\",\"#52abae\",\"#50a9af\",\"#50a9af\",\"#50a9af\",\"#4ea7b0\",\"#4ea7b0\",\"#4ea7b0\",\"#4ba4b1\",\"#4ba4b1\",\"#4ba4b1\",\"#49a2b2\",\"#49a2b2\",\"#49a2b2\",\"#47a0b3\",\"#47a0b3\",\"#47a0b3\",\"#459eb4\",\"#459eb4\",\"#459eb4\",\"#459eb4\",\"#439bb5\",\"#439bb5\",\"#439bb5\",\"#4199b6\",\"#4199b6\",\"#4199b6\",\"#3f97b7\",\"#3f97b7\",\"#3f97b7\",\"#3d95b8\",\"#3d95b8\",\"#3d95b8\",\"#3b92b9\",\"#3b92b9\",\"#3b92b9\",\"#3990ba\",\"#3990ba\",\"#3990ba\",\"#3990ba\",\"#378ebb\",\"#378ebb\",\"#378ebb\",\"#358bbc\",\"#358bbc\",\"#358bbc\",\"#3389bd\",\"#3389bd\",\"#3389bd\",\"#3387bc\",\"#3387bc\",\"#3387bc\",\"#3585bb\",\"#3585bb\",\"#3585bb\",\"#3682ba\",\"#3682ba\",\"#3682ba\",\"#3682ba\",\"#3880b9\",\"#3880b9\",\"#3880b9\",\"#3a7eb8\",\"#3a7eb8\",\"#3a7eb8\",\"#3b7cb7\",\"#3b7cb7\",\"#3b7cb7\",\"#3d79b6\",\"#3d79b6\",\"#3d79b6\",\"#3f77b5\",\"#3f77b5\",\"#3f77b5\",\"#4175b4\",\"#4175b4\",\"#4175b4\",\"#4175b4\",\"#4273b3\",\"#4273b3\",\"#4273b3\",\"#4471b2\",\"#4471b2\",\"#4471b2\",\"#466eb1\",\"#466eb1\",\"#466eb1\",\"#486cb0\",\"#486cb0\",\"#486cb0\",\"#496aaf\",\"#496aaf\",\"#496aaf\",\"#4b68ae\",\"#4b68ae\",\"#4b68ae\",\"#4b68ae\",\"#4d65ad\",\"#4d65ad\",\"#4d65ad\",\"#4e63ac\",\"#4e63ac\",\"#4e63ac\",\"#5061aa\",\"#5061aa\",\"#5061aa\",\"#525fa9\",\"#525fa9\",\"#525fa9\",\"#545ca8\",\"#545ca8\",\"#545ca8\",\"#555aa7\",\"#555aa7\",\"#555aa7\",\"#555aa7\",\"#5758a6\",\"#5758a6\",\"#5758a6\",\"#5956a5\",\"#5956a5\",\"#5956a5\",\"#5b53a4\",\"#5b53a4\",\"#5b53a4\",\"#5c51a3\",\"#5c51a3\",\"#5c51a3\",\"#5e4fa2\",\"#5e4fa2\",\"#5e4fa2\",\"#5e4fa2\"],\"index\":[0,1,2,3,4,5,6,7,8,9,10,11,12,13,14,15,16,17,18,19,20,21,22,23,24,25,26,27,28,29,30,31,32,33,34,35,36,37,38,39,40,41,42,43,44,45,46,47,48,49,50,51,52,53,54,55,56,57,58,59,60,61,62,63,64,65,66,67,68,69,70,71,72,73,74,75,76,77,78,79,80,81,82,83,84,85,86,87,88,89,90,91,92,93,94,95,96,97,98,99,100,101,102,103,104,105,106,107,108,109,110,111,112,113,114,115,116,117,118,119,120,121,122,123,124,125,126,127,128,129,130,131,132,133,134,135,136,137,138,139,140,141,142,143,144,145,146,147,148,149,150,151,152,153,154,155,156,157,158,159,160,161,162,163,164,165,166,167,168,169,170,171,172,173,174,175,176,177,178,179,180,181,182,183,184,185,186,187,188,189,190,191,192,193,194,195,196,197,198,199,200,201,202,203,204,205,206,207,208,209,210,211,212,213,214,215,216,217,218,219,220,221,222,223,224,225,226,227,228,229,230,231,232,233,234,235,236,237,238,239,240,241,242,243,244,245,246,247,248,249,250,251,252,253,254,255,256,257,258,259,260,261,262,263,264,265,266,267,268,269,270,271,272,273,274,275,276,277,278,279,280,281,282,283,284,285,286,287,288,289,290,291,292,293,294,295,296,297,298,299,300,301,302,303,304,305,306,307,308,309,310,311,312,313,314,315,316,317,318,319,320,321,322,323,324,325,326,327,328,329,330,331,332,333,334,335,336,337,338,339,340,341,342,343,344,345,346,347,348,349,350,351,352,353,354,355,356,357,358,359,360,361,362,363,364,365,366,367,368,369,370,371,372,373,374,375,376,377,378,379,380,381,382,383,384,385,386,387,388,389,390,391,392,393,394,395,396,397,398,399,400,401,402,403,404,405,406,407,408,409,410,411,412,413,414,415,416,417,418,419,420,421,422,423,424,425,426,427,428,429,430,431,432,433,434,435,436,437,438,439,440,441,442,443,444,445,446,447,448,449,450,451,452,453,454,455,456,457,458,459,460,461,462,463,464,465,466,467,468,469,470,471,472,473,474,475,476,477,478,479,480,481,482,483,484,485,486,487,488,489,490,491,492,493,494,495,496,497,498,499,500,501,502,503,504,505,506,507,508,509,510,511,512,513,514,515,516,517,518,519,520,521,522,523,524,525,526,527,528,529,530,531,532,533,534,535,536,537,538,539,540,541,542,543,544,545,546,547,548,549,550,551,552,553,554,555,556,557,558,559,560,561,562,563,564,565,566,567,568,569,570,571,572,573,574,575,576,577,578,579,580,581,582,583,584,585,586,587,588,589,590,591,592,593,594,595,596,597,598,599,600,601,602,603,604,605,606,607,608,609,610,611,612,613,614,615,616,617,618,619,620,621,622,623,624,625,626,627,628,629,630,631,632,633,634,635,636,637,638,639,640,641,642,643,644,645,646,647,648,649,650,651,652,653,654,655,656,657,658,659,660,661,662,663,664,665,666,667,668,669,670,671,672,673,674,675,676,677,678,679,680,681,682,683,684,685,686,687,688,689,690,691,692,693,694,695,696,697,698,699,700,701,702,703,704,705,706,707,708,709,710,711,712,713,714,715,716,717,718,719,720,721,722,723,724,725,726,727,728,729,730,731,732,733,734,735,736,737,738,739,740,741,742,743,744,745,746,747,748,749,750,751,752,753,754,755,756,757,758,759,760,761,762,763,764,765,766,767,768,769,770,771,772,773,774,775,776,777,778,779,780,781,782,783,784,785,786,787,788,789,790,791,792,793,794,795,796,797,798,799,800,801,802,803,804,805,806,807,808,809,810,811],\"label\":[0,1,2,3,4,5,6,7,8,9,10,11,12,13,14,15,16,17,18,19,20,21,22,23,24,25,26,27,28,29,30,31,32,33,34,35,36,37,38,39,40,41,42,43,44,45,46,47,48,49,50,51,52,53,54,55,56,57,58,59,60,61,62,63,64,65,66,67,68,69,70,71,72,73,74,75,76,77,78,79,80,81,82,83,84,85,86,87,88,89,90,91,92,93,94,95,96,97,98,99,100,101,102,103,104,105,106,107,108,109,110,111,112,113,114,115,116,117,118,119,120,121,122,123,124,125,126,127,128,129,130,131,132,133,134,135,136,137,138,139,140,141,142,143,144,145,146,147,148,149,150,151,152,153,154,155,156,157,158,159,160,161,162,163,164,165,166,167,168,169,170,171,172,173,174,175,176,177,178,179,180,181,182,183,184,185,186,187,188,189,190,191,192,193,194,195,196,197,198,199,200,201,202,203,204,205,206,207,208,209,210,211,212,213,214,215,216,217,218,219,220,221,222,223,224,225,226,227,228,229,230,231,232,233,234,235,236,237,238,239,240,241,242,243,244,245,246,247,248,249,250,251,252,253,254,255,256,257,258,259,260,261,262,263,264,265,266,267,268,269,270,271,272,273,274,275,276,277,278,279,280,281,282,283,284,285,286,287,288,289,290,291,292,293,294,295,296,297,298,299,300,301,302,303,304,305,306,307,308,309,310,311,312,313,314,315,316,317,318,319,320,321,322,323,324,325,326,327,328,329,330,331,332,333,334,335,336,337,338,339,340,341,342,343,344,345,346,347,348,349,350,351,352,353,354,355,356,357,358,359,360,361,362,363,364,365,366,367,368,369,370,371,372,373,374,375,376,377,378,379,380,381,382,383,384,385,386,387,388,389,390,391,392,393,394,395,396,397,398,399,400,401,402,403,404,405,406,407,408,409,410,411,412,413,414,415,416,417,418,419,420,421,422,423,424,425,426,427,428,429,430,431,432,433,434,435,436,437,438,439,440,441,442,443,444,445,446,447,448,449,450,451,452,453,454,455,456,457,458,459,460,461,462,463,464,465,466,467,468,469,470,471,472,473,474,475,476,477,478,479,480,481,482,483,484,485,486,487,488,489,490,491,492,493,494,495,496,497,498,499,500,501,502,503,504,505,506,507,508,509,510,511,512,513,514,515,516,517,518,519,520,521,522,523,524,525,526,527,528,529,530,531,532,533,534,535,536,537,538,539,540,541,542,543,544,545,546,547,548,549,550,551,552,553,554,555,556,557,558,559,560,561,562,563,564,565,566,567,568,569,570,571,572,573,574,575,576,577,578,579,580,581,582,583,584,585,586,587,588,589,590,591,592,593,594,595,596,597,598,599,600,601,602,603,604,605,606,607,608,609,610,611,612,613,614,615,616,617,618,619,620,621,622,623,624,625,626,627,628,629,630,631,632,633,634,635,636,637,638,639,640,641,642,643,644,645,646,647,648,649,650,651,652,653,654,655,656,657,658,659,660,661,662,663,664,665,666,667,668,669,670,671,672,673,674,675,676,677,678,679,680,681,682,683,684,685,686,687,688,689,690,691,692,693,694,695,696,697,698,699,700,701,702,703,704,705,706,707,708,709,710,711,712,713,714,715,716,717,718,719,720,721,722,723,724,725,726,727,728,729,730,731,732,733,734,735,736,737,738,739,740,741,742,743,744,745,746,747,748,749,750,751,752,753,754,755,756,757,758,759,760,761,762,763,764,765,766,767,768,769,770,771,772,773,774,775,776,777,778,779,780,781,782,783,784,785,786,787,788,789,790,791,792,793,794,795,796,797,798,799,800,801,802,803,804,805,806,807,808,809,810,811],\"level_0\":[0,1,2,3,4,5,6,7,8,9,10,11,12,13,14,15,16,17,18,19,20,21,22,23,24,25,26,27,28,29,30,31,32,33,34,35,36,37,38,39,40,41,42,43,44,45,46,47,48,49,50,51,52,53,54,55,56,57,58,59,60,61,62,63,64,65,66,67,68,69,70,71,72,73,74,75,76,77,78,79,80,81,82,83,84,85,86,87,88,89,90,91,92,93,94,95,96,97,98,99,100,101,102,103,104,105,106,107,108,109,110,111,112,113,114,115,116,117,118,119,120,121,122,123,124,125,126,127,128,129,130,131,132,133,134,135,136,137,138,139,140,141,142,143,144,145,146,147,148,149,150,151,152,153,154,155,156,157,158,159,160,161,162,163,164,165,166,167,168,169,170,171,172,173,174,175,176,177,178,179,180,181,182,183,184,185,186,187,188,189,190,191,192,193,194,195,196,197,198,199,200,201,202,203,204,205,206,207,208,209,210,211,212,213,214,215,216,217,218,219,220,221,222,223,224,225,226,227,228,229,230,231,232,233,234,235,236,237,238,239,240,241,242,243,244,245,246,247,248,249,250,251,252,253,254,255,256,257,258,259,260,261,262,263,264,265,266,267,268,269,270,271,272,273,274,275,276,277,278,279,280,281,282,283,284,285,286,287,288,289,290,291,292,293,294,295,296,297,298,299,300,301,302,303,304,305,306,307,308,309,310,311,312,313,314,315,316,317,318,319,320,321,322,323,324,325,326,327,328,329,330,331,332,333,334,335,336,337,338,339,340,341,342,343,344,345,346,347,348,349,350,351,352,353,354,355,356,357,358,359,360,361,362,363,364,365,366,367,368,369,370,371,372,373,374,375,376,377,378,379,380,381,382,383,384,385,386,387,388,389,390,391,392,393,394,395,396,397,398,399,400,401,402,403,404,405,406,407,408,409,410,411,412,413,414,415,416,417,418,419,420,421,422,423,424,425,426,427,428,429,430,431,432,433,434,435,436,437,438,439,440,441,442,443,444,445,446,447,448,449,450,451,452,453,454,455,456,457,458,459,460,461,462,463,464,465,466,467,468,469,470,471,472,473,474,475,476,477,478,479,480,481,482,483,484,485,486,487,488,489,490,491,492,493,494,495,496,497,498,499,500,501,502,503,504,505,506,507,508,509,510,511,512,513,514,515,516,517,518,519,520,521,522,523,524,525,526,527,528,529,530,531,532,533,534,535,536,537,538,539,540,541,542,543,544,545,546,547,548,549,550,551,552,553,554,555,556,557,558,559,560,561,562,563,564,565,566,567,568,569,570,571,572,573,574,575,576,577,578,579,580,581,582,583,584,585,586,587,588,589,590,591,592,593,594,595,596,597,598,599,600,601,602,603,604,605,606,607,608,609,610,611,612,613,614,615,616,617,618,619,620,621,622,623,624,625,626,627,628,629,630,631,632,633,634,635,636,637,638,639,640,641,642,643,644,645,646,647,648,649,650,651,652,653,654,655,656,657,658,659,660,661,662,663,664,665,666,667,668,669,670,671,672,673,674,675,676,677,678,679,680,681,682,683,684,685,686,687,688,689,690,691,692,693,694,695,696,697,698,699,700,701,702,703,704,705,706,707,708,709,710,711,712,713,714,715,716,717,718,719,720,721,722,723,724,725,726,727,728,729,730,731,732,733,734,735,736,737,738,739,740,741,742,743,744,745,746,747,748,749,750,751,752,753,754,755,756,757,758,759,760,761,762,763,764,765,766,767,768,769,770,771,772,773,774,775,776,777,778,779,780,781,782,783,784,785,786,787,788,789,790,791,792,793,794,795,796,797,798,799,800,801,802,803,804,805,806,807,808,809,810,811],\"url\":[\"www.ppbi.com\",\"www.neostx.com\",\"www.solaredge.com\",\"www.buenaventura.com\",\"www.brazil-minerals.com\",\"www.americanhomes4rent.com\",\"www.accenture.com\",\"www.ball.com\",\"www.theprovidentbank.com\",\"www.wipro.com\",\"www.lomanegra.com\",\"www.firstcitizens.com\",\"www.astrazeneca.com\",\"www.intgla.com\",\"biostage.com\",\"www.alliancedata.com\",\"www.westernunion.com\",\"www.milacron.com\",\"www.cubic.com\",\"www.tivo.com\",\"www.koss.com\",\"www.creditriskmonitor.com\",\"www.tevapharm.com\",\"www.bluespherecorporate.com\",\"www.1stsource.com\",\"www.accessnationalbank.com\",\"www.smartsand.com\",\"www.shos.com\",\"www.firstnational.ca\",\"www.opco.com\",\"www.7genergy.com\",\"www.winmarkcorporation.com\",\"www.emeraldexpositions.com\",\"www.oxy.com\",\"fibrocell.com\",\"www.pgecorp.com\",\"www.secondcup.com\",\"paratekpharma.com\",\"www.itron.com\",\"www.scor.com\",\"www.telefonica.com\",\"www.usautoparts.net\",\"www.kimcorealty.com\",\"www.atlassian.com\",\"www.expediainc.com\",\"www.realnetworks.com\",\"www.sabesp.com.br\",\"www.atco.com\",\"www.boingo.com\",\"www.pointer.com\",\"ir.manitowoc.com\",\"www.spragueenergy.com\",\"www.borgwarner.com\",\"www.installedbuildingproducts.com\",\"www.LogMeInInc.com\",\"www.arbutusbio.com\",\"www.axon.com\",\"www.nabors.com\",\"www.spglobal.com\",\"www.pacb.com\",\"www.continental-bp.com\",\"www.assuredguaranty.com\",\"www.masco.com\",\"www.westerngas.com\",\"www.athabascaminerals.com\",\"www.macatawabank.com\",\"www.ceapro.com\",\"www.chartwell.com\",\"www.miteksystems.com\",\"www.roberthalf.com\",\"enlk.enlink.com/investor\",\"www.junex.ca\",\"www.cocrystalpharma.com\",\"www.huronconsultinggroup.com\",\"www.bostonti.com\",\"www.newmediainv.com\",\"www.nhldcorp.com\",\"www.arraybiopharma.com\",\"www.pgtinnovations.com\",\"www.martinmarietta.com\",\"www.coopertire.com\",\"www.giii.com\",\"www.dexterasurgical.com\",\"www.yoursbfinancial.com\",\"www.lithia.com\",\"www.encompasshealth.com.\",\"www.fluidigm.com\",\"bbu.brookfield.com\",\"www.newzealandenergy.com\",\"www.k-brolinen.com\",\"www.andeavor.com\",\"www.entegris.com\",\"www.idexx.com\",\"www.sjwgroup.com\",\"www.caesars.com\",\"www.firstsolar.com\",\"www.dime.com\",\"www.prontoforms.com\",\"www.drpeppersnapplegroup.com\",\"www.tellurianinc.com\",\"www.thecheesecakefactory.com\",\"www.iac.com\",\"www.tahoeresources.com\",\"www.daseke.com\",\"www.spplus.com\",\"www.bankucb.com\",\"www.sanmina.com\",\"www.renasant.com\",\"www.bojangles.com\",\"www.valleynationalbank.com\",\"www.forwardair.com\",\"www.norandaincomefund.com\",\"www.ringcentral.com\",\"www.sobanco.com\",\"www.quaintoak.com\",\"www.voyagertherapeutics.com\",\"invesque.com\",\"www.kemper.com\",\"www.mcdermott.com\",\"www.cabotcmp.com\",\"www.amerisbank.com\",\"www.repligen.com\",\"investors.avaya.com/home/default.aspx\",\"www.nwnatural.com\",\"www.univar.com\",\"www.uniti.com\",\"www.lithiumamericas.com\",\"www.alamo-group.com\",\"www.parkland.ca\",\"www.shoprite.com\",\"www.crosswindsinc.com\",\"www.tabularasahealthcare.com\",\"www.lockheedmartin.com\",\"www.cemtrex.com\",\"www.heritagepci.com\",\"www.lbfoster.com\",\"www.cssentertainment.com\",\"www.thehackettgroup.com\",\"www.butterfieldgroup.com\",\"www.oaktreespecialtylending.com\",\"www.innospecinc.com\",\"www.enscoplc.com\",\"www.shentel.com\",\"www.autoliv.com\",\"www.gevo.com\",\"www.barrick.com\",\"www.alarisroyalty.com\",\"www.campbellsoupcompany.com\",\"www.thetradedesk.com\",\"www.shopify.ca\",\"www.hrggroup.com\",\"www.smartandfinal.com\",\"www.ameri100.com\",\"www.smartglass.com\",\"www.omegahealthcare.com\",\"www.edcpub.com\",\"www.geogroup.com\",\"www.mastec.com\",\"www.rmrgroup.com\",\"www.dream.ca\",\"www.titanlogix.com\",\"www.wendys.com/en-us/about-wendys\",\"www.tcpipelineslp.com\",\"www.autoweb.com\",\"www.supind.com\",\"www.freshdelmonte.com\",\"www.umc.com\",\"www.geodrillgh.com\",\"www.ceragon.com\",\"avanos.com\",\"www.bridgepointeducation.com\",\"www.51talk.com\",\"www.cytokinetics.com\",\"www.hain.com\",\"www.albemarle.com\",\"www.firstindustrial.com\",\"www.enablence.com\",\"www.principal.com\",\"www.infi.com\",\"www.bhge.com\",\"www.wexinc.com\",\"www.aa.com\",\"www.turkcell.com.tr\",\"www.nustarenergy.com\",\"www.corby.ca\",\"www.mvbbanking.com\",\"www.agf.com\",\"www.quanex.com\",\"www.semileds.com\",\"www.transmontaignepartners.com\",\"www.mdly.com\",\"www.thebankofgreenecounty.com\",\"www.eastgroup.net\",\"www.cellcom.co.il\",\"www.pamtransport.com\",\"www.mtbc.com\",\"www.ccurholdings.com\",\"www.lci1.com\",\"www.anthera.com\",\"www.geospace.com\",\"www.laddercapital.com\",\"www.bancorpsouth.com\",\"www.bcbonline.com\",\"www.apolloreit.com\",\"www.renre.com\",\"2u.com\",\"www.verizon.com\",\"www.t2biosystems.com\",\"www.almadenminerals.com\",\"www.bbt.com\",\"www.tactilemedical.com\",\"www.vrtx.com\",\"www.endo.com\",\"www.endologix.com\",\"www.obalon.com\",\"www.pnc.com\",\"www.citizensinc.com\",\"www.fonar.com\",\"www.marriott.com\",\"www.tso3.com\",\"www.commsystems.com\",\"www.pkoh.com\",\"www.activisionblizzard.com\",\"www.columbiabank.com\",\"www.ctg.com\",\"www.ciner.us.com\",\"www.fcx.com\",\"www.genesishcc.com\",\"www.orasure.com\",\"www.pricesmart.com\",\"www.cit.com\",\"www.newport-exploration.com\",\"www.jnj.com\",\"www.brixmor.com\",\"www.acuityads.com\",\"www.resolutefp.com\",\"www.techtarget.com\",\"www.kearnybank.com\",\"www.sandyspringbank.com\",\"www.shiftpixy.com\",\"www.grancolombiagold.com\",\"www.IndependentBank.com\",\"www.ingredion.com\",\"www.rosehillresources.com\",\"www.aptevotherapeutics.com\",\"www.emcorgroup.com\",\"www.autohome.com.cn\",\"www.anadarko.com\",\"www.bottomline.com\",\"www.molsoncoors.com\",\"www.tailoredbrands.com\",\"www.eagleus.com\",\"www.patternenergy.com\",\"www.advaxis.com\",\"www.rowan.com\",\"www.kkr.com\",\"www.dmcglobal.com\",\"www.gentherm.com\",\"www.qualstar.com\",\"www.horizonglobal.com\",\"www.pragroup.com\",\"www.hyster-yale.com\",\"www.curaegis.com\",\"www.villagebank.com\",\"www.icdrilling.com\",\"www.te.com\",\"www.garmin.com\",\"www.femsa.com\",\"www.celgene.com\",\"www.sinopec.com\",\"www.rljentertainment.com\",\"www.vale.com\",\"www.goldfieldcorp.com\",\"www.hlcorp.ca\",\"www.wesdome.com\",\"www.floridacommunitybank.com\",\"www.celestica.com\",\"www.kadant.com\",\"www.summerinfant.com\",\"altiusminerals.com\",\"www.ftdcompanies.com\",\"www.valeritas.com\",\"www.gbcholdings.com\",\"www.thehartford.com\",\"www.conatuspharma.com\",\"www.phillips66.com\",\"www.cht.com.tw\",\"www.chinookenergyinc.com\",\"www.cannabissativainc.com\",\"www.ziopharm.com\",\"www.magellanlp.com\",\"www.hilltop-holdings.com\",\"www.vectrus.com\",\"www.pharmabioserv.com\",\"www.FrontYardResidential.com\",\"www.hawaiiantel.com\",\"www.suburbanpropane.com\",\"www.callawaygolf.com\",\"www.hunteroil.com\",\"www.analog.com\",\"www.msasafety.com\",\"www.molinahealthcare.com\",\"www.dermira.com\",\"www.ryanair.com\",\"www.unither.com\",\"www.mace.com\",\"www.genmarkdx.com\",\"www.asuresoftware.com\",\"investors.jamiesonwellness.com\",\"www.knoll.com\",\"www.chegg.com\",\"www.ussteel.com\",\"www.blackridgeoil.com\",\"www.grace.com\",\"www.xtantmedical.com\",\"www.tourmalineoil.com\",\"www.musclepharm.com\",\"www.cummins.com\",\"www.westpharma.com\",\"www.hiltonworldwide.com\",\"www.solium.com\",\"www.sodastream.com\",\"www.growlifeinc.com\",\"www.thermofisher.com\",\"www.gopro.com\",\"www.kamada.com\",\"www.rcmt.com\",\"www.layne.com\",\"www.reatapharma.com\",\"www.tearlab.com\",\"www.fglife.bm\",\"www.vermilionenergy.com\",\"www.rubicontechnology.com\",\"www.rsac.com\",\"www.1800petmeds.com\",\"corporate.discovery.com\",\"www.cn.ca\",\"www.aercap.com\",\"www.aam.com\",\"www.dcpmidstream.com\",\"www.anipharmaceuticals.com\",\"www.inspire-md.com\",\"www.intlfcstone.com\",\"www.elmirasavingsbank.com\",\"www.interface.com\",\"www.blueprintmedicines.com\",\"www.luxfer.com\",\"www.exlservice.com\",\"www.blackrockbkcc.com\",\"www.csi360.com\",\"www.graniteoil.ca\",\"www.circor.com\",\"www.amdocs.com\",\"www.csicompressco.com\",\"www.zoetis.com\",\"www.laureate.net\",\"www.ioufinancial.com\",\"www.hcpi.com\",\"www.csn.com.br\",\"www.kelsotech.com\",\"www.savaria.com\",\"www.fatetherapeutics.com\",\"www.vectren.com\",\"www.vivintsolar.com\",\"www.stifel.com\",\"www.nwhm.com\",\"www.globalpaymentsinc.com\",\"www.ballantynestrong.com\",\"www.kopin.com\",\"www.catchmark.com\",\"www.abercrombie.com\",\"www.farmerbros.com\",\"www.urthecast.com\",\"www.haynesintl.com\",\"www.esquirebank.com\",\"www.insight.com\",\"www.loews.com\",\"www.cvshealth.com\",\"www.barrettbusiness.com\",\"ir.essabank.com\",\"www.lowes.com\",\"www.pacifichealthcareorganization.com\",\"www.pldt.com\",\"www.jssb.com\",\"www.halconresources.com\",\"www.idacorpinc.com\",\"www.waynebank.com\",\"www.nvrinc.com\",\"www.hudson.com\",\"www.commscope.com\",\"www.bilibili.com\",\"www.apolloendo.com\",\"www.appfolioinc.com\",\"www.caci.com\",\"www.marriottvacationsworldwide.com\",\"www.scotiabank.com\",\"www.greatamericanbancorp.com\",\"www.envestnet.com\",\"superiorgroupofcompanies.com\",\"www.aptar.com\",\"www.lilisenergy.com\",\"www.freshvending.com\",\"www.hickok-inc.com\",\"www.averydennison.com\",\"www.russelmetals.com\",\"www.idt.net\",\"www.brighthorizons.com\",\"www.vocera.com\",\"www.imperva.com\",\"www.infineon.com\",\"www.marchex.com\",\"www.peyto.com\",\"www.trtn.com\",\"www.alicoinc.com\",\"www.expeditors.com\",\"www.jetpaycorp.com\",\"www.apptio.com\",\"www.tricanwellservice.com\",\"www.echelon.com\",\"www.golarlng.com\",\"www.chk.com\",\"www.concho.com\",\"www.echeloninsurance.ca\",\"www.churchdwight.com\",\"www.meritagehomes.com\",\"www.isg-one.com\",\"www.viewray.com\",\"www.laurentianbank.com\",\"www.tpvg.com\",\"www.enstargroup.com\",\"www.chf-solutions.com\",\"www.arcusbio.com\",\"www.extendicare.com\",\"www.welbilt.com\",\"www.colgate.com/en/us/oc/\",\"www.icadmed.com\",\"www.burlingtoncoatfactory.com\",\"group.bnpparibas\",\"www.northerntrust.com\",\"www.hudsongroup.com\",\"www.argolimited.com\",\"www.ashfordinc.com\",\"www.optiva.com\",\"www.amphastar.com\",\"www.compassminerals.com\",\"www.towerinternational.com\",\"www.fnbh.com\",\"www.cimarex.com\",\"www.perkinelmer.com\",\"www.freedombankva.com\",\"www.etsy.com\",\"www.hasbro.com\",\"www.loxooncology.com\",\"www.caladrius.com\",\"www.signatureny.com\",\"www.fmbankva.com\",\"www.hammondpowersolutions.com\",\"www.dsssecure.com\",\"www.provanthealth.com\",\"www.basf.com\",\"www.rrdonnelley.com\",\"intellicheck.com\",\"www.wfsinc.com\",\"www.mantech.com\",\"www.isabellabank.com\",\"www.wdc.com\",\"www.nationalbankofcommerce.com\",\"www.sonabank.com\",\"www.telus.com\",\"www.dxpe.com\",\"www.everi.com\",\"www.hometownbankva.com\",\"www.amarincorp.com\",\"www.fluentco.com\",\"crisprtx.com\",\"www.akorn.com\",\"www.cesenergysolutions.com\",\"www.fluor.com\",\"www.cbre.com\",\"www.frontier.com\",\"www.nevsun.com\",\"www.waysidetechnology.com\",\"www.ubnt.com\",\"www.ramcoproperties.com\",\"www.exponent.com\",\"www.kirinholdings.co.jp\",\"www.charlesriverassociates.com\",\"www.textron.com\",\"www.trovagene.com\",\"www.revance.com\",\"www.brightcove.com\",\"www.schnitzersteel.com\",\"www.ansys.com\",\"www.archcoal.com\",\"www.midlandsb.com\",\"www.mirati.com\",\"www.cmegroup.com\",\"www.tsmc.com\",\"www.blacklinesafety.com\",\"www.enterpriseproducts.com\",\"www.wellcare.com\",\"www.vblrx.com\",\"www.intouchcompany.com\",\"www.teradyne.com\",\"www.autodesk.com\",\"www.virnetx.com\",\"www.broadvision.com\",\"www.tesarobio.com\",\"www.suntrust.com\",\"www.tandyleather.com\",\"www.orrstown.com\",\"parkelectro.com\",\"www.diamondoffshore.com\",\"www.zayo.com\",\"www.enterprisebanking.com\",\"www.equinoxgold.com\",\"www.superiorplus.com\",\"www.onelibertyproperties.com\",\"cvgrp.com\",\"www.bemis.com\",\"www.partycity.com\",\"www.selectbank.com\",\"www.ttec.com\",\"www.erieinsurance.com\",\"www.firstbusiness.com\",\"www.ciena.com\",\"www.veracyte.com\",\"www.naturessunshine.com\",\"www.genworth.com\",\"www.scripps.com\",\"www.pieris.com\",\"www.franklincovey.com\",\"www.torchmarkcorp.com\",\"www.regeneron.com\",\"www.soleno.life\",\"www.tsys.com\",\"www.digitalallyinc.com\",\"www.terangagold.com\",\"www.curtisswright.com\",\"www.carlyle.com\",\"www.icesports.com\",\"www.netelement.com\",\"www.magellan.aero\",\"www.healthiercmc.com\",\"www.greenfields-petroleum.com\",\"www.akceatx.com\",\"www.hydrogenics.com\",\"www.sensient.com\",\"www.cmfn-inc.com\",\"gdi.com\",\"www.technipfmc.com\",\"www.gwgh.com\",\"www.paramount-group.com\",\"www.empireresorts.com\",\"www.washingtonprime.com\",\"www.nokia.com\",\"www.mercadolibre.com\",\"www.avangrid.com\",\"www.diodes.com\",\"www.conchaytoro.com\",\"www.togrp.com\",\"www.materion.com\",\"www.ussilica.com\",\"www.pmbank.com\",\"www.asaltd.com\",\"www.otcmarkets.com\",\"www.kaman.com\",\"www.daimler.com\",\"www.salesforce.com\",\"www.epam.com\",\"www.duke-energy.com\",\"www.trackgrp.com\",\"www.navient.com\",\"www.pnfp.com\",\"www.portlandgeneral.com\",\"www.nblenergy.com\",\"www.kt.com\",\"www.otelco.com\",\"www.miragentherapeutics.com\",\"www.sunocolp.com\",\"www.concertpharma.com\",\"www.igld.com\",\"www.deepwater.com\",\"www.welltower.com\",\"logiqasset.com\",\"www.firstrepublic.com\",\"www.braultetmartineau.com\",\"www.caviumnetworks.com\",\"www.meritor.com\",\"www.randcapital.com\",\"www.darlingii.com\",\"www.kirbycorp.com\",\"www.synaptics.com\",\"www.xcelenergy.com\",\"www.blackhawkcorp.ca\",\"www.cargojet.com\",\"www.hnicorp.com\",\"www.danaher.com\",\"www.lightinthebox.com\",\"www.lifepointhealth.net\",\"www.stepenergyservices.com\",\"www.kapstonepaper.com\",\"www.kimball.com\",\"www.chemocentryx.com\",\"www.tamarackvalley.ca\",\"www.lemaitre.com\",\"www.precisiondrilling.com\",\"www.lifeloc.com\",\"www.ceva-dsp.com\",\"www.yum.com\",\"www.libertyproperty.com\",\"www.jbssinc.com\",\"www.athensfederal.com\",\"www.buildwithbmc.com\",\"www.chs.net\",\"www.kraftheinzcompany.com\",\"www.koppers.com\",\"www.kla-tencor.com\",\"www.appian.com\",\"www.rockwellmed.com\",\"www.iberiabank.com\",\"www.cvcb.com\",\"www.eagleplains.com\",\"www.sandridgeenergy.com\",\"www.harborone.com\",\"www.americanmidstream.com\",\"www.cbi.com\",\"www.oreillyauto.com\",\"www.sequans.com\",\"www.ge.com\",\"www.nexteraenergy.com\",\"www.swn.com\",\"www.denalitherapeutics.com\",\"www.harmonicinc.com\",\"www.myndanalytics.com\",\"www.adecoagro.com\",\"www.bonanzacrk.com\",\"www.livanova.com\",\"www.paradisefruitco.com\",\"www.aggrowth.com\",\"www.amazon.com\",\"www.kvh.com\",\"www.versapay.com\",\"www.preformed.com\",\"www.enphase.com\",\"www.merchantsbankofindiana.com\",\"www.quotemedia.com\",\"www.extremenetworks.com\",\"www.mazorrobotics.com\",\"www.cypress.com\",\"www.picoholdings.com\",\"www.tronox.com\",\"www.exeloncorp.com\",\"www.archrock.com/aplp\",\"www.aetna.com\",\"www.exactearth.com\",\"www.acorda.com\",\"www.freightcaramerica.com\",\"www.marten.com\",\"www.lee.net\",\"www.aquabounty.com\",\"www.westmoreland.com\",\"www.rosettastone.com\",\"www.maxlinear.com\",\"www.jrgh.net\",\"www.bcapre.bm\",\"www.optibase-holdings.com\",\"www.silganholdings.com\",\"www.myprovident.com\",\"www.agios.com\",\"www.pennvirginia.com\",\"www.latticebiologics.com\",\"www.astecindustries.com\",\"www.columbia.reit\",\"www.tollbrothers.com\",\"www.nwhreit.com\",\"www.mauiland.com\",\"www.jazzpharma.com\",\"www.tileshop.com\",\"www.washtrust.com\",\"www.tripadvisor.com\",\"www.interxion.com\",\"www.ravenind.com\",\"www.gentex.com\",\"www.stantec.com\",\"www.clncredit.com\",\"regionalhealthproperties.com\",\"www.blucora.com\",\"www.ovbc.com\",\"www.ebay.com\",\"www.1800flowers.com\",\"www.intercontinentalexchange.com\",\"www.bqewater.com\",\"www.athersys.com\",\"www.buildabear.com\",\"www.resonant.com\",\"www.carrols.com\",\"www.qep.com\",\"www.npbankshares.com\",\"www.sqidiagnostics.com\",\"www.stonecastle-financial.com\",\"www.incyte.com\",\"www.fulgentgenetics.com\",\"www.entercom.com\",\"www.accelerize.com\",\"corp.turtlebeach.com\",\"www.unitedhealthgroup.com\",\"www.pfsweb.com\",\"www.alderbio.com\",\"www.swseedco.com\",\"www.maac.com\",\"www.fbhs.com\",\"www.mlgreenworld.com\",\"www.finning.com\",\"www.auo.com\",\"www.herbalife.com\",\"www.deepdowninc.com\",\"www.nninc.com\",\"www.rockwellautomation.com\",\"ir.yandex.com\",\"www.rigel.com\",\"www.pplweb.com\",\"www.westrock.com\",\"www.greenbank.com\",\"corpo.cogeco.com\",\"www.asgn.com\",\"www.lancastercolony.com\",\"www.suncoke.com\",\"www.alliantenergy.com\",\"www.woodward.com\",\"www.therapeuticsmd.com\",\"www.townsquaremedia.com\",\"www.doverdowns.com\",\"www.opiant.com\",\"www.evhc.net\",\"www.vfc.com\",\"www.airproducts.com\",\"www.trex.com\",\"www.edp.pt\",\"www.thebeneficial.com\",\"www.connection.com\",\"www.gartner.com\",\"www.owens-minor.com\",\"www.nexeosolutions.com\",\"www.thirdfederal.com\",\"www.steadymed.com\",\"www.marvell.com\",\"www.merck.com\",\"www.financialengines.com\",\"www.primoriscorp.com\",\"www.berkshirehathaway.com\",\"www.piperjaffray.com\",\"www.tpicomposites.com\",\"www.everbridge.com\",\"www.footlocker-inc.com\",\"www.ngkf.com\",\"www.greatwestlifeco.com\",\"www.mindcti.com\",\"www.hookerfurniture.com\",\"www.bio-key.com\",\"www.fortinet.com\",\"www.ssrmining.com\",\"www.digitalrealty.com\",\"www.baybanks.com\",\"www.helixesg.com\",\"www.corporatecapitaltrust.com\",\"www.neogenomics.com\",\"ampcopgh.com\",\"www.mobileiron.com\",\"www.seacoastbanking.com\",\"www.alteryx.com\",\"www.tiffany.com\",\"www.siriusxm.com\",\"www.mccoyglobal.com\",\"www.flagstar.com\",\"www.bsmwireless.com\",\"www.intrepidpotash.com\",\"www.rpxcorp.com\",\"www.hubspot.com\",\"www.3m.com\",\"www.lightpath.com\",\"www.brookfieldinfrastructure.com\",\"www.chinatelecom-h.com\",\"www.abbvie.com\",\"www.ibc.com\",\"www.bc.com\",\"www.goldcorp.com\",\"www.timken.com\",\"www.equitablebank.ca\",\"www.alaskaair.com\",\"www.synchronyfinancial.com\",\"www.lendingclub.com\",\"www.gbrx.com\",\"www.smithmicro.com\",\"www.aceruspharma.com\",\"www.cvrrefining.com\",\"www.hornbeckoffshore.com\",\"www.bankpatriot.com\",\"www.nao.bm\",\"www.lakecitybank.com\",\"www.cnhindustrial.com\",\"www.perpetualenergyinc.com\",\"www.aresmgmt.com\",\"www.bromptongroup.com\",\"www.allstate.com\",\"www.scana.com\",\"www.kornit-digital.com\",\"www.schoolspecialty.com\",\"www.sailpoint.com\",\"www.intersections.com\",\"www.dynasil.com\",\"www.reliantbank.com\"],\"x\":{\"__ndarray__\":\"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\",\"dtype\":\"float32\",\"order\":\"little\",\"shape\":[812]},\"y\":{\"__ndarray__\":\"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\",\"dtype\":\"float32\",\"order\":\"little\",\"shape\":[812]}},\"selected\":{\"id\":\"1052\"},\"selection_policy\":{\"id\":\"1051\"}},\"id\":\"1003\",\"type\":\"ColumnDataSource\"},{\"attributes\":{},\"id\":\"1009\",\"type\":\"LinearScale\"},{\"attributes\":{},\"id\":\"1011\",\"type\":\"LinearScale\"},{\"attributes\":{},\"id\":\"1005\",\"type\":\"DataRange1d\"},{\"attributes\":{},\"id\":\"1024\",\"type\":\"SaveTool\"},{\"attributes\":{\"fill_alpha\":{\"value\":0.2},\"fill_color\":{\"field\":\"color\"},\"hatch_alpha\":{\"value\":0.2},\"hatch_color\":{\"field\":\"color\"},\"line_alpha\":{\"value\":0.2},\"line_color\":{\"field\":\"color\"},\"size\":{\"value\":2},\"x\":{\"field\":\"x\"},\"y\":{\"field\":\"y\"}},\"id\":\"1040\",\"type\":\"Circle\"},{\"attributes\":{\"coordinates\":null,\"group\":null},\"id\":\"1043\",\"type\":\"Title\"},{\"attributes\":{\"tools\":[{\"id\":\"1021\"},{\"id\":\"1022\"},{\"id\":\"1023\"},{\"id\":\"1024\"},{\"id\":\"1025\"},{\"id\":\"1026\"},{\"id\":\"1028\"}]},\"id\":\"1029\",\"type\":\"Toolbar\"},{\"attributes\":{},\"id\":\"1025\",\"type\":\"ResetTool\"},{\"attributes\":{},\"id\":\"1026\",\"type\":\"HelpTool\"},{\"attributes\":{},\"id\":\"1046\",\"type\":\"BasicTickFormatter\"},{\"attributes\":{},\"id\":\"1047\",\"type\":\"AllLabels\"},{\"attributes\":{},\"id\":\"1021\",\"type\":\"PanTool\"},{\"attributes\":{},\"id\":\"1014\",\"type\":\"BasicTicker\"},{\"attributes\":{},\"id\":\"1022\",\"type\":\"WheelZoomTool\"},{\"attributes\":{\"axis\":{\"id\":\"1013\"},\"coordinates\":null,\"group\":null,\"ticker\":null,\"visible\":false},\"id\":\"1016\",\"type\":\"Grid\"},{\"attributes\":{},\"id\":\"1052\",\"type\":\"Selection\"},{\"attributes\":{\"coordinates\":null,\"data_source\":{\"id\":\"1003\"},\"glyph\":{\"id\":\"1038\"},\"group\":null,\"hover_glyph\":null,\"muted_glyph\":{\"id\":\"1040\"},\"nonselection_glyph\":{\"id\":\"1039\"},\"view\":{\"id\":\"1042\"}},\"id\":\"1041\",\"type\":\"GlyphRenderer\"},{\"attributes\":{\"source\":{\"id\":\"1003\"}},\"id\":\"1042\",\"type\":\"CDSView\"}],\"root_ids\":[\"1004\"]},\"title\":\"Bokeh Application\",\"version\":\"2.4.2\"}};\n",
       "  const render_items = [{\"docid\":\"78c0640a-4a34-464e-8d35-874f9b867dfb\",\"root_ids\":[\"1004\"],\"roots\":{\"1004\":\"8b1c6180-4840-4809-b32d-f5cfd157376a\"}}];\n",
       "  root.Bokeh.embed.embed_items_notebook(docs_json, render_items);\n",
       "\n",
       "  }\n",
       "  if (root.Bokeh !== undefined) {\n",
       "    embed_document(root);\n",
       "  } else {\n",
       "    let attempts = 0;\n",
       "    const timer = setInterval(function(root) {\n",
       "      if (root.Bokeh !== undefined) {\n",
       "        clearInterval(timer);\n",
       "        embed_document(root);\n",
       "      } else {\n",
       "        attempts++;\n",
       "        if (attempts > 100) {\n",
       "          clearInterval(timer);\n",
       "          console.log(\"Bokeh: ERROR: Unable to run BokehJS code because BokehJS library is missing\");\n",
       "        }\n",
       "      }\n",
       "    }, 10, root)\n",
       "  }\n",
       "})(window);"
      ],
      "application/vnd.bokehjs_exec.v0+json": ""
     },
     "metadata": {
      "application/vnd.bokehjs_exec.v0+json": {
       "id": "1004"
      }
     },
     "output_type": "display_data"
    }
   ],
   "source": [
    "# interactive plot\n",
    "output_notebook()\n",
    "hover_df = embeddings_df.reset_index()\n",
    "hover_df[\"index\"] = hover_df.index\n",
    "p = umap.plot.interactive(mapper, labels=hover_df[\"index\"], hover_data=hover_df[[\"index\",\"url\"]], point_size=2)\n",
    "umap.plot.show(p)"
   ]
  },
  {
   "cell_type": "markdown",
   "metadata": {},
   "source": [
    "Explore the plots a bit. Can you observe any patterns in the results? Did you expect more or less variation? What do you make of the different clusters?"
   ]
  },
  {
   "cell_type": "markdown",
   "metadata": {},
   "source": [
    "# Exercises\n",
    "  * Going back to the keyword-in-context exercise, consider several additional keywords that may give you insight into how different companies are thinking about privacy. How often, for instance, do you see the word \"rights\" used? How often in conjunction with the word privacy? Do you find evidence of considerations for fairness? \n",
    "  * We've seen that the reading level for most privacy policies is quite high, but it's often a little difficult to interpret what, for example, a document written at a grade 14 reading level looks like. To gain some intuition, compute readability scores for some of your own writing (e.g., a prior course paper) and/or for some page on Wikipedia (you can use python, or do a quick Google search for an online readability calculator). How does the writing level of those compare to the privacy policies? \n",
    "  * There is a general presumption that many companies use fairly standardized (or boilerplate) privacy policies that are aimed primarily at avoiding legal liability, and that do not describe their particular data practices in detail. Do we see support for these views in the data? Do the privacy policies seem more or less variable than you expected? What are the implications for customers and other stakeholders?\n",
    "  * Spend some time exploring the data using any of the techniques above, or your own favorite analytical approach or tools. What additional insights can we learn about privacy policies?"
   ]
  }
 ],
 "metadata": {
  "kernelspec": {
   "display_name": "Python 3",
   "language": "python",
   "name": "python3"
  },
  "language_info": {
   "codemirror_mode": {
    "name": "ipython",
    "version": 3
   },
   "file_extension": ".py",
   "mimetype": "text/x-python",
   "name": "python",
   "nbconvert_exporter": "python",
   "pygments_lexer": "ipython3",
   "version": "3.9.10"
  }
 },
 "nbformat": 4,
 "nbformat_minor": 4
}
